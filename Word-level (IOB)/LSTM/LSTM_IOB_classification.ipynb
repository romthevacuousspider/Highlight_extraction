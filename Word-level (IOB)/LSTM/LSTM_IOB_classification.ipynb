{
  "nbformat": 4,
  "nbformat_minor": 0,
  "metadata": {
    "colab": {
      "provenance": [],
      "gpuType": "L4"
    },
    "kernelspec": {
      "name": "python3",
      "display_name": "Python 3"
    },
    "language_info": {
      "name": "python"
    },
    "accelerator": "GPU"
  },
  "cells": [
    {
      "cell_type": "markdown",
      "source": [
        "<h1 style=\"text-align: center;\">IOB + LSTM</h1>"
      ],
      "metadata": {
        "id": "DUiBre2qYQEV"
      }
    },
    {
      "cell_type": "code",
      "execution_count": 1,
      "metadata": {
        "colab": {
          "base_uri": "https://localhost:8080/"
        },
        "id": "1DckS66GSv86",
        "outputId": "b59efd12-3600-43ef-83bb-518fd378fa45"
      },
      "outputs": [
        {
          "output_type": "stream",
          "name": "stdout",
          "text": [
            "Mounted at /content/drive\n"
          ]
        }
      ],
      "source": [
        "# Connect to drive\n",
        "import os, sys\n",
        "from google.colab import drive\n",
        "drive.mount('/content/drive')\n",
        "colab_path = '/content/notebooks'\n",
        "os.symlink('/content/drive/My Drive/Colab Notebooks', colab_path)\n",
        "sys.path.insert(0,colab_path)"
      ]
    },
    {
      "cell_type": "markdown",
      "source": [
        "# LSTM Based on word"
      ],
      "metadata": {
        "id": "UxRBwHptIJWy"
      }
    },
    {
      "cell_type": "markdown",
      "source": [
        "## Data preparation"
      ],
      "metadata": {
        "id": "8aWv2uz1M74r"
      }
    },
    {
      "cell_type": "code",
      "source": [
        "import pandas as pd\n",
        "\n",
        "#Import the relevant data\n",
        "df_clean = pd.read_csv(r\"/content/drive/MyDrive/Final Project/Field Project/NER - IOB/POS_lemma_DepPars_noTypo_inplaced.csv\")"
      ],
      "metadata": {
        "id": "qCibw0sTnJbi"
      },
      "execution_count": null,
      "outputs": []
    },
    {
      "cell_type": "code",
      "source": [
        "from itertools import chain\n",
        "\n",
        "# Mapping between tokens and their corresponding IDs\n",
        "def dict_map (data, word_tag):\n",
        "\ttoken_TO_id = {}\n",
        "\tid_TO_token = {}\n",
        "\tif word_tag == 'word':\n",
        "\t\tvocab = list(set(data['word'].to_list()))\n",
        "\telse:\n",
        "\t\tvocab = list(set(data['tag'].to_list()))\n",
        "\n",
        "\t#mapping dictionaries\n",
        "\tid_TO_token = {id:tok for id,tok in enumerate(vocab)}\n",
        "\ttoken_TO_id = {tok:id for id,tok in enumerate(vocab)}\n",
        "\treturn token_TO_id, id_TO_token"
      ],
      "metadata": {
        "id": "l0OJOQ75BPka"
      },
      "execution_count": null,
      "outputs": []
    },
    {
      "cell_type": "code",
      "source": [
        "word_TO_id, id_TO_word = dict_map(df_clean, 'word')\n",
        "tag_TO_id, id_TO_tag = dict_map(df_clean, 'tag')"
      ],
      "metadata": {
        "id": "BZAYyTiFDYrw"
      },
      "execution_count": null,
      "outputs": []
    },
    {
      "cell_type": "code",
      "source": [
        "#Apply mapping on the data\n",
        "df_clean['word_id'] = df_clean['word'].map(word_TO_id)\n",
        "df_clean['tag_id'] = df_clean['tag'].map(tag_TO_id)"
      ],
      "metadata": {
        "id": "dEx11lKMDl6q"
      },
      "execution_count": null,
      "outputs": []
    },
    {
      "cell_type": "code",
      "source": [
        "df_clean.head()"
      ],
      "metadata": {
        "colab": {
          "base_uri": "https://localhost:8080/",
          "height": 206
        },
        "id": "v0JiQqPAG3mG",
        "outputId": "32e9c12b-2c4c-4ae7-a43f-0b38f4f6047e"
      },
      "execution_count": null,
      "outputs": [
        {
          "output_type": "execute_result",
          "data": {
            "text/plain": [
              "   Unnamed: 0       word tag Paragraph_place    POS     Lemma Dependency_pars  \\\n",
              "0           0    Rydberg   B     A Rydberg 1  PROPN   Rydberg        compound   \n",
              "1           1     atomic   I     A Rydberg 1    ADJ    atomic            amod   \n",
              "2           2    sensors   I     A Rydberg 1   NOUN    sensor           nsubj   \n",
              "3           3        and   I     A Rydberg 1  CCONJ       and              cc   \n",
              "4           4  receivers   I     A Rydberg 1   NOUN  receiver            conj   \n",
              "\n",
              "   word_id  tag_id  \n",
              "0     3437       1  \n",
              "1     4562       2  \n",
              "2    10581       2  \n",
              "3     1586       2  \n",
              "4     2491       2  "
            ],
            "text/html": [
              "\n",
              "  <div id=\"df-ce0d4a83-ae88-458c-8d73-df01605ee382\" class=\"colab-df-container\">\n",
              "    <div>\n",
              "<style scoped>\n",
              "    .dataframe tbody tr th:only-of-type {\n",
              "        vertical-align: middle;\n",
              "    }\n",
              "\n",
              "    .dataframe tbody tr th {\n",
              "        vertical-align: top;\n",
              "    }\n",
              "\n",
              "    .dataframe thead th {\n",
              "        text-align: right;\n",
              "    }\n",
              "</style>\n",
              "<table border=\"1\" class=\"dataframe\">\n",
              "  <thead>\n",
              "    <tr style=\"text-align: right;\">\n",
              "      <th></th>\n",
              "      <th>Unnamed: 0</th>\n",
              "      <th>word</th>\n",
              "      <th>tag</th>\n",
              "      <th>Paragraph_place</th>\n",
              "      <th>POS</th>\n",
              "      <th>Lemma</th>\n",
              "      <th>Dependency_pars</th>\n",
              "      <th>word_id</th>\n",
              "      <th>tag_id</th>\n",
              "    </tr>\n",
              "  </thead>\n",
              "  <tbody>\n",
              "    <tr>\n",
              "      <th>0</th>\n",
              "      <td>0</td>\n",
              "      <td>Rydberg</td>\n",
              "      <td>B</td>\n",
              "      <td>A Rydberg 1</td>\n",
              "      <td>PROPN</td>\n",
              "      <td>Rydberg</td>\n",
              "      <td>compound</td>\n",
              "      <td>3437</td>\n",
              "      <td>1</td>\n",
              "    </tr>\n",
              "    <tr>\n",
              "      <th>1</th>\n",
              "      <td>1</td>\n",
              "      <td>atomic</td>\n",
              "      <td>I</td>\n",
              "      <td>A Rydberg 1</td>\n",
              "      <td>ADJ</td>\n",
              "      <td>atomic</td>\n",
              "      <td>amod</td>\n",
              "      <td>4562</td>\n",
              "      <td>2</td>\n",
              "    </tr>\n",
              "    <tr>\n",
              "      <th>2</th>\n",
              "      <td>2</td>\n",
              "      <td>sensors</td>\n",
              "      <td>I</td>\n",
              "      <td>A Rydberg 1</td>\n",
              "      <td>NOUN</td>\n",
              "      <td>sensor</td>\n",
              "      <td>nsubj</td>\n",
              "      <td>10581</td>\n",
              "      <td>2</td>\n",
              "    </tr>\n",
              "    <tr>\n",
              "      <th>3</th>\n",
              "      <td>3</td>\n",
              "      <td>and</td>\n",
              "      <td>I</td>\n",
              "      <td>A Rydberg 1</td>\n",
              "      <td>CCONJ</td>\n",
              "      <td>and</td>\n",
              "      <td>cc</td>\n",
              "      <td>1586</td>\n",
              "      <td>2</td>\n",
              "    </tr>\n",
              "    <tr>\n",
              "      <th>4</th>\n",
              "      <td>4</td>\n",
              "      <td>receivers</td>\n",
              "      <td>I</td>\n",
              "      <td>A Rydberg 1</td>\n",
              "      <td>NOUN</td>\n",
              "      <td>receiver</td>\n",
              "      <td>conj</td>\n",
              "      <td>2491</td>\n",
              "      <td>2</td>\n",
              "    </tr>\n",
              "  </tbody>\n",
              "</table>\n",
              "</div>\n",
              "    <div class=\"colab-df-buttons\">\n",
              "\n",
              "  <div class=\"colab-df-container\">\n",
              "    <button class=\"colab-df-convert\" onclick=\"convertToInteractive('df-ce0d4a83-ae88-458c-8d73-df01605ee382')\"\n",
              "            title=\"Convert this dataframe to an interactive table.\"\n",
              "            style=\"display:none;\">\n",
              "\n",
              "  <svg xmlns=\"http://www.w3.org/2000/svg\" height=\"24px\" viewBox=\"0 -960 960 960\">\n",
              "    <path d=\"M120-120v-720h720v720H120Zm60-500h600v-160H180v160Zm220 220h160v-160H400v160Zm0 220h160v-160H400v160ZM180-400h160v-160H180v160Zm440 0h160v-160H620v160ZM180-180h160v-160H180v160Zm440 0h160v-160H620v160Z\"/>\n",
              "  </svg>\n",
              "    </button>\n",
              "\n",
              "  <style>\n",
              "    .colab-df-container {\n",
              "      display:flex;\n",
              "      gap: 12px;\n",
              "    }\n",
              "\n",
              "    .colab-df-convert {\n",
              "      background-color: #E8F0FE;\n",
              "      border: none;\n",
              "      border-radius: 50%;\n",
              "      cursor: pointer;\n",
              "      display: none;\n",
              "      fill: #1967D2;\n",
              "      height: 32px;\n",
              "      padding: 0 0 0 0;\n",
              "      width: 32px;\n",
              "    }\n",
              "\n",
              "    .colab-df-convert:hover {\n",
              "      background-color: #E2EBFA;\n",
              "      box-shadow: 0px 1px 2px rgba(60, 64, 67, 0.3), 0px 1px 3px 1px rgba(60, 64, 67, 0.15);\n",
              "      fill: #174EA6;\n",
              "    }\n",
              "\n",
              "    .colab-df-buttons div {\n",
              "      margin-bottom: 4px;\n",
              "    }\n",
              "\n",
              "    [theme=dark] .colab-df-convert {\n",
              "      background-color: #3B4455;\n",
              "      fill: #D2E3FC;\n",
              "    }\n",
              "\n",
              "    [theme=dark] .colab-df-convert:hover {\n",
              "      background-color: #434B5C;\n",
              "      box-shadow: 0px 1px 3px 1px rgba(0, 0, 0, 0.15);\n",
              "      filter: drop-shadow(0px 1px 2px rgba(0, 0, 0, 0.3));\n",
              "      fill: #FFFFFF;\n",
              "    }\n",
              "  </style>\n",
              "\n",
              "    <script>\n",
              "      const buttonEl =\n",
              "        document.querySelector('#df-ce0d4a83-ae88-458c-8d73-df01605ee382 button.colab-df-convert');\n",
              "      buttonEl.style.display =\n",
              "        google.colab.kernel.accessAllowed ? 'block' : 'none';\n",
              "\n",
              "      async function convertToInteractive(key) {\n",
              "        const element = document.querySelector('#df-ce0d4a83-ae88-458c-8d73-df01605ee382');\n",
              "        const dataTable =\n",
              "          await google.colab.kernel.invokeFunction('convertToInteractive',\n",
              "                                                    [key], {});\n",
              "        if (!dataTable) return;\n",
              "\n",
              "        const docLinkHtml = 'Like what you see? Visit the ' +\n",
              "          '<a target=\"_blank\" href=https://colab.research.google.com/notebooks/data_table.ipynb>data table notebook</a>'\n",
              "          + ' to learn more about interactive tables.';\n",
              "        element.innerHTML = '';\n",
              "        dataTable['output_type'] = 'display_data';\n",
              "        await google.colab.output.renderOutput(dataTable, element);\n",
              "        const docLink = document.createElement('div');\n",
              "        docLink.innerHTML = docLinkHtml;\n",
              "        element.appendChild(docLink);\n",
              "      }\n",
              "    </script>\n",
              "  </div>\n",
              "\n",
              "\n",
              "<div id=\"df-f2c5d3f1-2519-413f-b1d0-30886e456813\">\n",
              "  <button class=\"colab-df-quickchart\" onclick=\"quickchart('df-f2c5d3f1-2519-413f-b1d0-30886e456813')\"\n",
              "            title=\"Suggest charts\"\n",
              "            style=\"display:none;\">\n",
              "\n",
              "<svg xmlns=\"http://www.w3.org/2000/svg\" height=\"24px\"viewBox=\"0 0 24 24\"\n",
              "     width=\"24px\">\n",
              "    <g>\n",
              "        <path d=\"M19 3H5c-1.1 0-2 .9-2 2v14c0 1.1.9 2 2 2h14c1.1 0 2-.9 2-2V5c0-1.1-.9-2-2-2zM9 17H7v-7h2v7zm4 0h-2V7h2v10zm4 0h-2v-4h2v4z\"/>\n",
              "    </g>\n",
              "</svg>\n",
              "  </button>\n",
              "\n",
              "<style>\n",
              "  .colab-df-quickchart {\n",
              "      --bg-color: #E8F0FE;\n",
              "      --fill-color: #1967D2;\n",
              "      --hover-bg-color: #E2EBFA;\n",
              "      --hover-fill-color: #174EA6;\n",
              "      --disabled-fill-color: #AAA;\n",
              "      --disabled-bg-color: #DDD;\n",
              "  }\n",
              "\n",
              "  [theme=dark] .colab-df-quickchart {\n",
              "      --bg-color: #3B4455;\n",
              "      --fill-color: #D2E3FC;\n",
              "      --hover-bg-color: #434B5C;\n",
              "      --hover-fill-color: #FFFFFF;\n",
              "      --disabled-bg-color: #3B4455;\n",
              "      --disabled-fill-color: #666;\n",
              "  }\n",
              "\n",
              "  .colab-df-quickchart {\n",
              "    background-color: var(--bg-color);\n",
              "    border: none;\n",
              "    border-radius: 50%;\n",
              "    cursor: pointer;\n",
              "    display: none;\n",
              "    fill: var(--fill-color);\n",
              "    height: 32px;\n",
              "    padding: 0;\n",
              "    width: 32px;\n",
              "  }\n",
              "\n",
              "  .colab-df-quickchart:hover {\n",
              "    background-color: var(--hover-bg-color);\n",
              "    box-shadow: 0 1px 2px rgba(60, 64, 67, 0.3), 0 1px 3px 1px rgba(60, 64, 67, 0.15);\n",
              "    fill: var(--button-hover-fill-color);\n",
              "  }\n",
              "\n",
              "  .colab-df-quickchart-complete:disabled,\n",
              "  .colab-df-quickchart-complete:disabled:hover {\n",
              "    background-color: var(--disabled-bg-color);\n",
              "    fill: var(--disabled-fill-color);\n",
              "    box-shadow: none;\n",
              "  }\n",
              "\n",
              "  .colab-df-spinner {\n",
              "    border: 2px solid var(--fill-color);\n",
              "    border-color: transparent;\n",
              "    border-bottom-color: var(--fill-color);\n",
              "    animation:\n",
              "      spin 1s steps(1) infinite;\n",
              "  }\n",
              "\n",
              "  @keyframes spin {\n",
              "    0% {\n",
              "      border-color: transparent;\n",
              "      border-bottom-color: var(--fill-color);\n",
              "      border-left-color: var(--fill-color);\n",
              "    }\n",
              "    20% {\n",
              "      border-color: transparent;\n",
              "      border-left-color: var(--fill-color);\n",
              "      border-top-color: var(--fill-color);\n",
              "    }\n",
              "    30% {\n",
              "      border-color: transparent;\n",
              "      border-left-color: var(--fill-color);\n",
              "      border-top-color: var(--fill-color);\n",
              "      border-right-color: var(--fill-color);\n",
              "    }\n",
              "    40% {\n",
              "      border-color: transparent;\n",
              "      border-right-color: var(--fill-color);\n",
              "      border-top-color: var(--fill-color);\n",
              "    }\n",
              "    60% {\n",
              "      border-color: transparent;\n",
              "      border-right-color: var(--fill-color);\n",
              "    }\n",
              "    80% {\n",
              "      border-color: transparent;\n",
              "      border-right-color: var(--fill-color);\n",
              "      border-bottom-color: var(--fill-color);\n",
              "    }\n",
              "    90% {\n",
              "      border-color: transparent;\n",
              "      border-bottom-color: var(--fill-color);\n",
              "    }\n",
              "  }\n",
              "</style>\n",
              "\n",
              "  <script>\n",
              "    async function quickchart(key) {\n",
              "      const quickchartButtonEl =\n",
              "        document.querySelector('#' + key + ' button');\n",
              "      quickchartButtonEl.disabled = true;  // To prevent multiple clicks.\n",
              "      quickchartButtonEl.classList.add('colab-df-spinner');\n",
              "      try {\n",
              "        const charts = await google.colab.kernel.invokeFunction(\n",
              "            'suggestCharts', [key], {});\n",
              "      } catch (error) {\n",
              "        console.error('Error during call to suggestCharts:', error);\n",
              "      }\n",
              "      quickchartButtonEl.classList.remove('colab-df-spinner');\n",
              "      quickchartButtonEl.classList.add('colab-df-quickchart-complete');\n",
              "    }\n",
              "    (() => {\n",
              "      let quickchartButtonEl =\n",
              "        document.querySelector('#df-f2c5d3f1-2519-413f-b1d0-30886e456813 button');\n",
              "      quickchartButtonEl.style.display =\n",
              "        google.colab.kernel.accessAllowed ? 'block' : 'none';\n",
              "    })();\n",
              "  </script>\n",
              "</div>\n",
              "\n",
              "    </div>\n",
              "  </div>\n"
            ],
            "application/vnd.google.colaboratory.intrinsic+json": {
              "type": "dataframe",
              "variable_name": "df_clean"
            }
          },
          "metadata": {},
          "execution_count": 50
        }
      ]
    },
    {
      "cell_type": "code",
      "source": [
        "#Group by predefined column as mark and aggregate the columns\n",
        "df_grouped = df_clean.groupby(['Paragraph_place'], as_index=False)[['word', 'tag', 'POS', 'word_id', 'tag_id']].agg(lambda x: list(x))\n"
      ],
      "metadata": {
        "id": "efnmUNBaG5mo"
      },
      "execution_count": null,
      "outputs": []
    },
    {
      "cell_type": "code",
      "source": [
        "df_grouped"
      ],
      "metadata": {
        "colab": {
          "base_uri": "https://localhost:8080/",
          "height": 597
        },
        "id": "iWUAqSqwI6tz",
        "outputId": "e27e3871-8a50-4f0c-bbfd-54d6934d8623"
      },
      "execution_count": null,
      "outputs": [
        {
          "output_type": "execute_result",
          "data": {
            "text/plain": [
              "          Paragraph_place                                               word  \\\n",
              "0             A Rydberg 1  [Rydberg, atomic, sensors, and, receivers, hav...   \n",
              "1            A Rydberg 10  [The, automotive, radar, chip, presented, as, ...   \n",
              "2            A Rydberg 11  [For, the, demonstration, of, the, benchmarkin...   \n",
              "3            A Rydberg 12  [Next, ,, we, use, the, setup, to, estimate, t...   \n",
              "4            A Rydberg 13  [Consequently, ,, we, demonstrate, that, using...   \n",
              "..                    ...                                                ...   \n",
              "642  global enviornment 5  [The, global, health, costs, associated, with,...   \n",
              "643  global enviornment 6  [Environmental, justice, is, defined, by, the,...   \n",
              "644  global enviornment 7  [The, first, step, in, the, global, textile, s...   \n",
              "645  global enviornment 8  [Garment, assembly, ,, the, next, step, in, th...   \n",
              "646  global enviornment 9  [While, getting, finished, garments, to, consu...   \n",
              "\n",
              "                                                   tag  \\\n",
              "0    [B, I, I, I, I, I, I, I, I, I, I, I, I, I, I, ...   \n",
              "1    [O, O, O, O, O, O, O, O, O, O, O, O, O, O, O, ...   \n",
              "2    [O, O, O, O, O, O, O, O, O, O, O, O, O, O, O, ...   \n",
              "3    [O, O, B, I, I, I, I, I, I, I, I, I, I, I, I, ...   \n",
              "4    [O, O, B, I, I, I, I, I, O, I, I, I, I, I, I, ...   \n",
              "..                                                 ...   \n",
              "642  [O, O, O, O, O, O, O, O, O, O, O, O, O, O, O, ...   \n",
              "643  [O, O, O, O, O, O, O, O, O, O, O, O, O, O, O, ...   \n",
              "644  [B, I, I, I, I, I, I, I, I, I, I, I, O, B, I, ...   \n",
              "645  [O, O, O, O, O, O, O, O, O, O, O, O, O, O, O, ...   \n",
              "646  [O, O, O, O, O, O, O, O, O, O, O, O, O, O, O, ...   \n",
              "\n",
              "                                                   POS  \\\n",
              "0    [PROPN, ADJ, NOUN, CCONJ, NOUN, AUX, VERB, ADJ...   \n",
              "1    [DET, ADJ, NOUN, NOUN, VERB, ADP, DET, NOUN, A...   \n",
              "2    [ADP, DET, NOUN, ADP, DET, NOUN, NOUN, PUNCT, ...   \n",
              "3    [ADV, PUNCT, PRON, VERB, DET, NOUN, ADP, VERB,...   \n",
              "4    [ADV, PUNCT, PRON, VERB, SCONJ, VERB, DET, NOU...   \n",
              "..                                                 ...   \n",
              "642  [DET, ADJ, NOUN, NOUN, VERB, ADP, DET, NOUN, A...   \n",
              "643  [PROPN, NOUN, AUX, VERB, ADP, DET, PROPN, PROP...   \n",
              "644  [DET, ADJ, NOUN, ADP, DET, ADJ, NOUN, NOUN, NO...   \n",
              "645  [NOUN, NOUN, PUNCT, DET, ADJ, NOUN, ADP, DET, ...   \n",
              "646  [SCONJ, VERB, VERB, NOUN, PART, NOUN, ADP, DET...   \n",
              "\n",
              "                                               word_id  \\\n",
              "0    [3437, 4562, 10581, 1586, 2491, 7308, 11273, 5...   \n",
              "1    [4438, 8674, 13, 2559, 5737, 11093, 623, 3734,...   \n",
              "2    [10312, 623, 540, 11885, 623, 2231, 3657, 9116...   \n",
              "3    [9944, 9116, 9110, 2341, 623, 3657, 10570, 941...   \n",
              "4    [3867, 9116, 9110, 1633, 2329, 3882, 5160, 365...   \n",
              "..                                                 ...   \n",
              "642  [4438, 3165, 9150, 883, 6875, 9672, 623, 7258,...   \n",
              "643  [5397, 515, 2400, 6812, 8462, 623, 5700, 5508,...   \n",
              "644  [4438, 10598, 5485, 5232, 623, 3165, 10130, 10...   \n",
              "645  [4476, 9221, 9116, 623, 2143, 5485, 5232, 623,...   \n",
              "646  [2649, 8729, 3650, 60, 10570, 811, 5232, 623, ...   \n",
              "\n",
              "                                                tag_id  \n",
              "0    [1, 2, 2, 2, 2, 2, 2, 2, 2, 2, 2, 2, 2, 2, 2, ...  \n",
              "1    [0, 0, 0, 0, 0, 0, 0, 0, 0, 0, 0, 0, 0, 0, 0, ...  \n",
              "2    [0, 0, 0, 0, 0, 0, 0, 0, 0, 0, 0, 0, 0, 0, 0, ...  \n",
              "3    [0, 0, 1, 2, 2, 2, 2, 2, 2, 2, 2, 2, 2, 2, 2, ...  \n",
              "4    [0, 0, 1, 2, 2, 2, 2, 2, 0, 2, 2, 2, 2, 2, 2, ...  \n",
              "..                                                 ...  \n",
              "642  [0, 0, 0, 0, 0, 0, 0, 0, 0, 0, 0, 0, 0, 0, 0, ...  \n",
              "643  [0, 0, 0, 0, 0, 0, 0, 0, 0, 0, 0, 0, 0, 0, 0, ...  \n",
              "644  [1, 2, 2, 2, 2, 2, 2, 2, 2, 2, 2, 2, 0, 1, 2, ...  \n",
              "645  [0, 0, 0, 0, 0, 0, 0, 0, 0, 0, 0, 0, 0, 0, 0, ...  \n",
              "646  [0, 0, 0, 0, 0, 0, 0, 0, 0, 0, 0, 0, 0, 0, 0, ...  \n",
              "\n",
              "[647 rows x 6 columns]"
            ],
            "text/html": [
              "\n",
              "  <div id=\"df-5c43c66c-c92f-4c59-bd83-66303232571e\" class=\"colab-df-container\">\n",
              "    <div>\n",
              "<style scoped>\n",
              "    .dataframe tbody tr th:only-of-type {\n",
              "        vertical-align: middle;\n",
              "    }\n",
              "\n",
              "    .dataframe tbody tr th {\n",
              "        vertical-align: top;\n",
              "    }\n",
              "\n",
              "    .dataframe thead th {\n",
              "        text-align: right;\n",
              "    }\n",
              "</style>\n",
              "<table border=\"1\" class=\"dataframe\">\n",
              "  <thead>\n",
              "    <tr style=\"text-align: right;\">\n",
              "      <th></th>\n",
              "      <th>Paragraph_place</th>\n",
              "      <th>word</th>\n",
              "      <th>tag</th>\n",
              "      <th>POS</th>\n",
              "      <th>word_id</th>\n",
              "      <th>tag_id</th>\n",
              "    </tr>\n",
              "  </thead>\n",
              "  <tbody>\n",
              "    <tr>\n",
              "      <th>0</th>\n",
              "      <td>A Rydberg 1</td>\n",
              "      <td>[Rydberg, atomic, sensors, and, receivers, hav...</td>\n",
              "      <td>[B, I, I, I, I, I, I, I, I, I, I, I, I, I, I, ...</td>\n",
              "      <td>[PROPN, ADJ, NOUN, CCONJ, NOUN, AUX, VERB, ADJ...</td>\n",
              "      <td>[3437, 4562, 10581, 1586, 2491, 7308, 11273, 5...</td>\n",
              "      <td>[1, 2, 2, 2, 2, 2, 2, 2, 2, 2, 2, 2, 2, 2, 2, ...</td>\n",
              "    </tr>\n",
              "    <tr>\n",
              "      <th>1</th>\n",
              "      <td>A Rydberg 10</td>\n",
              "      <td>[The, automotive, radar, chip, presented, as, ...</td>\n",
              "      <td>[O, O, O, O, O, O, O, O, O, O, O, O, O, O, O, ...</td>\n",
              "      <td>[DET, ADJ, NOUN, NOUN, VERB, ADP, DET, NOUN, A...</td>\n",
              "      <td>[4438, 8674, 13, 2559, 5737, 11093, 623, 3734,...</td>\n",
              "      <td>[0, 0, 0, 0, 0, 0, 0, 0, 0, 0, 0, 0, 0, 0, 0, ...</td>\n",
              "    </tr>\n",
              "    <tr>\n",
              "      <th>2</th>\n",
              "      <td>A Rydberg 11</td>\n",
              "      <td>[For, the, demonstration, of, the, benchmarkin...</td>\n",
              "      <td>[O, O, O, O, O, O, O, O, O, O, O, O, O, O, O, ...</td>\n",
              "      <td>[ADP, DET, NOUN, ADP, DET, NOUN, NOUN, PUNCT, ...</td>\n",
              "      <td>[10312, 623, 540, 11885, 623, 2231, 3657, 9116...</td>\n",
              "      <td>[0, 0, 0, 0, 0, 0, 0, 0, 0, 0, 0, 0, 0, 0, 0, ...</td>\n",
              "    </tr>\n",
              "    <tr>\n",
              "      <th>3</th>\n",
              "      <td>A Rydberg 12</td>\n",
              "      <td>[Next, ,, we, use, the, setup, to, estimate, t...</td>\n",
              "      <td>[O, O, B, I, I, I, I, I, I, I, I, I, I, I, I, ...</td>\n",
              "      <td>[ADV, PUNCT, PRON, VERB, DET, NOUN, ADP, VERB,...</td>\n",
              "      <td>[9944, 9116, 9110, 2341, 623, 3657, 10570, 941...</td>\n",
              "      <td>[0, 0, 1, 2, 2, 2, 2, 2, 2, 2, 2, 2, 2, 2, 2, ...</td>\n",
              "    </tr>\n",
              "    <tr>\n",
              "      <th>4</th>\n",
              "      <td>A Rydberg 13</td>\n",
              "      <td>[Consequently, ,, we, demonstrate, that, using...</td>\n",
              "      <td>[O, O, B, I, I, I, I, I, O, I, I, I, I, I, I, ...</td>\n",
              "      <td>[ADV, PUNCT, PRON, VERB, SCONJ, VERB, DET, NOU...</td>\n",
              "      <td>[3867, 9116, 9110, 1633, 2329, 3882, 5160, 365...</td>\n",
              "      <td>[0, 0, 1, 2, 2, 2, 2, 2, 0, 2, 2, 2, 2, 2, 2, ...</td>\n",
              "    </tr>\n",
              "    <tr>\n",
              "      <th>...</th>\n",
              "      <td>...</td>\n",
              "      <td>...</td>\n",
              "      <td>...</td>\n",
              "      <td>...</td>\n",
              "      <td>...</td>\n",
              "      <td>...</td>\n",
              "    </tr>\n",
              "    <tr>\n",
              "      <th>642</th>\n",
              "      <td>global enviornment 5</td>\n",
              "      <td>[The, global, health, costs, associated, with,...</td>\n",
              "      <td>[O, O, O, O, O, O, O, O, O, O, O, O, O, O, O, ...</td>\n",
              "      <td>[DET, ADJ, NOUN, NOUN, VERB, ADP, DET, NOUN, A...</td>\n",
              "      <td>[4438, 3165, 9150, 883, 6875, 9672, 623, 7258,...</td>\n",
              "      <td>[0, 0, 0, 0, 0, 0, 0, 0, 0, 0, 0, 0, 0, 0, 0, ...</td>\n",
              "    </tr>\n",
              "    <tr>\n",
              "      <th>643</th>\n",
              "      <td>global enviornment 6</td>\n",
              "      <td>[Environmental, justice, is, defined, by, the,...</td>\n",
              "      <td>[O, O, O, O, O, O, O, O, O, O, O, O, O, O, O, ...</td>\n",
              "      <td>[PROPN, NOUN, AUX, VERB, ADP, DET, PROPN, PROP...</td>\n",
              "      <td>[5397, 515, 2400, 6812, 8462, 623, 5700, 5508,...</td>\n",
              "      <td>[0, 0, 0, 0, 0, 0, 0, 0, 0, 0, 0, 0, 0, 0, 0, ...</td>\n",
              "    </tr>\n",
              "    <tr>\n",
              "      <th>644</th>\n",
              "      <td>global enviornment 7</td>\n",
              "      <td>[The, first, step, in, the, global, textile, s...</td>\n",
              "      <td>[B, I, I, I, I, I, I, I, I, I, I, I, O, B, I, ...</td>\n",
              "      <td>[DET, ADJ, NOUN, ADP, DET, ADJ, NOUN, NOUN, NO...</td>\n",
              "      <td>[4438, 10598, 5485, 5232, 623, 3165, 10130, 10...</td>\n",
              "      <td>[1, 2, 2, 2, 2, 2, 2, 2, 2, 2, 2, 2, 0, 1, 2, ...</td>\n",
              "    </tr>\n",
              "    <tr>\n",
              "      <th>645</th>\n",
              "      <td>global enviornment 8</td>\n",
              "      <td>[Garment, assembly, ,, the, next, step, in, th...</td>\n",
              "      <td>[O, O, O, O, O, O, O, O, O, O, O, O, O, O, O, ...</td>\n",
              "      <td>[NOUN, NOUN, PUNCT, DET, ADJ, NOUN, ADP, DET, ...</td>\n",
              "      <td>[4476, 9221, 9116, 623, 2143, 5485, 5232, 623,...</td>\n",
              "      <td>[0, 0, 0, 0, 0, 0, 0, 0, 0, 0, 0, 0, 0, 0, 0, ...</td>\n",
              "    </tr>\n",
              "    <tr>\n",
              "      <th>646</th>\n",
              "      <td>global enviornment 9</td>\n",
              "      <td>[While, getting, finished, garments, to, consu...</td>\n",
              "      <td>[O, O, O, O, O, O, O, O, O, O, O, O, O, O, O, ...</td>\n",
              "      <td>[SCONJ, VERB, VERB, NOUN, PART, NOUN, ADP, DET...</td>\n",
              "      <td>[2649, 8729, 3650, 60, 10570, 811, 5232, 623, ...</td>\n",
              "      <td>[0, 0, 0, 0, 0, 0, 0, 0, 0, 0, 0, 0, 0, 0, 0, ...</td>\n",
              "    </tr>\n",
              "  </tbody>\n",
              "</table>\n",
              "<p>647 rows × 6 columns</p>\n",
              "</div>\n",
              "    <div class=\"colab-df-buttons\">\n",
              "\n",
              "  <div class=\"colab-df-container\">\n",
              "    <button class=\"colab-df-convert\" onclick=\"convertToInteractive('df-5c43c66c-c92f-4c59-bd83-66303232571e')\"\n",
              "            title=\"Convert this dataframe to an interactive table.\"\n",
              "            style=\"display:none;\">\n",
              "\n",
              "  <svg xmlns=\"http://www.w3.org/2000/svg\" height=\"24px\" viewBox=\"0 -960 960 960\">\n",
              "    <path d=\"M120-120v-720h720v720H120Zm60-500h600v-160H180v160Zm220 220h160v-160H400v160Zm0 220h160v-160H400v160ZM180-400h160v-160H180v160Zm440 0h160v-160H620v160ZM180-180h160v-160H180v160Zm440 0h160v-160H620v160Z\"/>\n",
              "  </svg>\n",
              "    </button>\n",
              "\n",
              "  <style>\n",
              "    .colab-df-container {\n",
              "      display:flex;\n",
              "      gap: 12px;\n",
              "    }\n",
              "\n",
              "    .colab-df-convert {\n",
              "      background-color: #E8F0FE;\n",
              "      border: none;\n",
              "      border-radius: 50%;\n",
              "      cursor: pointer;\n",
              "      display: none;\n",
              "      fill: #1967D2;\n",
              "      height: 32px;\n",
              "      padding: 0 0 0 0;\n",
              "      width: 32px;\n",
              "    }\n",
              "\n",
              "    .colab-df-convert:hover {\n",
              "      background-color: #E2EBFA;\n",
              "      box-shadow: 0px 1px 2px rgba(60, 64, 67, 0.3), 0px 1px 3px 1px rgba(60, 64, 67, 0.15);\n",
              "      fill: #174EA6;\n",
              "    }\n",
              "\n",
              "    .colab-df-buttons div {\n",
              "      margin-bottom: 4px;\n",
              "    }\n",
              "\n",
              "    [theme=dark] .colab-df-convert {\n",
              "      background-color: #3B4455;\n",
              "      fill: #D2E3FC;\n",
              "    }\n",
              "\n",
              "    [theme=dark] .colab-df-convert:hover {\n",
              "      background-color: #434B5C;\n",
              "      box-shadow: 0px 1px 3px 1px rgba(0, 0, 0, 0.15);\n",
              "      filter: drop-shadow(0px 1px 2px rgba(0, 0, 0, 0.3));\n",
              "      fill: #FFFFFF;\n",
              "    }\n",
              "  </style>\n",
              "\n",
              "    <script>\n",
              "      const buttonEl =\n",
              "        document.querySelector('#df-5c43c66c-c92f-4c59-bd83-66303232571e button.colab-df-convert');\n",
              "      buttonEl.style.display =\n",
              "        google.colab.kernel.accessAllowed ? 'block' : 'none';\n",
              "\n",
              "      async function convertToInteractive(key) {\n",
              "        const element = document.querySelector('#df-5c43c66c-c92f-4c59-bd83-66303232571e');\n",
              "        const dataTable =\n",
              "          await google.colab.kernel.invokeFunction('convertToInteractive',\n",
              "                                                    [key], {});\n",
              "        if (!dataTable) return;\n",
              "\n",
              "        const docLinkHtml = 'Like what you see? Visit the ' +\n",
              "          '<a target=\"_blank\" href=https://colab.research.google.com/notebooks/data_table.ipynb>data table notebook</a>'\n",
              "          + ' to learn more about interactive tables.';\n",
              "        element.innerHTML = '';\n",
              "        dataTable['output_type'] = 'display_data';\n",
              "        await google.colab.output.renderOutput(dataTable, element);\n",
              "        const docLink = document.createElement('div');\n",
              "        docLink.innerHTML = docLinkHtml;\n",
              "        element.appendChild(docLink);\n",
              "      }\n",
              "    </script>\n",
              "  </div>\n",
              "\n",
              "\n",
              "<div id=\"df-5ed62e7f-6832-456d-becb-3f0713d99abe\">\n",
              "  <button class=\"colab-df-quickchart\" onclick=\"quickchart('df-5ed62e7f-6832-456d-becb-3f0713d99abe')\"\n",
              "            title=\"Suggest charts\"\n",
              "            style=\"display:none;\">\n",
              "\n",
              "<svg xmlns=\"http://www.w3.org/2000/svg\" height=\"24px\"viewBox=\"0 0 24 24\"\n",
              "     width=\"24px\">\n",
              "    <g>\n",
              "        <path d=\"M19 3H5c-1.1 0-2 .9-2 2v14c0 1.1.9 2 2 2h14c1.1 0 2-.9 2-2V5c0-1.1-.9-2-2-2zM9 17H7v-7h2v7zm4 0h-2V7h2v10zm4 0h-2v-4h2v4z\"/>\n",
              "    </g>\n",
              "</svg>\n",
              "  </button>\n",
              "\n",
              "<style>\n",
              "  .colab-df-quickchart {\n",
              "      --bg-color: #E8F0FE;\n",
              "      --fill-color: #1967D2;\n",
              "      --hover-bg-color: #E2EBFA;\n",
              "      --hover-fill-color: #174EA6;\n",
              "      --disabled-fill-color: #AAA;\n",
              "      --disabled-bg-color: #DDD;\n",
              "  }\n",
              "\n",
              "  [theme=dark] .colab-df-quickchart {\n",
              "      --bg-color: #3B4455;\n",
              "      --fill-color: #D2E3FC;\n",
              "      --hover-bg-color: #434B5C;\n",
              "      --hover-fill-color: #FFFFFF;\n",
              "      --disabled-bg-color: #3B4455;\n",
              "      --disabled-fill-color: #666;\n",
              "  }\n",
              "\n",
              "  .colab-df-quickchart {\n",
              "    background-color: var(--bg-color);\n",
              "    border: none;\n",
              "    border-radius: 50%;\n",
              "    cursor: pointer;\n",
              "    display: none;\n",
              "    fill: var(--fill-color);\n",
              "    height: 32px;\n",
              "    padding: 0;\n",
              "    width: 32px;\n",
              "  }\n",
              "\n",
              "  .colab-df-quickchart:hover {\n",
              "    background-color: var(--hover-bg-color);\n",
              "    box-shadow: 0 1px 2px rgba(60, 64, 67, 0.3), 0 1px 3px 1px rgba(60, 64, 67, 0.15);\n",
              "    fill: var(--button-hover-fill-color);\n",
              "  }\n",
              "\n",
              "  .colab-df-quickchart-complete:disabled,\n",
              "  .colab-df-quickchart-complete:disabled:hover {\n",
              "    background-color: var(--disabled-bg-color);\n",
              "    fill: var(--disabled-fill-color);\n",
              "    box-shadow: none;\n",
              "  }\n",
              "\n",
              "  .colab-df-spinner {\n",
              "    border: 2px solid var(--fill-color);\n",
              "    border-color: transparent;\n",
              "    border-bottom-color: var(--fill-color);\n",
              "    animation:\n",
              "      spin 1s steps(1) infinite;\n",
              "  }\n",
              "\n",
              "  @keyframes spin {\n",
              "    0% {\n",
              "      border-color: transparent;\n",
              "      border-bottom-color: var(--fill-color);\n",
              "      border-left-color: var(--fill-color);\n",
              "    }\n",
              "    20% {\n",
              "      border-color: transparent;\n",
              "      border-left-color: var(--fill-color);\n",
              "      border-top-color: var(--fill-color);\n",
              "    }\n",
              "    30% {\n",
              "      border-color: transparent;\n",
              "      border-left-color: var(--fill-color);\n",
              "      border-top-color: var(--fill-color);\n",
              "      border-right-color: var(--fill-color);\n",
              "    }\n",
              "    40% {\n",
              "      border-color: transparent;\n",
              "      border-right-color: var(--fill-color);\n",
              "      border-top-color: var(--fill-color);\n",
              "    }\n",
              "    60% {\n",
              "      border-color: transparent;\n",
              "      border-right-color: var(--fill-color);\n",
              "    }\n",
              "    80% {\n",
              "      border-color: transparent;\n",
              "      border-right-color: var(--fill-color);\n",
              "      border-bottom-color: var(--fill-color);\n",
              "    }\n",
              "    90% {\n",
              "      border-color: transparent;\n",
              "      border-bottom-color: var(--fill-color);\n",
              "    }\n",
              "  }\n",
              "</style>\n",
              "\n",
              "  <script>\n",
              "    async function quickchart(key) {\n",
              "      const quickchartButtonEl =\n",
              "        document.querySelector('#' + key + ' button');\n",
              "      quickchartButtonEl.disabled = true;  // To prevent multiple clicks.\n",
              "      quickchartButtonEl.classList.add('colab-df-spinner');\n",
              "      try {\n",
              "        const charts = await google.colab.kernel.invokeFunction(\n",
              "            'suggestCharts', [key], {});\n",
              "      } catch (error) {\n",
              "        console.error('Error during call to suggestCharts:', error);\n",
              "      }\n",
              "      quickchartButtonEl.classList.remove('colab-df-spinner');\n",
              "      quickchartButtonEl.classList.add('colab-df-quickchart-complete');\n",
              "    }\n",
              "    (() => {\n",
              "      let quickchartButtonEl =\n",
              "        document.querySelector('#df-5ed62e7f-6832-456d-becb-3f0713d99abe button');\n",
              "      quickchartButtonEl.style.display =\n",
              "        google.colab.kernel.accessAllowed ? 'block' : 'none';\n",
              "    })();\n",
              "  </script>\n",
              "</div>\n",
              "\n",
              "  <div id=\"id_3b04ba86-526e-4984-9c3d-c61d97d0118c\">\n",
              "    <style>\n",
              "      .colab-df-generate {\n",
              "        background-color: #E8F0FE;\n",
              "        border: none;\n",
              "        border-radius: 50%;\n",
              "        cursor: pointer;\n",
              "        display: none;\n",
              "        fill: #1967D2;\n",
              "        height: 32px;\n",
              "        padding: 0 0 0 0;\n",
              "        width: 32px;\n",
              "      }\n",
              "\n",
              "      .colab-df-generate:hover {\n",
              "        background-color: #E2EBFA;\n",
              "        box-shadow: 0px 1px 2px rgba(60, 64, 67, 0.3), 0px 1px 3px 1px rgba(60, 64, 67, 0.15);\n",
              "        fill: #174EA6;\n",
              "      }\n",
              "\n",
              "      [theme=dark] .colab-df-generate {\n",
              "        background-color: #3B4455;\n",
              "        fill: #D2E3FC;\n",
              "      }\n",
              "\n",
              "      [theme=dark] .colab-df-generate:hover {\n",
              "        background-color: #434B5C;\n",
              "        box-shadow: 0px 1px 3px 1px rgba(0, 0, 0, 0.15);\n",
              "        filter: drop-shadow(0px 1px 2px rgba(0, 0, 0, 0.3));\n",
              "        fill: #FFFFFF;\n",
              "      }\n",
              "    </style>\n",
              "    <button class=\"colab-df-generate\" onclick=\"generateWithVariable('df_grouped')\"\n",
              "            title=\"Generate code using this dataframe.\"\n",
              "            style=\"display:none;\">\n",
              "\n",
              "  <svg xmlns=\"http://www.w3.org/2000/svg\" height=\"24px\"viewBox=\"0 0 24 24\"\n",
              "       width=\"24px\">\n",
              "    <path d=\"M7,19H8.4L18.45,9,17,7.55,7,17.6ZM5,21V16.75L18.45,3.32a2,2,0,0,1,2.83,0l1.4,1.43a1.91,1.91,0,0,1,.58,1.4,1.91,1.91,0,0,1-.58,1.4L9.25,21ZM18.45,9,17,7.55Zm-12,3A5.31,5.31,0,0,0,4.9,8.1,5.31,5.31,0,0,0,1,6.5,5.31,5.31,0,0,0,4.9,4.9,5.31,5.31,0,0,0,6.5,1,5.31,5.31,0,0,0,8.1,4.9,5.31,5.31,0,0,0,12,6.5,5.46,5.46,0,0,0,6.5,12Z\"/>\n",
              "  </svg>\n",
              "    </button>\n",
              "    <script>\n",
              "      (() => {\n",
              "      const buttonEl =\n",
              "        document.querySelector('#id_3b04ba86-526e-4984-9c3d-c61d97d0118c button.colab-df-generate');\n",
              "      buttonEl.style.display =\n",
              "        google.colab.kernel.accessAllowed ? 'block' : 'none';\n",
              "\n",
              "      buttonEl.onclick = () => {\n",
              "        google.colab.notebook.generateWithVariable('df_grouped');\n",
              "      }\n",
              "      })();\n",
              "    </script>\n",
              "  </div>\n",
              "\n",
              "    </div>\n",
              "  </div>\n"
            ],
            "application/vnd.google.colaboratory.intrinsic+json": {
              "type": "dataframe",
              "variable_name": "df_grouped",
              "summary": "{\n  \"name\": \"df_grouped\",\n  \"rows\": 647,\n  \"fields\": [\n    {\n      \"column\": \"Paragraph_place\",\n      \"properties\": {\n        \"dtype\": \"string\",\n        \"num_unique_values\": 647,\n        \"samples\": [\n          \"global enviornment 12\",\n          \"Human health 84\",\n          \"School grade 21\"\n        ],\n        \"semantic_type\": \"\",\n        \"description\": \"\"\n      }\n    },\n    {\n      \"column\": \"word\",\n      \"properties\": {\n        \"dtype\": \"object\",\n        \"semantic_type\": \"\",\n        \"description\": \"\"\n      }\n    },\n    {\n      \"column\": \"tag\",\n      \"properties\": {\n        \"dtype\": \"object\",\n        \"semantic_type\": \"\",\n        \"description\": \"\"\n      }\n    },\n    {\n      \"column\": \"POS\",\n      \"properties\": {\n        \"dtype\": \"object\",\n        \"semantic_type\": \"\",\n        \"description\": \"\"\n      }\n    },\n    {\n      \"column\": \"word_id\",\n      \"properties\": {\n        \"dtype\": \"object\",\n        \"semantic_type\": \"\",\n        \"description\": \"\"\n      }\n    },\n    {\n      \"column\": \"tag_id\",\n      \"properties\": {\n        \"dtype\": \"object\",\n        \"semantic_type\": \"\",\n        \"description\": \"\"\n      }\n    }\n  ]\n}"
            }
          },
          "metadata": {},
          "execution_count": 52
        }
      ]
    },
    {
      "cell_type": "code",
      "source": [
        "from sklearn.model_selection import train_test_split\n",
        "\n",
        "#Create Train/Validation/Test set and ensure split point is not in the middle of a sequence\n",
        "grouped = df_grouped.groupby('Paragraph_place')\n",
        "\n",
        "sizes = grouped.size().cumsum() #cumulative size\n",
        "\n",
        "train_size = 0.7 * sizes.iloc[-1]\n",
        "val_size = 0.2 * train_size\n",
        "test_size = sizes.iloc[-1] - train_size\n",
        "\n",
        "#Train, test index based on 'Paragraph_place' column\n",
        "train_idx = sizes[sizes <= train_size].index\n",
        "test_idx = sizes[sizes > train_size].index\n",
        "\n",
        "\n",
        "train_data_with_val = df_grouped[df_grouped['Paragraph_place'].isin(train_idx)]\n",
        "test_data = df_grouped[df_grouped['Paragraph_place'].isin(test_idx)]\n",
        "\n",
        "#Validation set\n",
        "train_sizes = train_data_with_val.groupby('Paragraph_place').size().cumsum()\n",
        "val_idx = train_sizes[train_sizes <= val_size].index\n",
        "final_train_idx = train_sizes[train_sizes > val_size].index\n",
        "\n",
        "val_data = train_data_with_val[train_data_with_val['Paragraph_place'].isin(val_idx)]\n",
        "train_data = train_data_with_val[train_data_with_val['Paragraph_place'].isin(final_train_idx)]\n",
        "\n"
      ],
      "metadata": {
        "id": "Sk9xhopNNrL5"
      },
      "execution_count": null,
      "outputs": []
    },
    {
      "cell_type": "code",
      "source": [
        "print (\"Training set rows:\", len (train_data))\n",
        "print (\"Valdiation set rows:\",len (val_data))\n",
        "print (\"Test set rows:\",len (test_data))"
      ],
      "metadata": {
        "colab": {
          "base_uri": "https://localhost:8080/"
        },
        "id": "JVvEep0D3Sdb",
        "outputId": "6bc6990b-305b-4150-c7a4-7549a69188b2"
      },
      "execution_count": null,
      "outputs": [
        {
          "output_type": "stream",
          "name": "stdout",
          "text": [
            "Training set rows: 362\n",
            "Valdiation set rows: 90\n",
            "Test set rows: 195\n"
          ]
        }
      ]
    },
    {
      "cell_type": "code",
      "source": [
        "#Maximum Paragh length\n",
        "Paragh_list = train_data['word_id'].to_list()\n",
        "max_lenght = max([len(paragh) for paragh in Paragh_list])\n",
        "print(\"max Paragraph length is %i\" %max_lenght)"
      ],
      "metadata": {
        "colab": {
          "base_uri": "https://localhost:8080/"
        },
        "id": "fwiSifI1I7t_",
        "outputId": "654af028-f195-4dd5-a2fb-e879f5daed24"
      },
      "execution_count": null,
      "outputs": [
        {
          "output_type": "stream",
          "name": "stdout",
          "text": [
            "max Paragraph length is 978\n"
          ]
        }
      ]
    },
    {
      "cell_type": "code",
      "source": [
        "#Maximum Tag length\n",
        "Tag_list = train_data['tag_id'].to_list()\n",
        "max_lenght_tag = max([len(tag) for tag in Tag_list])\n",
        "print(\"max Tag length is %i\" %max_lenght_tag)"
      ],
      "metadata": {
        "colab": {
          "base_uri": "https://localhost:8080/"
        },
        "id": "wdD-ep1iJ5Mt",
        "outputId": "fefd13ad-c0e0-4f61-d470-c69d0c6980ef"
      },
      "execution_count": null,
      "outputs": [
        {
          "output_type": "stream",
          "name": "stdout",
          "text": [
            "max Tag length is 978\n"
          ]
        }
      ]
    },
    {
      "cell_type": "code",
      "source": [
        "#Padding\n",
        "from tensorflow.keras.preprocessing.sequence import pad_sequences\n",
        "\n",
        "pad_paraghs = pad_sequences(Paragh_list, maxlen= max_lenght, padding='post', value= word_TO_id['The'])"
      ],
      "metadata": {
        "id": "Hdn4GcfxKeGR"
      },
      "execution_count": null,
      "outputs": []
    },
    {
      "cell_type": "code",
      "source": [
        "# Padding\n",
        "pad_tags = pad_sequences(Tag_list, maxlen=max_lenght_tag, padding='post', value=tag_TO_id['O'])\n",
        "\n",
        "# Convert tag to encoding\n",
        "from tensorflow.keras.utils import to_categorical\n",
        "\n",
        "#determine number of classes\n",
        "num_classes = len(tag_TO_id)\n",
        "pad_tags = to_categorical(pad_tags, num_classes=num_classes)\n",
        "\n",
        "\n"
      ],
      "metadata": {
        "id": "4b0FBQuxwEvE"
      },
      "execution_count": null,
      "outputs": []
    },
    {
      "cell_type": "code",
      "source": [
        "#Check the shapes\n",
        "train_paraghs = pad_paraghs\n",
        "train_paraghs.shape"
      ],
      "metadata": {
        "colab": {
          "base_uri": "https://localhost:8080/"
        },
        "id": "VPbcb7sBO_S7",
        "outputId": "f9304411-e4fa-48c5-b9e1-232d75e61aa0"
      },
      "execution_count": null,
      "outputs": [
        {
          "output_type": "execute_result",
          "data": {
            "text/plain": [
              "(362, 978)"
            ]
          },
          "metadata": {},
          "execution_count": 59
        }
      ]
    },
    {
      "cell_type": "code",
      "source": [
        "#Check the shapes\n",
        "train_tags = pad_tags\n",
        "train_tags.shape"
      ],
      "metadata": {
        "colab": {
          "base_uri": "https://localhost:8080/"
        },
        "id": "UqQx40rNMuLm",
        "outputId": "930b1910-abcb-41e9-9baf-5b16b4b5fe15"
      },
      "execution_count": null,
      "outputs": [
        {
          "output_type": "execute_result",
          "data": {
            "text/plain": [
              "(362, 978, 3)"
            ]
          },
          "metadata": {},
          "execution_count": 60
        }
      ]
    },
    {
      "cell_type": "markdown",
      "source": [
        "## Defining model"
      ],
      "metadata": {
        "id": "TDZ_P4e7NFEd"
      }
    },
    {
      "cell_type": "code",
      "source": [
        "import numpy as np\n",
        "from tensorflow.keras import Sequential, Model, Input\n",
        "from tensorflow.keras.layers import Embedding, LSTM, TimeDistributed, Dense\n",
        "from tensorflow.keras.utils import plot_model\n",
        "import tensorflow as tf"
      ],
      "metadata": {
        "id": "LGC6RND3OcnY"
      },
      "execution_count": null,
      "outputs": []
    },
    {
      "cell_type": "code",
      "source": [
        "# Network details and specifications\n",
        "shape = train_paraghs[1].shape\n",
        "input_dim = len(list(set(df['word'].to_list())))+1\n",
        "output_dim = 32 #64 led to crash\n",
        "input_length = max_lenght\n",
        "output_nodes = len (id_TO_tag)"
      ],
      "metadata": {
        "id": "ig6HeiIhP25Q"
      },
      "execution_count": null,
      "outputs": []
    },
    {
      "cell_type": "code",
      "source": [
        "import tensorflow\n",
        "import gc\n",
        "\n",
        "#Clear Keras\n",
        "tensorflow.keras.backend.clear_session()\n",
        "gc.collect()\n",
        "\n",
        "input_layer  = Input(shape=(978,))\n",
        "embedding = Embedding(input_dim=input_dim, output_dim=output_dim)(input_layer) #Embedding Layer\n",
        "Lstm_1 = LSTM(units= output_dim, return_sequences=True )(embedding) #LSTM1\n",
        "Lstm_2 = LSTM(units= output_dim, return_sequences=True)(Lstm_1) #LSTM2\n",
        "output = TimeDistributed(Dense(units=output_nodes, activation='softmax'))(Lstm_2)\n",
        "\n",
        "model = Model(inputs= input_layer, outputs=output)"
      ],
      "metadata": {
        "id": "WW_8l1BcR9TE"
      },
      "execution_count": null,
      "outputs": []
    },
    {
      "cell_type": "code",
      "source": [
        "model.compile(optimizer= tensorflow.keras.optimizers.RMSprop(1e-3), loss = tensorflow.keras.losses.CategoricalCrossentropy, metrics=['acc'])"
      ],
      "metadata": {
        "id": "DzeW1rRjSbGE"
      },
      "execution_count": null,
      "outputs": []
    },
    {
      "cell_type": "code",
      "source": [
        "#Validation data\n",
        "Paragh_list_validation = val_data['word_id'].to_list()\n",
        "\n",
        "Tag_list_validation = val_data['tag_id'].to_list()\n",
        "\n",
        "\n",
        "#Padding\n",
        "from tensorflow.keras.preprocessing.sequence import pad_sequences\n",
        "\n",
        "pad_paraghs_val = pad_sequences(Paragh_list_validation, maxlen= max_lenght, padding='post', value= word_TO_id['The'])\n",
        "\n",
        "\n",
        "pad_tag_val = pad_sequences(Tag_list_validation, maxlen=max_lenght_tag, padding='post', value=tag_TO_id['O'])\n",
        "\n",
        "# Convert tag to encoding\n",
        "num_classes = len(tag_TO_id)\n",
        "pad_tag_val = to_categorical(pad_tag_val, num_classes=num_classes)\n"
      ],
      "metadata": {
        "id": "dvjsmoXuVS3K"
      },
      "execution_count": null,
      "outputs": []
    },
    {
      "cell_type": "code",
      "source": [
        "val_paraghs = pad_paraghs_val\n",
        "val_tags = pad_tag_val"
      ],
      "metadata": {
        "id": "d2wPswJXgmHE"
      },
      "execution_count": null,
      "outputs": []
    },
    {
      "cell_type": "code",
      "source": [
        "#Check the shapes\n",
        "print('Train paragraph shape:', train_paraghs.shape)\n",
        "print('Train tags shape:', train_tags.shape)\n",
        "print('Validation paragraph shape:', val_paraghs.shape)\n",
        "print('Validation tags shape:', val_tags.shape)\n"
      ],
      "metadata": {
        "colab": {
          "base_uri": "https://localhost:8080/"
        },
        "id": "N9aPuDwalhPO",
        "outputId": "069a7326-73a8-441b-cf44-08ad14cda793"
      },
      "execution_count": null,
      "outputs": [
        {
          "output_type": "stream",
          "name": "stdout",
          "text": [
            "Train paragraph shape: (362, 978)\n",
            "Train tags shape: (362, 978, 3)\n",
            "Validation paragraph shape: (90, 978)\n",
            "Validation tags shape: (90, 978, 3)\n"
          ]
        }
      ]
    },
    {
      "cell_type": "code",
      "source": [
        "# Train the  model\n",
        "history = model.fit(train_paraghs, train_tags, epochs=10,\n",
        "                validation_data=(val_paraghs, val_tags), batch_size = 8, verbose=1\n",
        "                #callbacks=[tf.keras.callbacks.EarlyStopping(monitor='val_acc', patience=10)]\n",
        "                    )\n"
      ],
      "metadata": {
        "colab": {
          "base_uri": "https://localhost:8080/"
        },
        "id": "ihxxMThuUdP3",
        "outputId": "cf517e92-67c3-4ba0-b328-fb97f73853fc"
      },
      "execution_count": null,
      "outputs": [
        {
          "output_type": "stream",
          "name": "stdout",
          "text": [
            "Epoch 1/10\n",
            "\u001b[1m46/46\u001b[0m \u001b[32m━━━━━━━━━━━━━━━━━━━━\u001b[0m\u001b[37m\u001b[0m \u001b[1m145s\u001b[0m 1s/step - acc: 0.8616 - loss: 0.4023 - val_acc: 0.9404 - val_loss: 0.1354\n",
            "Epoch 2/10\n",
            "\u001b[1m46/46\u001b[0m \u001b[32m━━━━━━━━━━━━━━━━━━━━\u001b[0m\u001b[37m\u001b[0m \u001b[1m77s\u001b[0m 1s/step - acc: 0.9473 - loss: 0.1233 - val_acc: 0.9404 - val_loss: 0.1273\n",
            "Epoch 3/10\n",
            "\u001b[1m46/46\u001b[0m \u001b[32m━━━━━━━━━━━━━━━━━━━━\u001b[0m\u001b[37m\u001b[0m \u001b[1m71s\u001b[0m 1s/step - acc: 0.9482 - loss: 0.1204 - val_acc: 0.9403 - val_loss: 0.1308\n",
            "Epoch 4/10\n",
            "\u001b[1m46/46\u001b[0m \u001b[32m━━━━━━━━━━━━━━━━━━━━\u001b[0m\u001b[37m\u001b[0m \u001b[1m54s\u001b[0m 1s/step - acc: 0.9403 - loss: 0.1315 - val_acc: 0.9404 - val_loss: 0.1321\n",
            "Epoch 5/10\n",
            "\u001b[1m46/46\u001b[0m \u001b[32m━━━━━━━━━━━━━━━━━━━━\u001b[0m\u001b[37m\u001b[0m \u001b[1m78s\u001b[0m 1s/step - acc: 0.9443 - loss: 0.1227 - val_acc: 0.9404 - val_loss: 0.1255\n",
            "Epoch 6/10\n",
            "\u001b[1m46/46\u001b[0m \u001b[32m━━━━━━━━━━━━━━━━━━━━\u001b[0m\u001b[37m\u001b[0m \u001b[1m83s\u001b[0m 1s/step - acc: 0.9464 - loss: 0.1154 - val_acc: 0.9404 - val_loss: 0.1261\n",
            "Epoch 7/10\n",
            "\u001b[1m46/46\u001b[0m \u001b[32m━━━━━━━━━━━━━━━━━━━━\u001b[0m\u001b[37m\u001b[0m \u001b[1m82s\u001b[0m 1s/step - acc: 0.9408 - loss: 0.1268 - val_acc: 0.9404 - val_loss: 0.1249\n",
            "Epoch 8/10\n",
            "\u001b[1m46/46\u001b[0m \u001b[32m━━━━━━━━━━━━━━━━━━━━\u001b[0m\u001b[37m\u001b[0m \u001b[1m84s\u001b[0m 1s/step - acc: 0.9508 - loss: 0.1068 - val_acc: 0.9404 - val_loss: 0.1442\n",
            "Epoch 9/10\n",
            "\u001b[1m46/46\u001b[0m \u001b[32m━━━━━━━━━━━━━━━━━━━━\u001b[0m\u001b[37m\u001b[0m \u001b[1m52s\u001b[0m 1s/step - acc: 0.9473 - loss: 0.1167 - val_acc: 0.9405 - val_loss: 0.1423\n",
            "Epoch 10/10\n",
            "\u001b[1m46/46\u001b[0m \u001b[32m━━━━━━━━━━━━━━━━━━━━\u001b[0m\u001b[37m\u001b[0m \u001b[1m81s\u001b[0m 1s/step - acc: 0.9540 - loss: 0.1049 - val_acc: 0.9393 - val_loss: 0.1237\n"
          ]
        }
      ]
    },
    {
      "cell_type": "code",
      "source": [
        "import matplotlib.pyplot as plt\n",
        "\n",
        "Acc = history.history[\"acc\"]\n",
        "val_Acc = history.history[\"val_acc\"]\n",
        "\n",
        "# Plotting\n",
        "epochs = range(1, len(Acc) + 1)\n",
        "\n",
        "plt.plot(epochs, Acc, label=\"Training Accuracy\")\n",
        "plt.plot(epochs, val_Acc, label=\"Validation Accuracy\")\n",
        "plt.title(\"Training and Validation Accuracy\")\n",
        "plt.xlabel(\"Epochs\")\n",
        "plt.ylabel(\"Accuracy\")\n",
        "plt.legend()\n",
        "plt.show()"
      ],
      "metadata": {
        "id": "a1jTCvkViZiR",
        "colab": {
          "base_uri": "https://localhost:8080/",
          "height": 472
        },
        "outputId": "daed6846-96e5-4c4e-b09a-c232842fa5c5"
      },
      "execution_count": null,
      "outputs": [
        {
          "output_type": "display_data",
          "data": {
            "text/plain": [
              "<Figure size 640x480 with 1 Axes>"
            ],
            "image/png": "[encoded data removed]"
          },
          "metadata": {}
        }
      ]
    },
    {
      "cell_type": "markdown",
      "source": [
        "The validation set accuracy curve is flat which is a sign for overfitting."
      ],
      "metadata": {
        "id": "6r0iO1DevEEf"
      }
    },
    {
      "cell_type": "markdown",
      "source": [
        "# LSTM Based on Lemma"
      ],
      "metadata": {
        "id": "4vsYD7chCd13"
      }
    },
    {
      "cell_type": "markdown",
      "source": [
        "## Data preparation"
      ],
      "metadata": {
        "id": "WPddgUugNRgi"
      }
    },
    {
      "cell_type": "code",
      "source": [
        "import pandas as pd\n",
        "df_clean = pd.read_csv(r\"/content/drive/MyDrive/Final Project/Field Project/NER - IOB/POS_lemma_DepPars_noTypo_inplaced.csv\")"
      ],
      "metadata": {
        "id": "qsLXyaPRvHu0"
      },
      "execution_count": null,
      "outputs": []
    },
    {
      "cell_type": "code",
      "source": [
        "from itertools import chain\n",
        "\n",
        "# Mapping between tokens and their corresponding IDs\n",
        "def dict_map (data, word_tag):\n",
        "\ttoken_TO_id = {}\n",
        "\tid_TO_token = {}\n",
        "\tif word_tag == 'Lemma':\n",
        "\t\tvocab = list(set(data['Lemma'].to_list()))\n",
        "\telse:\n",
        "\t\tvocab = list(set(data['tag'].to_list()))\n",
        "\n",
        "\t#mapping dictionaries\n",
        "\tid_TO_token = {id:tok for id,tok in enumerate(vocab)}\n",
        "\ttoken_TO_id = {tok:id for id,tok in enumerate(vocab)}\n",
        "\treturn token_TO_id, id_TO_token"
      ],
      "metadata": {
        "id": "VI1L7rqtvRhI"
      },
      "execution_count": null,
      "outputs": []
    },
    {
      "cell_type": "code",
      "source": [
        "lemma_TO_id, id_TO_lemma = dict_map(df_clean, 'Lemma')\n",
        "tag_TO_id, id_TO_tag = dict_map(df_clean, 'tag')"
      ],
      "metadata": {
        "id": "2GZzk9Q5vSTN"
      },
      "execution_count": null,
      "outputs": []
    },
    {
      "cell_type": "code",
      "source": [
        "#Apply mapping on the data\n",
        "df_clean['Lemma_id'] = df_clean['Lemma'].map(lemma_TO_id)\n",
        "df_clean['tag_id'] = df_clean['tag'].map(tag_TO_id)"
      ],
      "metadata": {
        "id": "RXH6ZJjtvSoW"
      },
      "execution_count": null,
      "outputs": []
    },
    {
      "cell_type": "code",
      "source": [
        "df_clean.head()"
      ],
      "metadata": {
        "colab": {
          "base_uri": "https://localhost:8080/",
          "height": 206
        },
        "id": "-8SgmhOQvS2Y",
        "outputId": "78e7870a-2f6f-4766-8e25-594b31b7f8e0"
      },
      "execution_count": null,
      "outputs": [
        {
          "output_type": "execute_result",
          "data": {
            "text/plain": [
              "   Unnamed: 0       word tag Paragraph_place    POS     Lemma Dependency_pars  \\\n",
              "0           0    Rydberg   B     A Rydberg 1  PROPN   Rydberg        compound   \n",
              "1           1     atomic   I     A Rydberg 1    ADJ    atomic            amod   \n",
              "2           2    sensors   I     A Rydberg 1   NOUN    sensor           nsubj   \n",
              "3           3        and   I     A Rydberg 1  CCONJ       and              cc   \n",
              "4           4  receivers   I     A Rydberg 1   NOUN  receiver            conj   \n",
              "\n",
              "   Lemma_id  tag_id  \n",
              "0      6803       0  \n",
              "1      5577       2  \n",
              "2      6949       2  \n",
              "3      5738       2  \n",
              "4      5875       2  "
            ],
            "text/html": [
              "\n",
              "  <div id=\"df-3e1ccee2-1de6-4f42-b260-5a004c8c87e2\" class=\"colab-df-container\">\n",
              "    <div>\n",
              "<style scoped>\n",
              "    .dataframe tbody tr th:only-of-type {\n",
              "        vertical-align: middle;\n",
              "    }\n",
              "\n",
              "    .dataframe tbody tr th {\n",
              "        vertical-align: top;\n",
              "    }\n",
              "\n",
              "    .dataframe thead th {\n",
              "        text-align: right;\n",
              "    }\n",
              "</style>\n",
              "<table border=\"1\" class=\"dataframe\">\n",
              "  <thead>\n",
              "    <tr style=\"text-align: right;\">\n",
              "      <th></th>\n",
              "      <th>Unnamed: 0</th>\n",
              "      <th>word</th>\n",
              "      <th>tag</th>\n",
              "      <th>Paragraph_place</th>\n",
              "      <th>POS</th>\n",
              "      <th>Lemma</th>\n",
              "      <th>Dependency_pars</th>\n",
              "      <th>Lemma_id</th>\n",
              "      <th>tag_id</th>\n",
              "    </tr>\n",
              "  </thead>\n",
              "  <tbody>\n",
              "    <tr>\n",
              "      <th>0</th>\n",
              "      <td>0</td>\n",
              "      <td>Rydberg</td>\n",
              "      <td>B</td>\n",
              "      <td>A Rydberg 1</td>\n",
              "      <td>PROPN</td>\n",
              "      <td>Rydberg</td>\n",
              "      <td>compound</td>\n",
              "      <td>6803</td>\n",
              "      <td>0</td>\n",
              "    </tr>\n",
              "    <tr>\n",
              "      <th>1</th>\n",
              "      <td>1</td>\n",
              "      <td>atomic</td>\n",
              "      <td>I</td>\n",
              "      <td>A Rydberg 1</td>\n",
              "      <td>ADJ</td>\n",
              "      <td>atomic</td>\n",
              "      <td>amod</td>\n",
              "      <td>5577</td>\n",
              "      <td>2</td>\n",
              "    </tr>\n",
              "    <tr>\n",
              "      <th>2</th>\n",
              "      <td>2</td>\n",
              "      <td>sensors</td>\n",
              "      <td>I</td>\n",
              "      <td>A Rydberg 1</td>\n",
              "      <td>NOUN</td>\n",
              "      <td>sensor</td>\n",
              "      <td>nsubj</td>\n",
              "      <td>6949</td>\n",
              "      <td>2</td>\n",
              "    </tr>\n",
              "    <tr>\n",
              "      <th>3</th>\n",
              "      <td>3</td>\n",
              "      <td>and</td>\n",
              "      <td>I</td>\n",
              "      <td>A Rydberg 1</td>\n",
              "      <td>CCONJ</td>\n",
              "      <td>and</td>\n",
              "      <td>cc</td>\n",
              "      <td>5738</td>\n",
              "      <td>2</td>\n",
              "    </tr>\n",
              "    <tr>\n",
              "      <th>4</th>\n",
              "      <td>4</td>\n",
              "      <td>receivers</td>\n",
              "      <td>I</td>\n",
              "      <td>A Rydberg 1</td>\n",
              "      <td>NOUN</td>\n",
              "      <td>receiver</td>\n",
              "      <td>conj</td>\n",
              "      <td>5875</td>\n",
              "      <td>2</td>\n",
              "    </tr>\n",
              "  </tbody>\n",
              "</table>\n",
              "</div>\n",
              "    <div class=\"colab-df-buttons\">\n",
              "\n",
              "  <div class=\"colab-df-container\">\n",
              "    <button class=\"colab-df-convert\" onclick=\"convertToInteractive('df-3e1ccee2-1de6-4f42-b260-5a004c8c87e2')\"\n",
              "            title=\"Convert this dataframe to an interactive table.\"\n",
              "            style=\"display:none;\">\n",
              "\n",
              "  <svg xmlns=\"http://www.w3.org/2000/svg\" height=\"24px\" viewBox=\"0 -960 960 960\">\n",
              "    <path d=\"M120-120v-720h720v720H120Zm60-500h600v-160H180v160Zm220 220h160v-160H400v160Zm0 220h160v-160H400v160ZM180-400h160v-160H180v160Zm440 0h160v-160H620v160ZM180-180h160v-160H180v160Zm440 0h160v-160H620v160Z\"/>\n",
              "  </svg>\n",
              "    </button>\n",
              "\n",
              "  <style>\n",
              "    .colab-df-container {\n",
              "      display:flex;\n",
              "      gap: 12px;\n",
              "    }\n",
              "\n",
              "    .colab-df-convert {\n",
              "      background-color: #E8F0FE;\n",
              "      border: none;\n",
              "      border-radius: 50%;\n",
              "      cursor: pointer;\n",
              "      display: none;\n",
              "      fill: #1967D2;\n",
              "      height: 32px;\n",
              "      padding: 0 0 0 0;\n",
              "      width: 32px;\n",
              "    }\n",
              "\n",
              "    .colab-df-convert:hover {\n",
              "      background-color: #E2EBFA;\n",
              "      box-shadow: 0px 1px 2px rgba(60, 64, 67, 0.3), 0px 1px 3px 1px rgba(60, 64, 67, 0.15);\n",
              "      fill: #174EA6;\n",
              "    }\n",
              "\n",
              "    .colab-df-buttons div {\n",
              "      margin-bottom: 4px;\n",
              "    }\n",
              "\n",
              "    [theme=dark] .colab-df-convert {\n",
              "      background-color: #3B4455;\n",
              "      fill: #D2E3FC;\n",
              "    }\n",
              "\n",
              "    [theme=dark] .colab-df-convert:hover {\n",
              "      background-color: #434B5C;\n",
              "      box-shadow: 0px 1px 3px 1px rgba(0, 0, 0, 0.15);\n",
              "      filter: drop-shadow(0px 1px 2px rgba(0, 0, 0, 0.3));\n",
              "      fill: #FFFFFF;\n",
              "    }\n",
              "  </style>\n",
              "\n",
              "    <script>\n",
              "      const buttonEl =\n",
              "        document.querySelector('#df-3e1ccee2-1de6-4f42-b260-5a004c8c87e2 button.colab-df-convert');\n",
              "      buttonEl.style.display =\n",
              "        google.colab.kernel.accessAllowed ? 'block' : 'none';\n",
              "\n",
              "      async function convertToInteractive(key) {\n",
              "        const element = document.querySelector('#df-3e1ccee2-1de6-4f42-b260-5a004c8c87e2');\n",
              "        const dataTable =\n",
              "          await google.colab.kernel.invokeFunction('convertToInteractive',\n",
              "                                                    [key], {});\n",
              "        if (!dataTable) return;\n",
              "\n",
              "        const docLinkHtml = 'Like what you see? Visit the ' +\n",
              "          '<a target=\"_blank\" href=https://colab.research.google.com/notebooks/data_table.ipynb>data table notebook</a>'\n",
              "          + ' to learn more about interactive tables.';\n",
              "        element.innerHTML = '';\n",
              "        dataTable['output_type'] = 'display_data';\n",
              "        await google.colab.output.renderOutput(dataTable, element);\n",
              "        const docLink = document.createElement('div');\n",
              "        docLink.innerHTML = docLinkHtml;\n",
              "        element.appendChild(docLink);\n",
              "      }\n",
              "    </script>\n",
              "  </div>\n",
              "\n",
              "\n",
              "<div id=\"df-66e38f91-1624-4ce8-b20d-e4d9155074ac\">\n",
              "  <button class=\"colab-df-quickchart\" onclick=\"quickchart('df-66e38f91-1624-4ce8-b20d-e4d9155074ac')\"\n",
              "            title=\"Suggest charts\"\n",
              "            style=\"display:none;\">\n",
              "\n",
              "<svg xmlns=\"http://www.w3.org/2000/svg\" height=\"24px\"viewBox=\"0 0 24 24\"\n",
              "     width=\"24px\">\n",
              "    <g>\n",
              "        <path d=\"M19 3H5c-1.1 0-2 .9-2 2v14c0 1.1.9 2 2 2h14c1.1 0 2-.9 2-2V5c0-1.1-.9-2-2-2zM9 17H7v-7h2v7zm4 0h-2V7h2v10zm4 0h-2v-4h2v4z\"/>\n",
              "    </g>\n",
              "</svg>\n",
              "  </button>\n",
              "\n",
              "<style>\n",
              "  .colab-df-quickchart {\n",
              "      --bg-color: #E8F0FE;\n",
              "      --fill-color: #1967D2;\n",
              "      --hover-bg-color: #E2EBFA;\n",
              "      --hover-fill-color: #174EA6;\n",
              "      --disabled-fill-color: #AAA;\n",
              "      --disabled-bg-color: #DDD;\n",
              "  }\n",
              "\n",
              "  [theme=dark] .colab-df-quickchart {\n",
              "      --bg-color: #3B4455;\n",
              "      --fill-color: #D2E3FC;\n",
              "      --hover-bg-color: #434B5C;\n",
              "      --hover-fill-color: #FFFFFF;\n",
              "      --disabled-bg-color: #3B4455;\n",
              "      --disabled-fill-color: #666;\n",
              "  }\n",
              "\n",
              "  .colab-df-quickchart {\n",
              "    background-color: var(--bg-color);\n",
              "    border: none;\n",
              "    border-radius: 50%;\n",
              "    cursor: pointer;\n",
              "    display: none;\n",
              "    fill: var(--fill-color);\n",
              "    height: 32px;\n",
              "    padding: 0;\n",
              "    width: 32px;\n",
              "  }\n",
              "\n",
              "  .colab-df-quickchart:hover {\n",
              "    background-color: var(--hover-bg-color);\n",
              "    box-shadow: 0 1px 2px rgba(60, 64, 67, 0.3), 0 1px 3px 1px rgba(60, 64, 67, 0.15);\n",
              "    fill: var(--button-hover-fill-color);\n",
              "  }\n",
              "\n",
              "  .colab-df-quickchart-complete:disabled,\n",
              "  .colab-df-quickchart-complete:disabled:hover {\n",
              "    background-color: var(--disabled-bg-color);\n",
              "    fill: var(--disabled-fill-color);\n",
              "    box-shadow: none;\n",
              "  }\n",
              "\n",
              "  .colab-df-spinner {\n",
              "    border: 2px solid var(--fill-color);\n",
              "    border-color: transparent;\n",
              "    border-bottom-color: var(--fill-color);\n",
              "    animation:\n",
              "      spin 1s steps(1) infinite;\n",
              "  }\n",
              "\n",
              "  @keyframes spin {\n",
              "    0% {\n",
              "      border-color: transparent;\n",
              "      border-bottom-color: var(--fill-color);\n",
              "      border-left-color: var(--fill-color);\n",
              "    }\n",
              "    20% {\n",
              "      border-color: transparent;\n",
              "      border-left-color: var(--fill-color);\n",
              "      border-top-color: var(--fill-color);\n",
              "    }\n",
              "    30% {\n",
              "      border-color: transparent;\n",
              "      border-left-color: var(--fill-color);\n",
              "      border-top-color: var(--fill-color);\n",
              "      border-right-color: var(--fill-color);\n",
              "    }\n",
              "    40% {\n",
              "      border-color: transparent;\n",
              "      border-right-color: var(--fill-color);\n",
              "      border-top-color: var(--fill-color);\n",
              "    }\n",
              "    60% {\n",
              "      border-color: transparent;\n",
              "      border-right-color: var(--fill-color);\n",
              "    }\n",
              "    80% {\n",
              "      border-color: transparent;\n",
              "      border-right-color: var(--fill-color);\n",
              "      border-bottom-color: var(--fill-color);\n",
              "    }\n",
              "    90% {\n",
              "      border-color: transparent;\n",
              "      border-bottom-color: var(--fill-color);\n",
              "    }\n",
              "  }\n",
              "</style>\n",
              "\n",
              "  <script>\n",
              "    async function quickchart(key) {\n",
              "      const quickchartButtonEl =\n",
              "        document.querySelector('#' + key + ' button');\n",
              "      quickchartButtonEl.disabled = true;  // To prevent multiple clicks.\n",
              "      quickchartButtonEl.classList.add('colab-df-spinner');\n",
              "      try {\n",
              "        const charts = await google.colab.kernel.invokeFunction(\n",
              "            'suggestCharts', [key], {});\n",
              "      } catch (error) {\n",
              "        console.error('Error during call to suggestCharts:', error);\n",
              "      }\n",
              "      quickchartButtonEl.classList.remove('colab-df-spinner');\n",
              "      quickchartButtonEl.classList.add('colab-df-quickchart-complete');\n",
              "    }\n",
              "    (() => {\n",
              "      let quickchartButtonEl =\n",
              "        document.querySelector('#df-66e38f91-1624-4ce8-b20d-e4d9155074ac button');\n",
              "      quickchartButtonEl.style.display =\n",
              "        google.colab.kernel.accessAllowed ? 'block' : 'none';\n",
              "    })();\n",
              "  </script>\n",
              "</div>\n",
              "\n",
              "    </div>\n",
              "  </div>\n"
            ],
            "application/vnd.google.colaboratory.intrinsic+json": {
              "type": "dataframe",
              "variable_name": "df_clean"
            }
          },
          "metadata": {},
          "execution_count": 7
        }
      ]
    },
    {
      "cell_type": "code",
      "source": [
        "#Group by predefined column as mark and aggregate the columns\n",
        "df_grouped = df_clean.groupby(['Paragraph_place'], as_index=False)[['Lemma', 'tag', 'POS', 'Dependency_pars', 'Lemma_id', 'tag_id']].agg(lambda x: list(x))"
      ],
      "metadata": {
        "id": "FhHD-RSBwqGE"
      },
      "execution_count": null,
      "outputs": []
    },
    {
      "cell_type": "code",
      "source": [
        "from sklearn.model_selection import train_test_split\n",
        "\n",
        "grouped = df_grouped.groupby('Paragraph_place')\n",
        "\n",
        "sizes = grouped.size().cumsum() #cumulative size\n",
        "\n",
        "train_size = 0.7 * sizes.iloc[-1]\n",
        "val_size = 0.2 * train_size\n",
        "test_size = sizes.iloc[-1] - train_size\n",
        "\n",
        "#Train, test index based on 'Paragraph_place' column\n",
        "train_idx = sizes[sizes <= train_size].index\n",
        "test_idx = sizes[sizes > train_size].index\n",
        "\n",
        "\n",
        "train_data_with_val = df_grouped[df_grouped['Paragraph_place'].isin(train_idx)]\n",
        "test_data = df_grouped[df_grouped['Paragraph_place'].isin(test_idx)]\n",
        "\n",
        "#Validation set\n",
        "train_sizes = train_data_with_val.groupby('Paragraph_place').size().cumsum()\n",
        "val_idx = train_sizes[train_sizes <= val_size].index\n",
        "final_train_idx = train_sizes[train_sizes > val_size].index\n",
        "\n",
        "val_data = train_data_with_val[train_data_with_val['Paragraph_place'].isin(val_idx)]\n",
        "train_data = train_data_with_val[train_data_with_val['Paragraph_place'].isin(final_train_idx)]"
      ],
      "metadata": {
        "id": "3Xs_MhOvw50c"
      },
      "execution_count": null,
      "outputs": []
    },
    {
      "cell_type": "code",
      "source": [
        "#Maximum Paragh length\n",
        "Paragh_list = train_data['Lemma_id'].to_list()\n",
        "max_lenght = max([len(paragh) for paragh in Paragh_list])\n",
        "print(\"max Paragraph length is %i\" %max_lenght)"
      ],
      "metadata": {
        "colab": {
          "base_uri": "https://localhost:8080/"
        },
        "id": "85hFsILxxJqK",
        "outputId": "d0b314b3-35d7-48d3-edfb-95b5d1512fb6"
      },
      "execution_count": null,
      "outputs": [
        {
          "output_type": "stream",
          "name": "stdout",
          "text": [
            "max Paragraph length is 978\n"
          ]
        }
      ]
    },
    {
      "cell_type": "code",
      "source": [
        "#Maximum Tag length\n",
        "Tag_list = train_data['tag_id'].to_list()\n",
        "max_lenght_tag = max([len(tag) for tag in Tag_list])\n",
        "print(\"max Tag length is %i\" %max_lenght_tag)"
      ],
      "metadata": {
        "colab": {
          "base_uri": "https://localhost:8080/"
        },
        "id": "6sRtZE0-xOVe",
        "outputId": "680fc9fa-7c61-4471-b26f-2051f0ef7363"
      },
      "execution_count": null,
      "outputs": [
        {
          "output_type": "stream",
          "name": "stdout",
          "text": [
            "max Tag length is 978\n"
          ]
        }
      ]
    },
    {
      "cell_type": "code",
      "source": [
        "print(\"Checking for NaN values in the DataFrame:\")\n",
        "print(df_clean.isna().sum())"
      ],
      "metadata": {
        "colab": {
          "base_uri": "https://localhost:8080/"
        },
        "id": "wYxEXtrIywnm",
        "outputId": "3fc124c8-8553-4ddf-8a24-19b19b6d9e52"
      },
      "execution_count": null,
      "outputs": [
        {
          "output_type": "stream",
          "name": "stdout",
          "text": [
            "Checking for NaN values in the DataFrame:\n",
            "Unnamed: 0         0\n",
            "word               0\n",
            "tag                0\n",
            "Paragraph_place    0\n",
            "POS                0\n",
            "Lemma              0\n",
            "Dependency_pars    0\n",
            "Lemma_id           0\n",
            "tag_id             0\n",
            "dtype: int64\n"
          ]
        }
      ]
    },
    {
      "cell_type": "code",
      "source": [
        "#Padding\n",
        "from tensorflow.keras.preprocessing.sequence import pad_sequences\n",
        "from tensorflow.keras.utils import to_categorical\n",
        "\n",
        "pad_paraghs = pad_sequences(Paragh_list, maxlen= max_lenght, padding='post', value= lemma_TO_id['the'])\n",
        "pad_tags = pad_sequences(Tag_list, maxlen=max_lenght_tag, padding='post', value=tag_TO_id['O'])\n",
        "\n",
        "\n",
        "# Determine number of classes\n",
        "num_classes = len(tag_TO_id)\n",
        "pad_tags = to_categorical(pad_tags, num_classes=num_classes)"
      ],
      "metadata": {
        "id": "REibFcszxUp-"
      },
      "execution_count": null,
      "outputs": []
    },
    {
      "cell_type": "code",
      "source": [
        "train_paraghs = pad_paraghs\n",
        "print ('string shape:',train_paraghs.shape)\n",
        "\n",
        "train_tags = pad_tags\n",
        "print ('tag shape:',train_tags.shape)"
      ],
      "metadata": {
        "colab": {
          "base_uri": "https://localhost:8080/"
        },
        "id": "lN1Aa7x6zSKU",
        "outputId": "3325a9d9-219f-4ce1-fe05-11eb6dea7f7d"
      },
      "execution_count": null,
      "outputs": [
        {
          "output_type": "stream",
          "name": "stdout",
          "text": [
            "string shape: (362, 978)\n",
            "tag shape: (362, 978, 3)\n"
          ]
        }
      ]
    },
    {
      "cell_type": "markdown",
      "source": [
        "## Defining model"
      ],
      "metadata": {
        "id": "m5exEdA7NYKC"
      }
    },
    {
      "cell_type": "code",
      "source": [
        "import numpy as np\n",
        "from tensorflow.keras import Sequential, Model, Input\n",
        "from tensorflow.keras.layers import Embedding, LSTM, TimeDistributed, Dense\n",
        "from tensorflow.keras.utils import plot_model\n",
        "\n",
        "# Network details and specifications\n",
        "shape = train_paraghs[1].shape\n",
        "input_dim = len(list(set(df_clean['Lemma'].to_list())))+1\n",
        "output_dim = 32\n",
        "input_length = max_lenght\n",
        "output_nodes = len (id_TO_tag)"
      ],
      "metadata": {
        "id": "BHlt-vWnziW6"
      },
      "execution_count": null,
      "outputs": []
    },
    {
      "cell_type": "code",
      "source": [
        "import tensorflow\n",
        "import gc\n",
        "\n",
        "#Clear Keras\n",
        "tensorflow.keras.backend.clear_session()\n",
        "gc.collect()\n",
        "\n",
        "\n",
        "input_layer  = Input(shape=(978,))\n",
        "embedding = Embedding(input_dim=input_dim, output_dim=output_dim)(input_layer)\n",
        "Lstm_1 = LSTM(units= output_dim, return_sequences=True )(embedding)\n",
        "Lstm_2 = LSTM(units= output_dim, return_sequences=True)(Lstm_1)\n",
        "output = TimeDistributed(Dense(units=output_nodes, activation='softmax'))(Lstm_2)\n",
        "\n",
        "model = Model(inputs= input_layer, outputs=output)"
      ],
      "metadata": {
        "id": "Z8lgLfCEzqE2"
      },
      "execution_count": null,
      "outputs": []
    },
    {
      "cell_type": "code",
      "source": [
        "model.compile(optimizer= tensorflow.keras.optimizers.RMSprop(1e-3), loss = tensorflow.keras.losses.CategoricalCrossentropy, metrics=['acc'])\n"
      ],
      "metadata": {
        "id": "b8eT3k5uzwSI"
      },
      "execution_count": null,
      "outputs": []
    },
    {
      "cell_type": "code",
      "source": [
        "#Validation data\n",
        "Paragh_list_validation = val_data['Lemma_id'].to_list()"
      ],
      "metadata": {
        "id": "HDG0er43zz5Y"
      },
      "execution_count": null,
      "outputs": []
    },
    {
      "cell_type": "code",
      "source": [
        "Tag_list_validation = val_data['tag_id'].to_list()"
      ],
      "metadata": {
        "id": "z_6NZ-Jlz-SW"
      },
      "execution_count": null,
      "outputs": []
    },
    {
      "cell_type": "code",
      "source": [
        "#Padding\n",
        "from tensorflow.keras.preprocessing.sequence import pad_sequences\n",
        "\n",
        "pad_paraghs_val = pad_sequences(Paragh_list_validation, maxlen= max_lenght, padding='post', value= lemma_TO_id['the'])\n",
        "\n",
        "pad_tag_val = pad_sequences(Tag_list_validation, maxlen=max_lenght_tag, padding='post', value=tag_TO_id['O'])\n",
        "\n",
        "# Convert tag to encoding\n",
        "num_classes = len(tag_TO_id)\n",
        "pad_tag_val = to_categorical(pad_tag_val, num_classes=num_classes)\n",
        "\n"
      ],
      "metadata": {
        "id": "vcSGQFjc0Bwf"
      },
      "execution_count": null,
      "outputs": []
    },
    {
      "cell_type": "code",
      "source": [
        "val_paraghs = pad_paraghs_val\n",
        "val_tags = pad_tag_val\n"
      ],
      "metadata": {
        "id": "u1JntIrH0TVd"
      },
      "execution_count": null,
      "outputs": []
    },
    {
      "cell_type": "code",
      "source": [
        "print('Train paragraph shape:', train_paraghs.shape)\n",
        "print('Train tags shape:', train_tags.shape)\n",
        "print('Validation paragraph shape:', val_paraghs.shape)\n",
        "print('Validation tags shape:', val_tags.shape)"
      ],
      "metadata": {
        "colab": {
          "base_uri": "https://localhost:8080/"
        },
        "id": "0mGx2psL0Ur7",
        "outputId": "3c7c760c-d7ee-4a3e-aec8-4a62bf653983"
      },
      "execution_count": null,
      "outputs": [
        {
          "output_type": "stream",
          "name": "stdout",
          "text": [
            "Train paragraph shape: (362, 978)\n",
            "Train tags shape: (362, 978, 3)\n",
            "Validation paragraph shape: (90, 978)\n",
            "Validation tags shape: (90, 978, 3)\n"
          ]
        }
      ]
    },
    {
      "cell_type": "code",
      "source": [
        "# Train the best model\n",
        "history = model.fit(train_paraghs, train_tags, epochs=10,\n",
        "                validation_data=(val_paraghs, val_tags), batch_size = 8, verbose=1\n",
        "                #callbacks=[tf.keras.callbacks.EarlyStopping(monitor='val_acc', patience=2)]\n",
        "                    )"
      ],
      "metadata": {
        "colab": {
          "base_uri": "https://localhost:8080/"
        },
        "id": "YDeIbRFW0V8w",
        "outputId": "b5166c72-b3f0-416b-8305-8571d1df432b"
      },
      "execution_count": null,
      "outputs": [
        {
          "output_type": "stream",
          "name": "stdout",
          "text": [
            "Epoch 1/10\n",
            "\u001b[1m46/46\u001b[0m \u001b[32m━━━━━━━━━━━━━━━━━━━━\u001b[0m\u001b[37m\u001b[0m \u001b[1m141s\u001b[0m 1s/step - acc: 0.9439 - loss: 0.3600 - val_acc: 0.9404 - val_loss: 0.1325\n",
            "Epoch 2/10\n",
            "\u001b[1m46/46\u001b[0m \u001b[32m━━━━━━━━━━━━━━━━━━━━\u001b[0m\u001b[37m\u001b[0m \u001b[1m65s\u001b[0m 1s/step - acc: 0.9442 - loss: 0.1290 - val_acc: 0.9404 - val_loss: 0.1286\n",
            "Epoch 3/10\n",
            "\u001b[1m46/46\u001b[0m \u001b[32m━━━━━━━━━━━━━━━━━━━━\u001b[0m\u001b[37m\u001b[0m \u001b[1m82s\u001b[0m 1s/step - acc: 0.9445 - loss: 0.1311 - val_acc: 0.9404 - val_loss: 0.1281\n",
            "Epoch 4/10\n",
            "\u001b[1m46/46\u001b[0m \u001b[32m━━━━━━━━━━━━━━━━━━━━\u001b[0m\u001b[37m\u001b[0m \u001b[1m56s\u001b[0m 1s/step - acc: 0.9500 - loss: 0.1134 - val_acc: 0.9404 - val_loss: 0.1274\n",
            "Epoch 5/10\n",
            "\u001b[1m46/46\u001b[0m \u001b[32m━━━━━━━━━━━━━━━━━━━━\u001b[0m\u001b[37m\u001b[0m \u001b[1m78s\u001b[0m 1s/step - acc: 0.9445 - loss: 0.1243 - val_acc: 0.9404 - val_loss: 0.1257\n",
            "Epoch 6/10\n",
            "\u001b[1m46/46\u001b[0m \u001b[32m━━━━━━━━━━━━━━━━━━━━\u001b[0m\u001b[37m\u001b[0m \u001b[1m83s\u001b[0m 1s/step - acc: 0.9478 - loss: 0.1163 - val_acc: 0.9404 - val_loss: 0.1272\n",
            "Epoch 7/10\n",
            "\u001b[1m46/46\u001b[0m \u001b[32m━━━━━━━━━━━━━━━━━━━━\u001b[0m\u001b[37m\u001b[0m \u001b[1m81s\u001b[0m 1s/step - acc: 0.9437 - loss: 0.1226 - val_acc: 0.9404 - val_loss: 0.1242\n",
            "Epoch 8/10\n",
            "\u001b[1m46/46\u001b[0m \u001b[32m━━━━━━━━━━━━━━━━━━━━\u001b[0m\u001b[37m\u001b[0m \u001b[1m81s\u001b[0m 1s/step - acc: 0.9426 - loss: 0.1264 - val_acc: 0.9412 - val_loss: 0.1243\n",
            "Epoch 9/10\n",
            "\u001b[1m46/46\u001b[0m \u001b[32m━━━━━━━━━━━━━━━━━━━━\u001b[0m\u001b[37m\u001b[0m \u001b[1m80s\u001b[0m 1s/step - acc: 0.9430 - loss: 0.1220 - val_acc: 0.9404 - val_loss: 0.1278\n",
            "Epoch 10/10\n",
            "\u001b[1m46/46\u001b[0m \u001b[32m━━━━━━━━━━━━━━━━━━━━\u001b[0m\u001b[37m\u001b[0m \u001b[1m54s\u001b[0m 1s/step - acc: 0.9441 - loss: 0.1209 - val_acc: 0.9412 - val_loss: 0.1218\n"
          ]
        }
      ]
    },
    {
      "cell_type": "code",
      "source": [
        "import matplotlib.pyplot as plt\n",
        "\n",
        "Acc = history.history[\"acc\"]\n",
        "val_Acc = history.history[\"val_acc\"]\n",
        "\n",
        "# Plotting\n",
        "epochs = range(1, len(Acc) + 1)\n",
        "\n",
        "plt.plot(epochs, Acc, label=\"Training Accuracy\")\n",
        "plt.plot(epochs, val_Acc, label=\"Validation Accuracy\")\n",
        "plt.title(\"Training and Validation Accuracy\")\n",
        "plt.xlabel(\"Epochs\")\n",
        "plt.ylabel(\"Accuracy\")\n",
        "plt.legend()\n",
        "plt.show()\n"
      ],
      "metadata": {
        "colab": {
          "base_uri": "https://localhost:8080/",
          "height": 472
        },
        "id": "IL0khIyG3pOp",
        "outputId": "8c0108d8-6036-4094-c893-ecee45d8364d"
      },
      "execution_count": null,
      "outputs": [
        {
          "output_type": "display_data",
          "data": {
            "text/plain": [
              "<Figure size 640x480 with 1 Axes>"
            ],
            "image/png": "[encoded data removed]"
          },
          "metadata": {}
        }
      ]
    },
    {
      "cell_type": "code",
      "source": [
        "#Clear Keras\n",
        "tensorflow.keras.backend.clear_session()\n",
        "gc.collect()"
      ],
      "metadata": {
        "colab": {
          "base_uri": "https://localhost:8080/"
        },
        "id": "LhUqRZoKAKqp",
        "outputId": "87363543-8a41-41fa-81e2-abddd7ae00c9"
      },
      "execution_count": null,
      "outputs": [
        {
          "output_type": "execute_result",
          "data": {
            "text/plain": [
              "0"
            ]
          },
          "metadata": {},
          "execution_count": 120
        }
      ]
    },
    {
      "cell_type": "code",
      "source": [
        "# Train new model\n",
        "history = model.fit(train_paraghs, train_tags, epochs=10,\n",
        "                validation_data=(val_paraghs, val_tags), batch_size = 16, verbose=1 #batch_size changed\n",
        "                #callbacks=[tf.keras.callbacks.EarlyStopping(monitor='val_acc', patience=5)]\n",
        "                    )"
      ],
      "metadata": {
        "colab": {
          "base_uri": "https://localhost:8080/"
        },
        "id": "HuoJ-GZYAOGp",
        "outputId": "a3c734a9-755b-4e8f-e7f6-30c271538b84"
      },
      "execution_count": null,
      "outputs": [
        {
          "output_type": "stream",
          "name": "stdout",
          "text": [
            "Epoch 1/10\n",
            "\u001b[1m23/23\u001b[0m \u001b[32m━━━━━━━━━━━━━━━━━━━━\u001b[0m\u001b[37m\u001b[0m \u001b[1m65s\u001b[0m 2s/step - acc: 0.9479 - loss: 0.1111 - val_acc: 0.9418 - val_loss: 0.1211\n",
            "Epoch 2/10\n",
            "\u001b[1m23/23\u001b[0m \u001b[32m━━━━━━━━━━━━━━━━━━━━\u001b[0m\u001b[37m\u001b[0m \u001b[1m33s\u001b[0m 1s/step - acc: 0.9465 - loss: 0.1163 - val_acc: 0.9413 - val_loss: 0.1212\n",
            "Epoch 3/10\n",
            "\u001b[1m23/23\u001b[0m \u001b[32m━━━━━━━━━━━━━━━━━━━━\u001b[0m\u001b[37m\u001b[0m \u001b[1m41s\u001b[0m 1s/step - acc: 0.9483 - loss: 0.1102 - val_acc: 0.9421 - val_loss: 0.1202\n",
            "Epoch 4/10\n",
            "\u001b[1m23/23\u001b[0m \u001b[32m━━━━━━━━━━━━━━━━━━━━\u001b[0m\u001b[37m\u001b[0m \u001b[1m33s\u001b[0m 1s/step - acc: 0.9529 - loss: 0.1042 - val_acc: 0.9409 - val_loss: 0.1309\n",
            "Epoch 5/10\n",
            "\u001b[1m23/23\u001b[0m \u001b[32m━━━━━━━━━━━━━━━━━━━━\u001b[0m\u001b[37m\u001b[0m \u001b[1m41s\u001b[0m 1s/step - acc: 0.9533 - loss: 0.1034 - val_acc: 0.9417 - val_loss: 0.1256\n",
            "Epoch 6/10\n",
            "\u001b[1m23/23\u001b[0m \u001b[32m━━━━━━━━━━━━━━━━━━━━\u001b[0m\u001b[37m\u001b[0m \u001b[1m33s\u001b[0m 1s/step - acc: 0.9526 - loss: 0.1048 - val_acc: 0.9428 - val_loss: 0.1199\n",
            "Epoch 7/10\n",
            "\u001b[1m23/23\u001b[0m \u001b[32m━━━━━━━━━━━━━━━━━━━━\u001b[0m\u001b[37m\u001b[0m \u001b[1m33s\u001b[0m 1s/step - acc: 0.9554 - loss: 0.1013 - val_acc: 0.9414 - val_loss: 0.1415\n",
            "Epoch 8/10\n",
            "\u001b[1m23/23\u001b[0m \u001b[32m━━━━━━━━━━━━━━━━━━━━\u001b[0m\u001b[37m\u001b[0m \u001b[1m33s\u001b[0m 1s/step - acc: 0.9587 - loss: 0.0954 - val_acc: 0.9414 - val_loss: 0.1420\n",
            "Epoch 9/10\n",
            "\u001b[1m23/23\u001b[0m \u001b[32m━━━━━━━━━━━━━━━━━━━━\u001b[0m\u001b[37m\u001b[0m \u001b[1m41s\u001b[0m 1s/step - acc: 0.9603 - loss: 0.0915 - val_acc: 0.9420 - val_loss: 0.1229\n",
            "Epoch 10/10\n",
            "\u001b[1m23/23\u001b[0m \u001b[32m━━━━━━━━━━━━━━━━━━━━\u001b[0m\u001b[37m\u001b[0m \u001b[1m41s\u001b[0m 1s/step - acc: 0.9639 - loss: 0.0891 - val_acc: 0.9428 - val_loss: 0.1350\n"
          ]
        }
      ]
    },
    {
      "cell_type": "code",
      "source": [
        "import matplotlib.pyplot as plt\n",
        "\n",
        "Acc = history.history[\"acc\"]\n",
        "val_Acc = history.history[\"val_acc\"]\n",
        "\n",
        "# Plotting\n",
        "epochs = range(1, len(Acc) + 1)\n",
        "\n",
        "plt.plot(epochs, Acc, label=\"Training Accuracy\")\n",
        "plt.plot(epochs, val_Acc, label=\"Validation Accuracy\")\n",
        "plt.title(\"Training and Validation Accuracy\")\n",
        "plt.xlabel(\"Epochs\")\n",
        "plt.ylabel(\"Accuracy\")\n",
        "plt.legend()\n",
        "plt.show()\n"
      ],
      "metadata": {
        "colab": {
          "base_uri": "https://localhost:8080/",
          "height": 472
        },
        "id": "VWxVfjtpB4Jk",
        "outputId": "9b5e68a6-30bc-4d71-bf6e-217466b777a0"
      },
      "execution_count": null,
      "outputs": [
        {
          "output_type": "display_data",
          "data": {
            "text/plain": [
              "<Figure size 640x480 with 1 Axes>"
            ],
            "image/png": "[encoded data removed]"
          },
          "metadata": {}
        }
      ]
    },
    {
      "cell_type": "code",
      "source": [
        "#Clear Keras\n",
        "tensorflow.keras.backend.clear_session()\n",
        "gc.collect()\n",
        "\n",
        "# Train new model\n",
        "history = model.fit(train_paraghs, train_tags, epochs=10,\n",
        "                validation_data=(val_paraghs, val_tags), batch_size = 32, verbose=1 #bacth_size changed\n",
        "                #callbacks=[tf.keras.callbacks.EarlyStopping(monitor='val_acc', patience=5)]\n",
        "                    )"
      ],
      "metadata": {
        "colab": {
          "base_uri": "https://localhost:8080/"
        },
        "id": "KeX_51SQCBqd",
        "outputId": "ff99d90f-e52e-4ba8-85e9-08472a90837e"
      },
      "execution_count": null,
      "outputs": [
        {
          "output_type": "stream",
          "name": "stdout",
          "text": [
            "Epoch 1/10\n",
            "\u001b[1m12/12\u001b[0m \u001b[32m━━━━━━━━━━━━━━━━━━━━\u001b[0m\u001b[37m\u001b[0m \u001b[1m120s\u001b[0m 3s/step - acc: 0.7312 - loss: 0.6093 - val_acc: 0.9404 - val_loss: 0.1754\n",
            "Epoch 2/10\n",
            "\u001b[1m12/12\u001b[0m \u001b[32m━━━━━━━━━━━━━━━━━━━━\u001b[0m\u001b[37m\u001b[0m \u001b[1m22s\u001b[0m 2s/step - acc: 0.9421 - loss: 0.1753 - val_acc: 0.9404 - val_loss: 0.1512\n",
            "Epoch 3/10\n",
            "\u001b[1m12/12\u001b[0m \u001b[32m━━━━━━━━━━━━━━━━━━━━\u001b[0m\u001b[37m\u001b[0m \u001b[1m24s\u001b[0m 2s/step - acc: 0.9463 - loss: 0.1412 - val_acc: 0.9404 - val_loss: 0.1388\n",
            "Epoch 4/10\n",
            "\u001b[1m12/12\u001b[0m \u001b[32m━━━━━━━━━━━━━━━━━━━━\u001b[0m\u001b[37m\u001b[0m \u001b[1m23s\u001b[0m 2s/step - acc: 0.9452 - loss: 0.1346 - val_acc: 0.9404 - val_loss: 0.1338\n",
            "Epoch 5/10\n",
            "\u001b[1m12/12\u001b[0m \u001b[32m━━━━━━━━━━━━━━━━━━━━\u001b[0m\u001b[37m\u001b[0m \u001b[1m41s\u001b[0m 2s/step - acc: 0.9446 - loss: 0.1279 - val_acc: 0.9404 - val_loss: 0.1292\n",
            "Epoch 6/10\n",
            "\u001b[1m12/12\u001b[0m \u001b[32m━━━━━━━━━━━━━━━━━━━━\u001b[0m\u001b[37m\u001b[0m \u001b[1m21s\u001b[0m 2s/step - acc: 0.9454 - loss: 0.1234 - val_acc: 0.9404 - val_loss: 0.1282\n",
            "Epoch 7/10\n",
            "\u001b[1m12/12\u001b[0m \u001b[32m━━━━━━━━━━━━━━━━━━━━\u001b[0m\u001b[37m\u001b[0m \u001b[1m25s\u001b[0m 2s/step - acc: 0.9459 - loss: 0.1223 - val_acc: 0.9404 - val_loss: 0.1281\n",
            "Epoch 8/10\n",
            "\u001b[1m12/12\u001b[0m \u001b[32m━━━━━━━━━━━━━━━━━━━━\u001b[0m\u001b[37m\u001b[0m \u001b[1m39s\u001b[0m 2s/step - acc: 0.9450 - loss: 0.1223 - val_acc: 0.9404 - val_loss: 0.1271\n",
            "Epoch 9/10\n",
            "\u001b[1m12/12\u001b[0m \u001b[32m━━━━━━━━━━━━━━━━━━━━\u001b[0m\u001b[37m\u001b[0m \u001b[1m39s\u001b[0m 2s/step - acc: 0.9465 - loss: 0.1209 - val_acc: 0.9404 - val_loss: 0.1292\n",
            "Epoch 10/10\n",
            "\u001b[1m12/12\u001b[0m \u001b[32m━━━━━━━━━━━━━━━━━━━━\u001b[0m\u001b[37m\u001b[0m \u001b[1m41s\u001b[0m 2s/step - acc: 0.9446 - loss: 0.1265 - val_acc: 0.9404 - val_loss: 0.1265\n"
          ]
        }
      ]
    },
    {
      "cell_type": "code",
      "source": [
        "import matplotlib.pyplot as plt\n",
        "\n",
        "Acc = history.history[\"acc\"]\n",
        "val_Acc = history.history[\"val_acc\"]\n",
        "\n",
        "# Plotting\n",
        "epochs = range(1, len(Acc) + 1)\n",
        "\n",
        "plt.plot(epochs, Acc, label=\"Training Accuracy\")\n",
        "plt.plot(epochs, val_Acc, label=\"Validation Accuracy\")\n",
        "plt.title(\"Training and Validation Accuracy\")\n",
        "plt.xlabel(\"Epochs\")\n",
        "plt.ylabel(\"Accuracy\")\n",
        "plt.legend()\n",
        "plt.show()\n"
      ],
      "metadata": {
        "colab": {
          "base_uri": "https://localhost:8080/",
          "height": 472
        },
        "id": "2-RhDkldCIOm",
        "outputId": "76f49fdd-e3b7-4a77-aa70-f728949d98a4"
      },
      "execution_count": null,
      "outputs": [
        {
          "output_type": "display_data",
          "data": {
            "text/plain": [
              "<Figure size 640x480 with 1 Axes>"
            ],
            "image/png": "[encoded data removed]"
          },
          "metadata": {}
        }
      ]
    },
    {
      "cell_type": "markdown",
      "source": [
        "It seems like batch size 16 is working better."
      ],
      "metadata": {
        "id": "j5nORGRjFb-4"
      }
    },
    {
      "cell_type": "markdown",
      "source": [
        "# Random search"
      ],
      "metadata": {
        "id": "FJlnn97aIfbt"
      }
    },
    {
      "cell_type": "code",
      "source": [
        "pip install keras-tuner"
      ],
      "metadata": {
        "collapsed": true,
        "colab": {
          "base_uri": "https://localhost:8080/"
        },
        "id": "nOV10NKDUCgm",
        "outputId": "889c48c7-efcc-4859-cefb-5358af243814"
      },
      "execution_count": null,
      "outputs": [
        {
          "output_type": "stream",
          "name": "stdout",
          "text": [
            "Collecting keras-tuner\n",
            "  Downloading keras_tuner-1.4.7-py3-none-any.whl.metadata (5.4 kB)\n",
            "Requirement already satisfied: keras in /usr/local/lib/python3.10/dist-packages (from keras-tuner) (3.4.1)\n",
            "Requirement already satisfied: packaging in /usr/local/lib/python3.10/dist-packages (from keras-tuner) (24.1)\n",
            "Requirement already satisfied: requests in /usr/local/lib/python3.10/dist-packages (from keras-tuner) (2.32.3)\n",
            "Collecting kt-legacy (from keras-tuner)\n",
            "  Downloading kt_legacy-1.0.5-py3-none-any.whl.metadata (221 bytes)\n",
            "Requirement already satisfied: absl-py in /usr/local/lib/python3.10/dist-packages (from keras->keras-tuner) (1.4.0)\n",
            "Requirement already satisfied: numpy in /usr/local/lib/python3.10/dist-packages (from keras->keras-tuner) (1.26.4)\n",
            "Requirement already satisfied: rich in /usr/local/lib/python3.10/dist-packages (from keras->keras-tuner) (13.7.1)\n",
            "Requirement already satisfied: namex in /usr/local/lib/python3.10/dist-packages (from keras->keras-tuner) (0.0.8)\n",
            "Requirement already satisfied: h5py in /usr/local/lib/python3.10/dist-packages (from keras->keras-tuner) (3.11.0)\n",
            "Requirement already satisfied: optree in /usr/local/lib/python3.10/dist-packages (from keras->keras-tuner) (0.12.1)\n",
            "Requirement already satisfied: ml-dtypes in /usr/local/lib/python3.10/dist-packages (from keras->keras-tuner) (0.4.0)\n",
            "Requirement already satisfied: charset-normalizer<4,>=2 in /usr/local/lib/python3.10/dist-packages (from requests->keras-tuner) (3.3.2)\n",
            "Requirement already satisfied: idna<4,>=2.5 in /usr/local/lib/python3.10/dist-packages (from requests->keras-tuner) (3.7)\n",
            "Requirement already satisfied: urllib3<3,>=1.21.1 in /usr/local/lib/python3.10/dist-packages (from requests->keras-tuner) (2.0.7)\n",
            "Requirement already satisfied: certifi>=2017.4.17 in /usr/local/lib/python3.10/dist-packages (from requests->keras-tuner) (2024.7.4)\n",
            "Requirement already satisfied: typing-extensions>=4.5.0 in /usr/local/lib/python3.10/dist-packages (from optree->keras->keras-tuner) (4.12.2)\n",
            "Requirement already satisfied: markdown-it-py>=2.2.0 in /usr/local/lib/python3.10/dist-packages (from rich->keras->keras-tuner) (3.0.0)\n",
            "Requirement already satisfied: pygments<3.0.0,>=2.13.0 in /usr/local/lib/python3.10/dist-packages (from rich->keras->keras-tuner) (2.16.1)\n",
            "Requirement already satisfied: mdurl~=0.1 in /usr/local/lib/python3.10/dist-packages (from markdown-it-py>=2.2.0->rich->keras->keras-tuner) (0.1.2)\n",
            "Downloading keras_tuner-1.4.7-py3-none-any.whl (129 kB)\n",
            "\u001b[2K   \u001b[90m━━━━━━━━━━━━━━━━━━━━━━━━━━━━━━━━━━━━━━━━\u001b[0m \u001b[32m129.1/129.1 kB\u001b[0m \u001b[31m1.1 MB/s\u001b[0m eta \u001b[36m0:00:00\u001b[0m\n",
            "\u001b[?25hDownloading kt_legacy-1.0.5-py3-none-any.whl (9.6 kB)\n",
            "Installing collected packages: kt-legacy, keras-tuner\n",
            "Successfully installed keras-tuner-1.4.7 kt-legacy-1.0.5\n"
          ]
        }
      ]
    },
    {
      "cell_type": "code",
      "source": [
        "import tensorflow as tf\n",
        "from tensorflow.keras.models import Model\n",
        "from tensorflow.keras.layers import Input, Embedding, LSTM, Dense, TimeDistributed\n",
        "from tensorflow.keras.optimizers import RMSprop, Adam, Nadam, Adagrad, Adadelta\n",
        "from tensorflow.keras.losses import CategoricalCrossentropy\n",
        "from keras_tuner import RandomSearch\n",
        "from keras_tuner.engine.hyperparameters import HyperParameters\n",
        "from tensorflow.keras import backend as K\n",
        "import keras_tuner as kt"
      ],
      "metadata": {
        "id": "jw5ihYbjTyFY"
      },
      "execution_count": null,
      "outputs": []
    },
    {
      "cell_type": "markdown",
      "source": [
        "We have to define the F1-score as it is not predefined in TensorFlow."
      ],
      "metadata": {
        "id": "eJKiIrOXNfx1"
      }
    },
    {
      "cell_type": "code",
      "source": [
        "# Define custom F1 score metric\n",
        "def recall_m(y_true, y_pred):\n",
        "    true_positives = K.sum(K.round(K.clip(y_true * y_pred, 0, 1)))\n",
        "    possible_positives = K.sum(K.round(K.clip(y_true, 0, 1)))\n",
        "    recall = true_positives / (possible_positives + K.epsilon())\n",
        "    return recall\n",
        "\n",
        "def precision_m(y_true, y_pred):\n",
        "    true_positives = K.sum(K.round(K.clip(y_true * y_pred, 0, 1)))\n",
        "    predicted_positives = K.sum(K.round(K.clip(y_pred, 0, 1)))\n",
        "    precision = true_positives / (predicted_positives + K.epsilon())\n",
        "    return precision\n",
        "\n",
        "def f1_m(y_true, y_pred):\n",
        "    precision = precision_m(y_true, y_pred)\n",
        "    recall = recall_m(y_true, y_pred)\n",
        "    return 2 * ((precision * recall) / (precision + recall + K.epsilon()))"
      ],
      "metadata": {
        "id": "pv7ar10bTnlr"
      },
      "execution_count": null,
      "outputs": []
    },
    {
      "cell_type": "code",
      "source": [
        "#Clear Keras\n",
        "tensorflow.keras.backend.clear_session()\n",
        "gc.collect()"
      ],
      "metadata": {
        "colab": {
          "base_uri": "https://localhost:8080/"
        },
        "id": "Aw8_WFdaWMSD",
        "outputId": "664e246b-d13f-497f-cb77-1d3c7e4e0ace"
      },
      "execution_count": null,
      "outputs": [
        {
          "output_type": "execute_result",
          "data": {
            "text/plain": [
              "0"
            ]
          },
          "metadata": {},
          "execution_count": 34
        }
      ]
    },
    {
      "cell_type": "code",
      "source": [
        "def build_model(hp):\n",
        "    #Input layer\n",
        "    input_layer = Input(shape=(978,))\n",
        "\n",
        "    # Calculate the input dimension for embedding\n",
        "    input_dim = len(list(set(df_clean['Lemma'].to_list())))+1\n",
        "\n",
        "    # Embedding layer\n",
        "    embedding = Embedding(\n",
        "        input_dim=input_dim,\n",
        "        output_dim=hp.Int('embedding_output_dim', min_value=16, max_value=64, step=16)\n",
        "    )(input_layer)\n",
        "\n",
        "    # LSTM layers\n",
        "    lstm_units = hp.Int('lstm_units', min_value=8, max_value=64, step=16)\n",
        "\n",
        "    Lstm_1 = LSTM(units=lstm_units, return_sequences=True)(embedding)\n",
        "    Lstm_2 = LSTM(units=lstm_units, return_sequences=True)(Lstm_1)\n",
        "\n",
        "    # Output\n",
        "    output = TimeDistributed(Dense(units=len(id_TO_tag), activation='softmax'))(Lstm_2)\n",
        "\n",
        "    model = Model(inputs=input_layer, outputs=output)\n",
        "\n",
        "    # Choose optimizer and learning rate\n",
        "    optimizer_choice = hp.Choice('optimizer', ['Adam', 'RMSprop', 'Nadam', 'Adagrad', 'Adadelta'])\n",
        "    learning_rate = hp.Float('learning_rate', 1e-4, 1e-2, sampling='log')\n",
        "\n",
        "    if optimizer_choice == 'Adam':\n",
        "        optimizer = Adam(learning_rate=learning_rate)\n",
        "    elif optimizer_choice == 'RMSprop':\n",
        "        optimizer = RMSprop(learning_rate=learning_rate)\n",
        "    elif optimizer_choice == 'Nadam':\n",
        "        optimizer = Nadam(learning_rate=learning_rate)\n",
        "    elif optimizer_choice == 'Adagrad':\n",
        "        optimizer = Adagrad(learning_rate=learning_rate)\n",
        "    else:\n",
        "        optimizer = Adadelta(learning_rate=learning_rate)\n",
        "\n",
        "    model.compile(optimizer=optimizer, loss=CategoricalCrossentropy(), metrics=[f1_m])\n",
        "\n",
        "    return model"
      ],
      "metadata": {
        "id": "ZuDxV1uWFfqu"
      },
      "execution_count": null,
      "outputs": []
    },
    {
      "cell_type": "code",
      "source": [
        "# Define the objective\n",
        "objective = kt.Objective(\"val_f1_m\", direction=\"max\")\n",
        "\n",
        "random_search_tuner = kt.RandomSearch(\n",
        "    build_model, objective=objective, max_trials=20,\n",
        "    directory=(r\"/content/drive/MyDrive/Final Project/Field Project/NER - IOB\"), project_name=\"LSTM_random_sequence\", seed=42)"
      ],
      "metadata": {
        "id": "6OCjUXoFUNjX",
        "colab": {
          "base_uri": "https://localhost:8080/"
        },
        "outputId": "33ba5f7b-0a5c-4869-d09f-b9d7a1cf6229"
      },
      "execution_count": null,
      "outputs": [
        {
          "output_type": "stream",
          "name": "stdout",
          "text": [
            "Reloading Tuner from /content/drive/MyDrive/Final Project/Field Project/NER - IOB/LSTM_random_sequence/tuner0.json\n"
          ]
        }
      ]
    },
    {
      "cell_type": "code",
      "source": [
        "validation_data = (val_paraghs, val_tags) #Validation set"
      ],
      "metadata": {
        "id": "SFe5EfsdKup2"
      },
      "execution_count": null,
      "outputs": []
    },
    {
      "cell_type": "code",
      "source": [
        "random_search_tuner.search(train_paraghs, train_tags, epochs=10,\n",
        "                           validation_data=validation_data, batch_size = 16, verbose=1,\n",
        "                           callbacks=[tf.keras.callbacks.EarlyStopping(monitor='val_f1_m', mode='max', patience=3)])\n",
        "\n"
      ],
      "metadata": {
        "colab": {
          "base_uri": "https://localhost:8080/"
        },
        "id": "TK3K4oIISX60",
        "outputId": "a1790c99-8248-4f03-8e6b-a62ddd8f150e"
      },
      "execution_count": null,
      "outputs": [
        {
          "output_type": "stream",
          "name": "stdout",
          "text": [
            "Trial 20 Complete [00h 13m 44s]\n",
            "val_f1_m: 0.9418447017669678\n",
            "\n",
            "Best val_f1_m So Far: 0.9419081807136536\n",
            "Total elapsed time: 02h 10m 13s\n"
          ]
        }
      ]
    },
    {
      "cell_type": "code",
      "source": [
        "import matplotlib.pyplot as plt\n",
        "\n",
        "random_search_result = random_search_tuner.get_best_models(num_models=1)[0]\n",
        "\n",
        "# Train the best model\n",
        "history = random_search_result.fit(train_paraghs, train_tags, epochs=30,\n",
        "                validation_data=validation_data, batch_size = 16, verbose=1,\n",
        "                callbacks=[tf.keras.callbacks.EarlyStopping(monitor='val_f1_m', mode='max', patience=10)])\n",
        "\n",
        "f1 = history.history[\"f1_m\"]\n",
        "val_f1 = history.history[\"val_f1_m\"]\n",
        "\n",
        "# Plotting\n",
        "epochs = range(1, len(f1) + 1)\n",
        "\n",
        "plt.plot(epochs, f1, label=\"Training F1\")\n",
        "plt.plot(epochs, val_f1, label=\"Validation F1\")\n",
        "plt.title(\"Training and Validation F1 Score\")\n",
        "plt.xlabel(\"Epochs\")\n",
        "plt.ylabel(\"F1 Score\")\n",
        "plt.legend()\n",
        "plt.show()"
      ],
      "metadata": {
        "colab": {
          "base_uri": "https://localhost:8080/",
          "height": 1000
        },
        "id": "oTQus5Fd3BmG",
        "outputId": "9d38efd1-215f-4eb0-804d-d07ca8f2f99d"
      },
      "execution_count": null,
      "outputs": [
        {
          "output_type": "stream",
          "name": "stdout",
          "text": [
            "Epoch 1/30\n",
            "\u001b[1m23/23\u001b[0m \u001b[32m━━━━━━━━━━━━━━━━━━━━\u001b[0m\u001b[37m\u001b[0m \u001b[1m126s\u001b[0m 2s/step - f1_m: 0.9290 - loss: 0.2910 - val_f1_m: 0.9419 - val_loss: 0.1601\n",
            "Epoch 2/30\n",
            "\u001b[1m23/23\u001b[0m \u001b[32m━━━━━━━━━━━━━━━━━━━━\u001b[0m\u001b[37m\u001b[0m \u001b[1m37s\u001b[0m 2s/step - f1_m: 0.9435 - loss: 0.1506 - val_f1_m: 0.9420 - val_loss: 0.1459\n",
            "Epoch 3/30\n",
            "\u001b[1m23/23\u001b[0m \u001b[32m━━━━━━━━━━━━━━━━━━━━\u001b[0m\u001b[37m\u001b[0m \u001b[1m35s\u001b[0m 2s/step - f1_m: 0.9443 - loss: 0.1368 - val_f1_m: 0.9419 - val_loss: 0.1378\n",
            "Epoch 4/30\n",
            "\u001b[1m23/23\u001b[0m \u001b[32m━━━━━━━━━━━━━━━━━━━━\u001b[0m\u001b[37m\u001b[0m \u001b[1m42s\u001b[0m 2s/step - f1_m: 0.9402 - loss: 0.1376 - val_f1_m: 0.9419 - val_loss: 0.1326\n",
            "Epoch 5/30\n",
            "\u001b[1m23/23\u001b[0m \u001b[32m━━━━━━━━━━━━━━━━━━━━\u001b[0m\u001b[37m\u001b[0m \u001b[1m42s\u001b[0m 2s/step - f1_m: 0.9475 - loss: 0.1193 - val_f1_m: 0.9419 - val_loss: 0.1303\n",
            "Epoch 6/30\n",
            "\u001b[1m23/23\u001b[0m \u001b[32m━━━━━━━━━━━━━━━━━━━━\u001b[0m\u001b[37m\u001b[0m \u001b[1m35s\u001b[0m 2s/step - f1_m: 0.9460 - loss: 0.1201 - val_f1_m: 0.9419 - val_loss: 0.1286\n",
            "Epoch 7/30\n",
            "\u001b[1m23/23\u001b[0m \u001b[32m━━━━━━━━━━━━━━━━━━━━\u001b[0m\u001b[37m\u001b[0m \u001b[1m42s\u001b[0m 2s/step - f1_m: 0.9421 - loss: 0.1256 - val_f1_m: 0.9418 - val_loss: 0.1287\n",
            "Epoch 8/30\n",
            "\u001b[1m23/23\u001b[0m \u001b[32m━━━━━━━━━━━━━━━━━━━━\u001b[0m\u001b[37m\u001b[0m \u001b[1m42s\u001b[0m 2s/step - f1_m: 0.9448 - loss: 0.1208 - val_f1_m: 0.9419 - val_loss: 0.1275\n",
            "Epoch 9/30\n",
            "\u001b[1m23/23\u001b[0m \u001b[32m━━━━━━━━━━━━━━━━━━━━\u001b[0m\u001b[37m\u001b[0m \u001b[1m35s\u001b[0m 2s/step - f1_m: 0.9457 - loss: 0.1185 - val_f1_m: 0.9419 - val_loss: 0.1262\n",
            "Epoch 10/30\n",
            "\u001b[1m23/23\u001b[0m \u001b[32m━━━━━━━━━━━━━━━━━━━━\u001b[0m\u001b[37m\u001b[0m \u001b[1m42s\u001b[0m 2s/step - f1_m: 0.9474 - loss: 0.1128 - val_f1_m: 0.9420 - val_loss: 0.1256\n",
            "Epoch 11/30\n",
            "\u001b[1m23/23\u001b[0m \u001b[32m━━━━━━━━━━━━━━━━━━━━\u001b[0m\u001b[37m\u001b[0m \u001b[1m42s\u001b[0m 2s/step - f1_m: 0.9458 - loss: 0.1175 - val_f1_m: 0.9420 - val_loss: 0.1274\n",
            "Epoch 12/30\n",
            "\u001b[1m23/23\u001b[0m \u001b[32m━━━━━━━━━━━━━━━━━━━━\u001b[0m\u001b[37m\u001b[0m \u001b[1m39s\u001b[0m 2s/step - f1_m: 0.9490 - loss: 0.1093 - val_f1_m: 0.9419 - val_loss: 0.1284\n",
            "Epoch 13/30\n",
            "\u001b[1m23/23\u001b[0m \u001b[32m━━━━━━━━━━━━━━━━━━━━\u001b[0m\u001b[37m\u001b[0m \u001b[1m41s\u001b[0m 2s/step - f1_m: 0.9529 - loss: 0.1023 - val_f1_m: 0.9415 - val_loss: 0.1257\n",
            "Epoch 14/30\n",
            "\u001b[1m23/23\u001b[0m \u001b[32m━━━━━━━━━━━━━━━━━━━━\u001b[0m\u001b[37m\u001b[0m \u001b[1m37s\u001b[0m 2s/step - f1_m: 0.9583 - loss: 0.0958 - val_f1_m: 0.9413 - val_loss: 0.1389\n",
            "Epoch 15/30\n",
            "\u001b[1m23/23\u001b[0m \u001b[32m━━━━━━━━━━━━━━━━━━━━\u001b[0m\u001b[37m\u001b[0m \u001b[1m35s\u001b[0m 2s/step - f1_m: 0.9630 - loss: 0.0897 - val_f1_m: 0.9407 - val_loss: 0.1376\n",
            "Epoch 16/30\n",
            "\u001b[1m23/23\u001b[0m \u001b[32m━━━━━━━━━━━━━━━━━━━━\u001b[0m\u001b[37m\u001b[0m \u001b[1m42s\u001b[0m 2s/step - f1_m: 0.9688 - loss: 0.0775 - val_f1_m: 0.9420 - val_loss: 0.1649\n",
            "Epoch 17/30\n",
            "\u001b[1m23/23\u001b[0m \u001b[32m━━━━━━━━━━━━━━━━━━━━\u001b[0m\u001b[37m\u001b[0m \u001b[1m41s\u001b[0m 2s/step - f1_m: 0.9710 - loss: 0.0729 - val_f1_m: 0.9418 - val_loss: 0.1668\n",
            "Epoch 18/30\n",
            "\u001b[1m23/23\u001b[0m \u001b[32m━━━━━━━━━━━━━━━━━━━━\u001b[0m\u001b[37m\u001b[0m \u001b[1m35s\u001b[0m 2s/step - f1_m: 0.9713 - loss: 0.0729 - val_f1_m: 0.9409 - val_loss: 0.1676\n",
            "Epoch 19/30\n",
            "\u001b[1m23/23\u001b[0m \u001b[32m━━━━━━━━━━━━━━━━━━━━\u001b[0m\u001b[37m\u001b[0m \u001b[1m42s\u001b[0m 2s/step - f1_m: 0.9707 - loss: 0.0732 - val_f1_m: 0.9357 - val_loss: 0.1530\n",
            "Epoch 20/30\n",
            "\u001b[1m23/23\u001b[0m \u001b[32m━━━━━━━━━━━━━━━━━━━━\u001b[0m\u001b[37m\u001b[0m \u001b[1m42s\u001b[0m 2s/step - f1_m: 0.9750 - loss: 0.0653 - val_f1_m: 0.9376 - val_loss: 0.1676\n",
            "Epoch 21/30\n",
            "\u001b[1m23/23\u001b[0m \u001b[32m━━━━━━━━━━━━━━━━━━━━\u001b[0m\u001b[37m\u001b[0m \u001b[1m36s\u001b[0m 2s/step - f1_m: 0.9770 - loss: 0.0617 - val_f1_m: 0.9373 - val_loss: 0.1788\n"
          ]
        },
        {
          "output_type": "display_data",
          "data": {
            "text/plain": [
              "<Figure size 640x480 with 1 Axes>"
            ],
            "image/png": "[encoded data removed]"
          },
          "metadata": {}
        }
      ]
    },
    {
      "cell_type": "code",
      "source": [
        "#Save the model\n",
        "random_search_result.save(r\"/content/drive/MyDrive/Final Project/Field Project/NER - IOB/Randoms_search_1.h5\")"
      ],
      "metadata": {
        "colab": {
          "base_uri": "https://localhost:8080/"
        },
        "id": "G1Q_b4kDj_Ae",
        "outputId": "42139483-ec2c-4666-80d1-0ea8510ea2bf"
      },
      "execution_count": null,
      "outputs": [
        {
          "output_type": "stream",
          "name": "stderr",
          "text": [
            "WARNING:absl:You are saving your model as an HDF5 file via `model.save()` or `keras.saving.save_model(model)`. This file format is considered legacy. We recommend using instead the native Keras format, e.g. `model.save('my_model.keras')` or `keras.saving.save_model(model, 'my_model.keras')`. \n"
          ]
        }
      ]
    },
    {
      "cell_type": "code",
      "source": [
        "#Test set\n",
        "Paragh_list_test = test_data['Lemma_id'].to_list()\n",
        "Tag_list_test = test_data['tag_id'].to_list()"
      ],
      "metadata": {
        "id": "JIHCGohRkeN2"
      },
      "execution_count": null,
      "outputs": []
    },
    {
      "cell_type": "code",
      "source": [
        "#Padding\n",
        "from tensorflow.keras.preprocessing.sequence import pad_sequences\n",
        "\n",
        "pad_paraghs_test = pad_sequences(Paragh_list_test, maxlen= max_lenght, padding='post', value= lemma_TO_id['the'])\n",
        "\n",
        "pad_tag_test = pad_sequences(Tag_list_test, maxlen=max_lenght_tag, padding='post', value=tag_TO_id['O'])\n",
        "\n",
        "\n",
        "num_classes = len(tag_TO_id)\n",
        "pad_tag_test = to_categorical(pad_tag_test, num_classes=num_classes)\n",
        "\n"
      ],
      "metadata": {
        "id": "uysXpDKh3x2W"
      },
      "execution_count": null,
      "outputs": []
    },
    {
      "cell_type": "code",
      "source": [
        "test_paraghs = pad_paraghs_test\n",
        "test_tags = pad_tag_test\n"
      ],
      "metadata": {
        "id": "Lf3ueyZG4pMz"
      },
      "execution_count": null,
      "outputs": []
    },
    {
      "cell_type": "code",
      "source": [
        "# Check test set shape\n",
        "print ('string shape:',test_paraghs.shape)\n",
        "print ('tag shape:',test_tags.shape)"
      ],
      "metadata": {
        "colab": {
          "base_uri": "https://localhost:8080/"
        },
        "id": "OgG-TkfX8_mA",
        "outputId": "cd290f7b-1a51-479d-9c3c-d6908e552827"
      },
      "execution_count": null,
      "outputs": [
        {
          "output_type": "stream",
          "name": "stdout",
          "text": [
            "string shape: (195, 978)\n",
            "tag shape: (195, 978, 3)\n"
          ]
        }
      ]
    },
    {
      "cell_type": "code",
      "source": [
        "# Prediction\n",
        "predicted_tags_test = random_search_result.predict(pad_paraghs_test)\n",
        "\n",
        "predicted_tag_indices = np.argmax(predicted_tags_test, axis=-1)\n",
        "true_tag_indices = np.argmax(pad_tag_test, axis=-1)\n",
        "\n",
        "predicted_tag_indices_flat = predicted_tag_indices.flatten()\n",
        "true_tag_indices_flat = true_tag_indices.flatten()\n",
        "\n",
        "#calculate F1-score & accuracy\n",
        "from sklearn.metrics import f1_score, accuracy_score, classification_report, confusion_matrix\n",
        "\n",
        "f1 = f1_score(true_tag_indices_flat, predicted_tag_indices_flat, average='weighted')\n",
        "accuracy = accuracy_score(true_tag_indices_flat, predicted_tag_indices_flat)\n",
        "\n",
        "print(f\"Test F1 Score: {f1:.4f}\")\n",
        "print(f\"Test Accuracy: {accuracy:.4f}\")\n",
        "\n",
        "#classification report\n",
        "print(\"Classification Report:\")\n",
        "print(classification_report(true_tag_indices_flat, predicted_tag_indices_flat, target_names=list(tag_TO_id.keys())))\n",
        "\n",
        "# Confusion matrix\n",
        "conf_matrix = confusion_matrix(true_tag_indices_flat, predicted_tag_indices_flat)\n",
        "print (\"Confusion Matrix:\")\n",
        "print(conf_matrix)\n"
      ],
      "metadata": {
        "colab": {
          "base_uri": "https://localhost:8080/"
        },
        "id": "xQ1E9H5M5PTx",
        "outputId": "f4d3d582-bc35-44cd-bd45-e7cec477ae7c"
      },
      "execution_count": null,
      "outputs": [
        {
          "output_type": "stream",
          "name": "stdout",
          "text": [
            "\u001b[1m7/7\u001b[0m \u001b[32m━━━━━━━━━━━━━━━━━━━━\u001b[0m\u001b[37m\u001b[0m \u001b[1m1s\u001b[0m 164ms/step\n",
            "Test F1 Score: 0.9294\n",
            "Test Accuracy: 0.9359\n",
            "Classification Report:\n",
            "              precision    recall  f1-score   support\n",
            "\n",
            "           B       0.00      0.00      0.00       986\n",
            "           O       0.96      0.98      0.97    180117\n",
            "           I       0.37      0.28      0.32      9607\n",
            "\n",
            "    accuracy                           0.94    190710\n",
            "   macro avg       0.44      0.42      0.43    190710\n",
            "weighted avg       0.92      0.94      0.93    190710\n",
            "\n",
            "Confusion Matrix:\n",
            "[[     0    756    230]\n",
            " [     0 175784   4333]\n",
            " [     0   6903   2704]]\n"
          ]
        },
        {
          "output_type": "stream",
          "name": "stderr",
          "text": [
            "/usr/local/lib/python3.10/dist-packages/sklearn/metrics/_classification.py:1471: UndefinedMetricWarning: Precision and F-score are ill-defined and being set to 0.0 in labels with no predicted samples. Use `zero_division` parameter to control this behavior.\n",
            "  _warn_prf(average, modifier, msg_start, len(result))\n",
            "/usr/local/lib/python3.10/dist-packages/sklearn/metrics/_classification.py:1471: UndefinedMetricWarning: Precision and F-score are ill-defined and being set to 0.0 in labels with no predicted samples. Use `zero_division` parameter to control this behavior.\n",
            "  _warn_prf(average, modifier, msg_start, len(result))\n",
            "/usr/local/lib/python3.10/dist-packages/sklearn/metrics/_classification.py:1471: UndefinedMetricWarning: Precision and F-score are ill-defined and being set to 0.0 in labels with no predicted samples. Use `zero_division` parameter to control this behavior.\n",
            "  _warn_prf(average, modifier, msg_start, len(result))\n"
          ]
        }
      ]
    },
    {
      "cell_type": "markdown",
      "source": [
        "Although the F1-score is high, the model did not learn the \"B\" class which was the smallest class."
      ],
      "metadata": {
        "id": "u1TvI2YNYoBM"
      }
    },
    {
      "cell_type": "markdown",
      "source": [
        "## All features (Lemma+POS+Dependency pars)\n",
        "In this section, we will use part of speech and dependency parser tags in addition to the lemmatized version of the word for our LSTM model."
      ],
      "metadata": {
        "id": "EjAlrdX8Hdoy"
      }
    },
    {
      "cell_type": "code",
      "source": [
        "#Import dataset\n",
        "import pandas as pd\n",
        "df_clean = pd.read_csv(r\"/content/drive/MyDrive/Final Project/Field Project/NER - IOB/POS_lemma_DepPars_noTypo_inplaced.csv\")"
      ],
      "metadata": {
        "id": "q85UM730Hipi"
      },
      "execution_count": 2,
      "outputs": []
    },
    {
      "cell_type": "code",
      "source": [
        "df_clean.head()"
      ],
      "metadata": {
        "colab": {
          "base_uri": "https://localhost:8080/",
          "height": 206
        },
        "id": "5zNIkLO1IAZS",
        "outputId": "4814ce24-09d1-4f84-c7cd-28d36201398f"
      },
      "execution_count": 3,
      "outputs": [
        {
          "output_type": "execute_result",
          "data": {
            "text/plain": [
              "   Unnamed: 0       word tag Paragraph_place    POS     Lemma Dependency_pars\n",
              "0           0    Rydberg   B     A Rydberg 1  PROPN   Rydberg        compound\n",
              "1           1     atomic   I     A Rydberg 1    ADJ    atomic            amod\n",
              "2           2    sensors   I     A Rydberg 1   NOUN    sensor           nsubj\n",
              "3           3        and   I     A Rydberg 1  CCONJ       and              cc\n",
              "4           4  receivers   I     A Rydberg 1   NOUN  receiver            conj"
            ],
            "text/html": [
              "\n",
              "  <div id=\"df-190af420-8889-48ab-af96-4a9e5dfd224e\" class=\"colab-df-container\">\n",
              "    <div>\n",
              "<style scoped>\n",
              "    .dataframe tbody tr th:only-of-type {\n",
              "        vertical-align: middle;\n",
              "    }\n",
              "\n",
              "    .dataframe tbody tr th {\n",
              "        vertical-align: top;\n",
              "    }\n",
              "\n",
              "    .dataframe thead th {\n",
              "        text-align: right;\n",
              "    }\n",
              "</style>\n",
              "<table border=\"1\" class=\"dataframe\">\n",
              "  <thead>\n",
              "    <tr style=\"text-align: right;\">\n",
              "      <th></th>\n",
              "      <th>Unnamed: 0</th>\n",
              "      <th>word</th>\n",
              "      <th>tag</th>\n",
              "      <th>Paragraph_place</th>\n",
              "      <th>POS</th>\n",
              "      <th>Lemma</th>\n",
              "      <th>Dependency_pars</th>\n",
              "    </tr>\n",
              "  </thead>\n",
              "  <tbody>\n",
              "    <tr>\n",
              "      <th>0</th>\n",
              "      <td>0</td>\n",
              "      <td>Rydberg</td>\n",
              "      <td>B</td>\n",
              "      <td>A Rydberg 1</td>\n",
              "      <td>PROPN</td>\n",
              "      <td>Rydberg</td>\n",
              "      <td>compound</td>\n",
              "    </tr>\n",
              "    <tr>\n",
              "      <th>1</th>\n",
              "      <td>1</td>\n",
              "      <td>atomic</td>\n",
              "      <td>I</td>\n",
              "      <td>A Rydberg 1</td>\n",
              "      <td>ADJ</td>\n",
              "      <td>atomic</td>\n",
              "      <td>amod</td>\n",
              "    </tr>\n",
              "    <tr>\n",
              "      <th>2</th>\n",
              "      <td>2</td>\n",
              "      <td>sensors</td>\n",
              "      <td>I</td>\n",
              "      <td>A Rydberg 1</td>\n",
              "      <td>NOUN</td>\n",
              "      <td>sensor</td>\n",
              "      <td>nsubj</td>\n",
              "    </tr>\n",
              "    <tr>\n",
              "      <th>3</th>\n",
              "      <td>3</td>\n",
              "      <td>and</td>\n",
              "      <td>I</td>\n",
              "      <td>A Rydberg 1</td>\n",
              "      <td>CCONJ</td>\n",
              "      <td>and</td>\n",
              "      <td>cc</td>\n",
              "    </tr>\n",
              "    <tr>\n",
              "      <th>4</th>\n",
              "      <td>4</td>\n",
              "      <td>receivers</td>\n",
              "      <td>I</td>\n",
              "      <td>A Rydberg 1</td>\n",
              "      <td>NOUN</td>\n",
              "      <td>receiver</td>\n",
              "      <td>conj</td>\n",
              "    </tr>\n",
              "  </tbody>\n",
              "</table>\n",
              "</div>\n",
              "    <div class=\"colab-df-buttons\">\n",
              "\n",
              "  <div class=\"colab-df-container\">\n",
              "    <button class=\"colab-df-convert\" onclick=\"convertToInteractive('df-190af420-8889-48ab-af96-4a9e5dfd224e')\"\n",
              "            title=\"Convert this dataframe to an interactive table.\"\n",
              "            style=\"display:none;\">\n",
              "\n",
              "  <svg xmlns=\"http://www.w3.org/2000/svg\" height=\"24px\" viewBox=\"0 -960 960 960\">\n",
              "    <path d=\"M120-120v-720h720v720H120Zm60-500h600v-160H180v160Zm220 220h160v-160H400v160Zm0 220h160v-160H400v160ZM180-400h160v-160H180v160Zm440 0h160v-160H620v160ZM180-180h160v-160H180v160Zm440 0h160v-160H620v160Z\"/>\n",
              "  </svg>\n",
              "    </button>\n",
              "\n",
              "  <style>\n",
              "    .colab-df-container {\n",
              "      display:flex;\n",
              "      gap: 12px;\n",
              "    }\n",
              "\n",
              "    .colab-df-convert {\n",
              "      background-color: #E8F0FE;\n",
              "      border: none;\n",
              "      border-radius: 50%;\n",
              "      cursor: pointer;\n",
              "      display: none;\n",
              "      fill: #1967D2;\n",
              "      height: 32px;\n",
              "      padding: 0 0 0 0;\n",
              "      width: 32px;\n",
              "    }\n",
              "\n",
              "    .colab-df-convert:hover {\n",
              "      background-color: #E2EBFA;\n",
              "      box-shadow: 0px 1px 2px rgba(60, 64, 67, 0.3), 0px 1px 3px 1px rgba(60, 64, 67, 0.15);\n",
              "      fill: #174EA6;\n",
              "    }\n",
              "\n",
              "    .colab-df-buttons div {\n",
              "      margin-bottom: 4px;\n",
              "    }\n",
              "\n",
              "    [theme=dark] .colab-df-convert {\n",
              "      background-color: #3B4455;\n",
              "      fill: #D2E3FC;\n",
              "    }\n",
              "\n",
              "    [theme=dark] .colab-df-convert:hover {\n",
              "      background-color: #434B5C;\n",
              "      box-shadow: 0px 1px 3px 1px rgba(0, 0, 0, 0.15);\n",
              "      filter: drop-shadow(0px 1px 2px rgba(0, 0, 0, 0.3));\n",
              "      fill: #FFFFFF;\n",
              "    }\n",
              "  </style>\n",
              "\n",
              "    <script>\n",
              "      const buttonEl =\n",
              "        document.querySelector('#df-190af420-8889-48ab-af96-4a9e5dfd224e button.colab-df-convert');\n",
              "      buttonEl.style.display =\n",
              "        google.colab.kernel.accessAllowed ? 'block' : 'none';\n",
              "\n",
              "      async function convertToInteractive(key) {\n",
              "        const element = document.querySelector('#df-190af420-8889-48ab-af96-4a9e5dfd224e');\n",
              "        const dataTable =\n",
              "          await google.colab.kernel.invokeFunction('convertToInteractive',\n",
              "                                                    [key], {});\n",
              "        if (!dataTable) return;\n",
              "\n",
              "        const docLinkHtml = 'Like what you see? Visit the ' +\n",
              "          '<a target=\"_blank\" href=https://colab.research.google.com/notebooks/data_table.ipynb>data table notebook</a>'\n",
              "          + ' to learn more about interactive tables.';\n",
              "        element.innerHTML = '';\n",
              "        dataTable['output_type'] = 'display_data';\n",
              "        await google.colab.output.renderOutput(dataTable, element);\n",
              "        const docLink = document.createElement('div');\n",
              "        docLink.innerHTML = docLinkHtml;\n",
              "        element.appendChild(docLink);\n",
              "      }\n",
              "    </script>\n",
              "  </div>\n",
              "\n",
              "\n",
              "<div id=\"df-4fb5862e-4131-44ae-bf9e-119fd675397b\">\n",
              "  <button class=\"colab-df-quickchart\" onclick=\"quickchart('df-4fb5862e-4131-44ae-bf9e-119fd675397b')\"\n",
              "            title=\"Suggest charts\"\n",
              "            style=\"display:none;\">\n",
              "\n",
              "<svg xmlns=\"http://www.w3.org/2000/svg\" height=\"24px\"viewBox=\"0 0 24 24\"\n",
              "     width=\"24px\">\n",
              "    <g>\n",
              "        <path d=\"M19 3H5c-1.1 0-2 .9-2 2v14c0 1.1.9 2 2 2h14c1.1 0 2-.9 2-2V5c0-1.1-.9-2-2-2zM9 17H7v-7h2v7zm4 0h-2V7h2v10zm4 0h-2v-4h2v4z\"/>\n",
              "    </g>\n",
              "</svg>\n",
              "  </button>\n",
              "\n",
              "<style>\n",
              "  .colab-df-quickchart {\n",
              "      --bg-color: #E8F0FE;\n",
              "      --fill-color: #1967D2;\n",
              "      --hover-bg-color: #E2EBFA;\n",
              "      --hover-fill-color: #174EA6;\n",
              "      --disabled-fill-color: #AAA;\n",
              "      --disabled-bg-color: #DDD;\n",
              "  }\n",
              "\n",
              "  [theme=dark] .colab-df-quickchart {\n",
              "      --bg-color: #3B4455;\n",
              "      --fill-color: #D2E3FC;\n",
              "      --hover-bg-color: #434B5C;\n",
              "      --hover-fill-color: #FFFFFF;\n",
              "      --disabled-bg-color: #3B4455;\n",
              "      --disabled-fill-color: #666;\n",
              "  }\n",
              "\n",
              "  .colab-df-quickchart {\n",
              "    background-color: var(--bg-color);\n",
              "    border: none;\n",
              "    border-radius: 50%;\n",
              "    cursor: pointer;\n",
              "    display: none;\n",
              "    fill: var(--fill-color);\n",
              "    height: 32px;\n",
              "    padding: 0;\n",
              "    width: 32px;\n",
              "  }\n",
              "\n",
              "  .colab-df-quickchart:hover {\n",
              "    background-color: var(--hover-bg-color);\n",
              "    box-shadow: 0 1px 2px rgba(60, 64, 67, 0.3), 0 1px 3px 1px rgba(60, 64, 67, 0.15);\n",
              "    fill: var(--button-hover-fill-color);\n",
              "  }\n",
              "\n",
              "  .colab-df-quickchart-complete:disabled,\n",
              "  .colab-df-quickchart-complete:disabled:hover {\n",
              "    background-color: var(--disabled-bg-color);\n",
              "    fill: var(--disabled-fill-color);\n",
              "    box-shadow: none;\n",
              "  }\n",
              "\n",
              "  .colab-df-spinner {\n",
              "    border: 2px solid var(--fill-color);\n",
              "    border-color: transparent;\n",
              "    border-bottom-color: var(--fill-color);\n",
              "    animation:\n",
              "      spin 1s steps(1) infinite;\n",
              "  }\n",
              "\n",
              "  @keyframes spin {\n",
              "    0% {\n",
              "      border-color: transparent;\n",
              "      border-bottom-color: var(--fill-color);\n",
              "      border-left-color: var(--fill-color);\n",
              "    }\n",
              "    20% {\n",
              "      border-color: transparent;\n",
              "      border-left-color: var(--fill-color);\n",
              "      border-top-color: var(--fill-color);\n",
              "    }\n",
              "    30% {\n",
              "      border-color: transparent;\n",
              "      border-left-color: var(--fill-color);\n",
              "      border-top-color: var(--fill-color);\n",
              "      border-right-color: var(--fill-color);\n",
              "    }\n",
              "    40% {\n",
              "      border-color: transparent;\n",
              "      border-right-color: var(--fill-color);\n",
              "      border-top-color: var(--fill-color);\n",
              "    }\n",
              "    60% {\n",
              "      border-color: transparent;\n",
              "      border-right-color: var(--fill-color);\n",
              "    }\n",
              "    80% {\n",
              "      border-color: transparent;\n",
              "      border-right-color: var(--fill-color);\n",
              "      border-bottom-color: var(--fill-color);\n",
              "    }\n",
              "    90% {\n",
              "      border-color: transparent;\n",
              "      border-bottom-color: var(--fill-color);\n",
              "    }\n",
              "  }\n",
              "</style>\n",
              "\n",
              "  <script>\n",
              "    async function quickchart(key) {\n",
              "      const quickchartButtonEl =\n",
              "        document.querySelector('#' + key + ' button');\n",
              "      quickchartButtonEl.disabled = true;  // To prevent multiple clicks.\n",
              "      quickchartButtonEl.classList.add('colab-df-spinner');\n",
              "      try {\n",
              "        const charts = await google.colab.kernel.invokeFunction(\n",
              "            'suggestCharts', [key], {});\n",
              "      } catch (error) {\n",
              "        console.error('Error during call to suggestCharts:', error);\n",
              "      }\n",
              "      quickchartButtonEl.classList.remove('colab-df-spinner');\n",
              "      quickchartButtonEl.classList.add('colab-df-quickchart-complete');\n",
              "    }\n",
              "    (() => {\n",
              "      let quickchartButtonEl =\n",
              "        document.querySelector('#df-4fb5862e-4131-44ae-bf9e-119fd675397b button');\n",
              "      quickchartButtonEl.style.display =\n",
              "        google.colab.kernel.accessAllowed ? 'block' : 'none';\n",
              "    })();\n",
              "  </script>\n",
              "</div>\n",
              "\n",
              "    </div>\n",
              "  </div>\n"
            ],
            "application/vnd.google.colaboratory.intrinsic+json": {
              "type": "dataframe",
              "variable_name": "df_clean"
            }
          },
          "metadata": {},
          "execution_count": 3
        }
      ]
    },
    {
      "cell_type": "code",
      "source": [
        "#Lowercase all the instances\n",
        "df_clean['POS'] = df_clean['POS'].str.lower()\n",
        "df_clean['Lemma'] = df_clean['Lemma'].str.lower()\n",
        "df_clean['Dependency_pars'] = df_clean['Dependency_pars'].str.lower()"
      ],
      "metadata": {
        "id": "t_gQPTCYIpxv"
      },
      "execution_count": 4,
      "outputs": []
    },
    {
      "cell_type": "code",
      "source": [
        "from itertools import chain\n",
        "\n",
        "# Mapping between tokens and their corresponding IDs\n",
        "def dict_map(data, word_tags):\n",
        "    token_TO_id = {}\n",
        "    id_TO_token = {}\n",
        "\n",
        "    for word_tag in word_tags:\n",
        "        if word_tag in data.columns:\n",
        "            vocab = list(set(data[word_tag].to_list()))\n",
        "\n",
        "            #Mapping dictionaries for each column\n",
        "            id_TO_token[word_tag] = {id: tok for id, tok in enumerate(vocab)}\n",
        "            token_TO_id[word_tag] = {tok: id for id, tok in enumerate(vocab)}\n",
        "\n",
        "    return token_TO_id, id_TO_token\n"
      ],
      "metadata": {
        "id": "fFrMfe2lIv8g"
      },
      "execution_count": 6,
      "outputs": []
    },
    {
      "cell_type": "code",
      "source": [
        "columns_to_map = ['Lemma', 'POS', 'Dependency_pars', 'tag']\n",
        "token_TO_id, id_TO_token = dict_map(df_clean, columns_to_map)"
      ],
      "metadata": {
        "id": "K4o5MWTGJV_U"
      },
      "execution_count": 7,
      "outputs": []
    },
    {
      "cell_type": "code",
      "source": [
        "df = df_clean.copy()\n",
        "\n",
        "#Apply mapping to the data\n",
        "df['Lemma_id'] = df['Lemma'].map(token_TO_id['Lemma'])\n",
        "df['POS_id'] = df['POS'].map(token_TO_id['POS'])\n",
        "df['Dependency_pars_id'] = df['Dependency_pars'].map(token_TO_id['Dependency_pars'])\n",
        "df['tag_id'] = df['tag'].map(token_TO_id['tag'])"
      ],
      "metadata": {
        "id": "tT0JG7d-JzIH"
      },
      "execution_count": 8,
      "outputs": []
    },
    {
      "cell_type": "code",
      "source": [
        "df.head()"
      ],
      "metadata": {
        "colab": {
          "base_uri": "https://localhost:8080/",
          "height": 206
        },
        "id": "w9Guw3e_JeNU",
        "outputId": "8924229b-3dd1-4f86-b298-e686fa74037a"
      },
      "execution_count": 9,
      "outputs": [
        {
          "output_type": "execute_result",
          "data": {
            "text/plain": [
              "   Unnamed: 0       word tag Paragraph_place    POS     Lemma Dependency_pars  \\\n",
              "0           0    Rydberg   B     A Rydberg 1  propn   rydberg        compound   \n",
              "1           1     atomic   I     A Rydberg 1    adj    atomic            amod   \n",
              "2           2    sensors   I     A Rydberg 1   noun    sensor           nsubj   \n",
              "3           3        and   I     A Rydberg 1  cconj       and              cc   \n",
              "4           4  receivers   I     A Rydberg 1   noun  receiver            conj   \n",
              "\n",
              "   Lemma_id  POS_id  Dependency_pars_id  tag_id  \n",
              "0      5854       3                  27       0  \n",
              "1      4373       8                  21       2  \n",
              "2      2025       1                   3       2  \n",
              "3       245       5                   4       2  \n",
              "4      3648       1                   9       2  "
            ],
            "text/html": [
              "\n",
              "  <div id=\"df-ad1f5ff6-1116-4bbe-b7cb-8dbe857f0ef9\" class=\"colab-df-container\">\n",
              "    <div>\n",
              "<style scoped>\n",
              "    .dataframe tbody tr th:only-of-type {\n",
              "        vertical-align: middle;\n",
              "    }\n",
              "\n",
              "    .dataframe tbody tr th {\n",
              "        vertical-align: top;\n",
              "    }\n",
              "\n",
              "    .dataframe thead th {\n",
              "        text-align: right;\n",
              "    }\n",
              "</style>\n",
              "<table border=\"1\" class=\"dataframe\">\n",
              "  <thead>\n",
              "    <tr style=\"text-align: right;\">\n",
              "      <th></th>\n",
              "      <th>Unnamed: 0</th>\n",
              "      <th>word</th>\n",
              "      <th>tag</th>\n",
              "      <th>Paragraph_place</th>\n",
              "      <th>POS</th>\n",
              "      <th>Lemma</th>\n",
              "      <th>Dependency_pars</th>\n",
              "      <th>Lemma_id</th>\n",
              "      <th>POS_id</th>\n",
              "      <th>Dependency_pars_id</th>\n",
              "      <th>tag_id</th>\n",
              "    </tr>\n",
              "  </thead>\n",
              "  <tbody>\n",
              "    <tr>\n",
              "      <th>0</th>\n",
              "      <td>0</td>\n",
              "      <td>Rydberg</td>\n",
              "      <td>B</td>\n",
              "      <td>A Rydberg 1</td>\n",
              "      <td>propn</td>\n",
              "      <td>rydberg</td>\n",
              "      <td>compound</td>\n",
              "      <td>5854</td>\n",
              "      <td>3</td>\n",
              "      <td>27</td>\n",
              "      <td>0</td>\n",
              "    </tr>\n",
              "    <tr>\n",
              "      <th>1</th>\n",
              "      <td>1</td>\n",
              "      <td>atomic</td>\n",
              "      <td>I</td>\n",
              "      <td>A Rydberg 1</td>\n",
              "      <td>adj</td>\n",
              "      <td>atomic</td>\n",
              "      <td>amod</td>\n",
              "      <td>4373</td>\n",
              "      <td>8</td>\n",
              "      <td>21</td>\n",
              "      <td>2</td>\n",
              "    </tr>\n",
              "    <tr>\n",
              "      <th>2</th>\n",
              "      <td>2</td>\n",
              "      <td>sensors</td>\n",
              "      <td>I</td>\n",
              "      <td>A Rydberg 1</td>\n",
              "      <td>noun</td>\n",
              "      <td>sensor</td>\n",
              "      <td>nsubj</td>\n",
              "      <td>2025</td>\n",
              "      <td>1</td>\n",
              "      <td>3</td>\n",
              "      <td>2</td>\n",
              "    </tr>\n",
              "    <tr>\n",
              "      <th>3</th>\n",
              "      <td>3</td>\n",
              "      <td>and</td>\n",
              "      <td>I</td>\n",
              "      <td>A Rydberg 1</td>\n",
              "      <td>cconj</td>\n",
              "      <td>and</td>\n",
              "      <td>cc</td>\n",
              "      <td>245</td>\n",
              "      <td>5</td>\n",
              "      <td>4</td>\n",
              "      <td>2</td>\n",
              "    </tr>\n",
              "    <tr>\n",
              "      <th>4</th>\n",
              "      <td>4</td>\n",
              "      <td>receivers</td>\n",
              "      <td>I</td>\n",
              "      <td>A Rydberg 1</td>\n",
              "      <td>noun</td>\n",
              "      <td>receiver</td>\n",
              "      <td>conj</td>\n",
              "      <td>3648</td>\n",
              "      <td>1</td>\n",
              "      <td>9</td>\n",
              "      <td>2</td>\n",
              "    </tr>\n",
              "  </tbody>\n",
              "</table>\n",
              "</div>\n",
              "    <div class=\"colab-df-buttons\">\n",
              "\n",
              "  <div class=\"colab-df-container\">\n",
              "    <button class=\"colab-df-convert\" onclick=\"convertToInteractive('df-ad1f5ff6-1116-4bbe-b7cb-8dbe857f0ef9')\"\n",
              "            title=\"Convert this dataframe to an interactive table.\"\n",
              "            style=\"display:none;\">\n",
              "\n",
              "  <svg xmlns=\"http://www.w3.org/2000/svg\" height=\"24px\" viewBox=\"0 -960 960 960\">\n",
              "    <path d=\"M120-120v-720h720v720H120Zm60-500h600v-160H180v160Zm220 220h160v-160H400v160Zm0 220h160v-160H400v160ZM180-400h160v-160H180v160Zm440 0h160v-160H620v160ZM180-180h160v-160H180v160Zm440 0h160v-160H620v160Z\"/>\n",
              "  </svg>\n",
              "    </button>\n",
              "\n",
              "  <style>\n",
              "    .colab-df-container {\n",
              "      display:flex;\n",
              "      gap: 12px;\n",
              "    }\n",
              "\n",
              "    .colab-df-convert {\n",
              "      background-color: #E8F0FE;\n",
              "      border: none;\n",
              "      border-radius: 50%;\n",
              "      cursor: pointer;\n",
              "      display: none;\n",
              "      fill: #1967D2;\n",
              "      height: 32px;\n",
              "      padding: 0 0 0 0;\n",
              "      width: 32px;\n",
              "    }\n",
              "\n",
              "    .colab-df-convert:hover {\n",
              "      background-color: #E2EBFA;\n",
              "      box-shadow: 0px 1px 2px rgba(60, 64, 67, 0.3), 0px 1px 3px 1px rgba(60, 64, 67, 0.15);\n",
              "      fill: #174EA6;\n",
              "    }\n",
              "\n",
              "    .colab-df-buttons div {\n",
              "      margin-bottom: 4px;\n",
              "    }\n",
              "\n",
              "    [theme=dark] .colab-df-convert {\n",
              "      background-color: #3B4455;\n",
              "      fill: #D2E3FC;\n",
              "    }\n",
              "\n",
              "    [theme=dark] .colab-df-convert:hover {\n",
              "      background-color: #434B5C;\n",
              "      box-shadow: 0px 1px 3px 1px rgba(0, 0, 0, 0.15);\n",
              "      filter: drop-shadow(0px 1px 2px rgba(0, 0, 0, 0.3));\n",
              "      fill: #FFFFFF;\n",
              "    }\n",
              "  </style>\n",
              "\n",
              "    <script>\n",
              "      const buttonEl =\n",
              "        document.querySelector('#df-ad1f5ff6-1116-4bbe-b7cb-8dbe857f0ef9 button.colab-df-convert');\n",
              "      buttonEl.style.display =\n",
              "        google.colab.kernel.accessAllowed ? 'block' : 'none';\n",
              "\n",
              "      async function convertToInteractive(key) {\n",
              "        const element = document.querySelector('#df-ad1f5ff6-1116-4bbe-b7cb-8dbe857f0ef9');\n",
              "        const dataTable =\n",
              "          await google.colab.kernel.invokeFunction('convertToInteractive',\n",
              "                                                    [key], {});\n",
              "        if (!dataTable) return;\n",
              "\n",
              "        const docLinkHtml = 'Like what you see? Visit the ' +\n",
              "          '<a target=\"_blank\" href=https://colab.research.google.com/notebooks/data_table.ipynb>data table notebook</a>'\n",
              "          + ' to learn more about interactive tables.';\n",
              "        element.innerHTML = '';\n",
              "        dataTable['output_type'] = 'display_data';\n",
              "        await google.colab.output.renderOutput(dataTable, element);\n",
              "        const docLink = document.createElement('div');\n",
              "        docLink.innerHTML = docLinkHtml;\n",
              "        element.appendChild(docLink);\n",
              "      }\n",
              "    </script>\n",
              "  </div>\n",
              "\n",
              "\n",
              "<div id=\"df-27343a0f-1857-4b9b-9c9f-a26786355f59\">\n",
              "  <button class=\"colab-df-quickchart\" onclick=\"quickchart('df-27343a0f-1857-4b9b-9c9f-a26786355f59')\"\n",
              "            title=\"Suggest charts\"\n",
              "            style=\"display:none;\">\n",
              "\n",
              "<svg xmlns=\"http://www.w3.org/2000/svg\" height=\"24px\"viewBox=\"0 0 24 24\"\n",
              "     width=\"24px\">\n",
              "    <g>\n",
              "        <path d=\"M19 3H5c-1.1 0-2 .9-2 2v14c0 1.1.9 2 2 2h14c1.1 0 2-.9 2-2V5c0-1.1-.9-2-2-2zM9 17H7v-7h2v7zm4 0h-2V7h2v10zm4 0h-2v-4h2v4z\"/>\n",
              "    </g>\n",
              "</svg>\n",
              "  </button>\n",
              "\n",
              "<style>\n",
              "  .colab-df-quickchart {\n",
              "      --bg-color: #E8F0FE;\n",
              "      --fill-color: #1967D2;\n",
              "      --hover-bg-color: #E2EBFA;\n",
              "      --hover-fill-color: #174EA6;\n",
              "      --disabled-fill-color: #AAA;\n",
              "      --disabled-bg-color: #DDD;\n",
              "  }\n",
              "\n",
              "  [theme=dark] .colab-df-quickchart {\n",
              "      --bg-color: #3B4455;\n",
              "      --fill-color: #D2E3FC;\n",
              "      --hover-bg-color: #434B5C;\n",
              "      --hover-fill-color: #FFFFFF;\n",
              "      --disabled-bg-color: #3B4455;\n",
              "      --disabled-fill-color: #666;\n",
              "  }\n",
              "\n",
              "  .colab-df-quickchart {\n",
              "    background-color: var(--bg-color);\n",
              "    border: none;\n",
              "    border-radius: 50%;\n",
              "    cursor: pointer;\n",
              "    display: none;\n",
              "    fill: var(--fill-color);\n",
              "    height: 32px;\n",
              "    padding: 0;\n",
              "    width: 32px;\n",
              "  }\n",
              "\n",
              "  .colab-df-quickchart:hover {\n",
              "    background-color: var(--hover-bg-color);\n",
              "    box-shadow: 0 1px 2px rgba(60, 64, 67, 0.3), 0 1px 3px 1px rgba(60, 64, 67, 0.15);\n",
              "    fill: var(--button-hover-fill-color);\n",
              "  }\n",
              "\n",
              "  .colab-df-quickchart-complete:disabled,\n",
              "  .colab-df-quickchart-complete:disabled:hover {\n",
              "    background-color: var(--disabled-bg-color);\n",
              "    fill: var(--disabled-fill-color);\n",
              "    box-shadow: none;\n",
              "  }\n",
              "\n",
              "  .colab-df-spinner {\n",
              "    border: 2px solid var(--fill-color);\n",
              "    border-color: transparent;\n",
              "    border-bottom-color: var(--fill-color);\n",
              "    animation:\n",
              "      spin 1s steps(1) infinite;\n",
              "  }\n",
              "\n",
              "  @keyframes spin {\n",
              "    0% {\n",
              "      border-color: transparent;\n",
              "      border-bottom-color: var(--fill-color);\n",
              "      border-left-color: var(--fill-color);\n",
              "    }\n",
              "    20% {\n",
              "      border-color: transparent;\n",
              "      border-left-color: var(--fill-color);\n",
              "      border-top-color: var(--fill-color);\n",
              "    }\n",
              "    30% {\n",
              "      border-color: transparent;\n",
              "      border-left-color: var(--fill-color);\n",
              "      border-top-color: var(--fill-color);\n",
              "      border-right-color: var(--fill-color);\n",
              "    }\n",
              "    40% {\n",
              "      border-color: transparent;\n",
              "      border-right-color: var(--fill-color);\n",
              "      border-top-color: var(--fill-color);\n",
              "    }\n",
              "    60% {\n",
              "      border-color: transparent;\n",
              "      border-right-color: var(--fill-color);\n",
              "    }\n",
              "    80% {\n",
              "      border-color: transparent;\n",
              "      border-right-color: var(--fill-color);\n",
              "      border-bottom-color: var(--fill-color);\n",
              "    }\n",
              "    90% {\n",
              "      border-color: transparent;\n",
              "      border-bottom-color: var(--fill-color);\n",
              "    }\n",
              "  }\n",
              "</style>\n",
              "\n",
              "  <script>\n",
              "    async function quickchart(key) {\n",
              "      const quickchartButtonEl =\n",
              "        document.querySelector('#' + key + ' button');\n",
              "      quickchartButtonEl.disabled = true;  // To prevent multiple clicks.\n",
              "      quickchartButtonEl.classList.add('colab-df-spinner');\n",
              "      try {\n",
              "        const charts = await google.colab.kernel.invokeFunction(\n",
              "            'suggestCharts', [key], {});\n",
              "      } catch (error) {\n",
              "        console.error('Error during call to suggestCharts:', error);\n",
              "      }\n",
              "      quickchartButtonEl.classList.remove('colab-df-spinner');\n",
              "      quickchartButtonEl.classList.add('colab-df-quickchart-complete');\n",
              "    }\n",
              "    (() => {\n",
              "      let quickchartButtonEl =\n",
              "        document.querySelector('#df-27343a0f-1857-4b9b-9c9f-a26786355f59 button');\n",
              "      quickchartButtonEl.style.display =\n",
              "        google.colab.kernel.accessAllowed ? 'block' : 'none';\n",
              "    })();\n",
              "  </script>\n",
              "</div>\n",
              "\n",
              "    </div>\n",
              "  </div>\n"
            ],
            "application/vnd.google.colaboratory.intrinsic+json": {
              "type": "dataframe",
              "variable_name": "df"
            }
          },
          "metadata": {},
          "execution_count": 9
        }
      ]
    },
    {
      "cell_type": "code",
      "source": [
        "#Group by predefined column as mark and aggregate the columns\n",
        "df_grouped = df.groupby(['Paragraph_place'], as_index=False)[['Lemma', 'tag', 'POS', 'Dependency_pars', 'Lemma_id', 'tag_id', 'POS_id', 'Dependency_pars_id']].agg(lambda x: list(x))"
      ],
      "metadata": {
        "id": "5TRdb4kwTQw6"
      },
      "execution_count": 10,
      "outputs": []
    },
    {
      "cell_type": "code",
      "source": [
        "df_grouped.head()"
      ],
      "metadata": {
        "colab": {
          "base_uri": "https://localhost:8080/",
          "height": 484
        },
        "id": "e_OU077VTdOI",
        "outputId": "e787e4e1-870a-493b-8e0f-eb6088fbb171"
      },
      "execution_count": 11,
      "outputs": [
        {
          "output_type": "execute_result",
          "data": {
            "text/plain": [
              "  Paragraph_place                                              Lemma  \\\n",
              "0     A Rydberg 1  [rydberg, atomic, sensor, and, receiver, have,...   \n",
              "1    A Rydberg 10  [the, automotive, radar, chip, present, as, th...   \n",
              "2    A Rydberg 11  [for, the, demonstration, of, the, benchmarke,...   \n",
              "3    A Rydberg 12  [next, ,, we, use, the, setup, to, estimate, t...   \n",
              "4    A Rydberg 13  [consequently, ,, we, demonstrate, that, use, ...   \n",
              "\n",
              "                                                 tag  \\\n",
              "0  [B, I, I, I, I, I, I, I, I, I, I, I, I, I, I, ...   \n",
              "1  [O, O, O, O, O, O, O, O, O, O, O, O, O, O, O, ...   \n",
              "2  [O, O, O, O, O, O, O, O, O, O, O, O, O, O, O, ...   \n",
              "3  [O, O, B, I, I, I, I, I, I, I, I, I, I, I, I, ...   \n",
              "4  [O, O, B, I, I, I, I, I, O, I, I, I, I, I, I, ...   \n",
              "\n",
              "                                                 POS  \\\n",
              "0  [propn, adj, noun, cconj, noun, aux, verb, adj...   \n",
              "1  [det, adj, noun, noun, verb, adp, det, noun, a...   \n",
              "2  [adp, det, noun, adp, det, noun, noun, punct, ...   \n",
              "3  [adv, punct, pron, verb, det, noun, adp, verb,...   \n",
              "4  [adv, punct, pron, verb, sconj, verb, det, nou...   \n",
              "\n",
              "                                     Dependency_pars  \\\n",
              "0  [compound, amod, nsubj, cc, conj, aux, root, a...   \n",
              "1  [det, amod, compound, nsubj, root, prep, det, ...   \n",
              "2  [prep, det, pobj, prep, det, amod, pobj, punct...   \n",
              "3  [advmod, punct, nsubj, root, det, pobj, prep, ...   \n",
              "4  [advmod, punct, nsubj, root, nsubjpass, advcl,...   \n",
              "\n",
              "                                            Lemma_id  \\\n",
              "0  [5854, 4373, 2025, 245, 3648, 409, 1883, 4991,...   \n",
              "1  [951, 1225, 2324, 3292, 7530, 617, 951, 1795, ...   \n",
              "2  [3744, 951, 6695, 4940, 951, 2813, 6752, 5513,...   \n",
              "3  [2815, 5513, 507, 2920, 951, 6752, 21, 7310, 9...   \n",
              "4  [4608, 5513, 507, 823, 6745, 2920, 6422, 6752,...   \n",
              "\n",
              "                                              tag_id  \\\n",
              "0  [0, 2, 2, 2, 2, 2, 2, 2, 2, 2, 2, 2, 2, 2, 2, ...   \n",
              "1  [1, 1, 1, 1, 1, 1, 1, 1, 1, 1, 1, 1, 1, 1, 1, ...   \n",
              "2  [1, 1, 1, 1, 1, 1, 1, 1, 1, 1, 1, 1, 1, 1, 1, ...   \n",
              "3  [1, 1, 0, 2, 2, 2, 2, 2, 2, 2, 2, 2, 2, 2, 2, ...   \n",
              "4  [1, 1, 0, 2, 2, 2, 2, 2, 1, 2, 2, 2, 2, 2, 2, ...   \n",
              "\n",
              "                                              POS_id  \\\n",
              "0  [3, 8, 1, 5, 1, 0, 6, 8, 5, 8, 1, 11, 3, 1, 11...   \n",
              "1  [14, 8, 1, 1, 6, 11, 14, 1, 11, 1, 11, 14, 1, ...   \n",
              "2  [11, 14, 1, 11, 14, 1, 1, 7, 16, 4, 6, 14, 8, ...   \n",
              "3  [4, 7, 16, 6, 14, 1, 11, 6, 14, 8, 1, 11, 14, ...   \n",
              "4  [4, 7, 16, 6, 9, 6, 14, 1, 7, 14, 1, 11, 3, 1,...   \n",
              "\n",
              "                                  Dependency_pars_id  \n",
              "0  [27, 21, 3, 4, 9, 14, 29, 21, 4, 9, 16, 8, 27,...  \n",
              "1  [11, 21, 27, 3, 29, 8, 11, 26, 8, 26, 8, 11, 2...  \n",
              "2  [8, 11, 26, 8, 11, 21, 26, 18, 3, 10, 29, 11, ...  \n",
              "3  [10, 18, 3, 29, 11, 26, 8, 1, 11, 21, 16, 8, 1...  \n",
              "4  [10, 18, 3, 29, 17, 1, 11, 16, 18, 11, 26, 8, ...  "
            ],
            "text/html": [
              "\n",
              "  <div id=\"df-7f520442-5419-49bf-afde-4f95b270cea8\" class=\"colab-df-container\">\n",
              "    <div>\n",
              "<style scoped>\n",
              "    .dataframe tbody tr th:only-of-type {\n",
              "        vertical-align: middle;\n",
              "    }\n",
              "\n",
              "    .dataframe tbody tr th {\n",
              "        vertical-align: top;\n",
              "    }\n",
              "\n",
              "    .dataframe thead th {\n",
              "        text-align: right;\n",
              "    }\n",
              "</style>\n",
              "<table border=\"1\" class=\"dataframe\">\n",
              "  <thead>\n",
              "    <tr style=\"text-align: right;\">\n",
              "      <th></th>\n",
              "      <th>Paragraph_place</th>\n",
              "      <th>Lemma</th>\n",
              "      <th>tag</th>\n",
              "      <th>POS</th>\n",
              "      <th>Dependency_pars</th>\n",
              "      <th>Lemma_id</th>\n",
              "      <th>tag_id</th>\n",
              "      <th>POS_id</th>\n",
              "      <th>Dependency_pars_id</th>\n",
              "    </tr>\n",
              "  </thead>\n",
              "  <tbody>\n",
              "    <tr>\n",
              "      <th>0</th>\n",
              "      <td>A Rydberg 1</td>\n",
              "      <td>[rydberg, atomic, sensor, and, receiver, have,...</td>\n",
              "      <td>[B, I, I, I, I, I, I, I, I, I, I, I, I, I, I, ...</td>\n",
              "      <td>[propn, adj, noun, cconj, noun, aux, verb, adj...</td>\n",
              "      <td>[compound, amod, nsubj, cc, conj, aux, root, a...</td>\n",
              "      <td>[5854, 4373, 2025, 245, 3648, 409, 1883, 4991,...</td>\n",
              "      <td>[0, 2, 2, 2, 2, 2, 2, 2, 2, 2, 2, 2, 2, 2, 2, ...</td>\n",
              "      <td>[3, 8, 1, 5, 1, 0, 6, 8, 5, 8, 1, 11, 3, 1, 11...</td>\n",
              "      <td>[27, 21, 3, 4, 9, 14, 29, 21, 4, 9, 16, 8, 27,...</td>\n",
              "    </tr>\n",
              "    <tr>\n",
              "      <th>1</th>\n",
              "      <td>A Rydberg 10</td>\n",
              "      <td>[the, automotive, radar, chip, present, as, th...</td>\n",
              "      <td>[O, O, O, O, O, O, O, O, O, O, O, O, O, O, O, ...</td>\n",
              "      <td>[det, adj, noun, noun, verb, adp, det, noun, a...</td>\n",
              "      <td>[det, amod, compound, nsubj, root, prep, det, ...</td>\n",
              "      <td>[951, 1225, 2324, 3292, 7530, 617, 951, 1795, ...</td>\n",
              "      <td>[1, 1, 1, 1, 1, 1, 1, 1, 1, 1, 1, 1, 1, 1, 1, ...</td>\n",
              "      <td>[14, 8, 1, 1, 6, 11, 14, 1, 11, 1, 11, 14, 1, ...</td>\n",
              "      <td>[11, 21, 27, 3, 29, 8, 11, 26, 8, 26, 8, 11, 2...</td>\n",
              "    </tr>\n",
              "    <tr>\n",
              "      <th>2</th>\n",
              "      <td>A Rydberg 11</td>\n",
              "      <td>[for, the, demonstration, of, the, benchmarke,...</td>\n",
              "      <td>[O, O, O, O, O, O, O, O, O, O, O, O, O, O, O, ...</td>\n",
              "      <td>[adp, det, noun, adp, det, noun, noun, punct, ...</td>\n",
              "      <td>[prep, det, pobj, prep, det, amod, pobj, punct...</td>\n",
              "      <td>[3744, 951, 6695, 4940, 951, 2813, 6752, 5513,...</td>\n",
              "      <td>[1, 1, 1, 1, 1, 1, 1, 1, 1, 1, 1, 1, 1, 1, 1, ...</td>\n",
              "      <td>[11, 14, 1, 11, 14, 1, 1, 7, 16, 4, 6, 14, 8, ...</td>\n",
              "      <td>[8, 11, 26, 8, 11, 21, 26, 18, 3, 10, 29, 11, ...</td>\n",
              "    </tr>\n",
              "    <tr>\n",
              "      <th>3</th>\n",
              "      <td>A Rydberg 12</td>\n",
              "      <td>[next, ,, we, use, the, setup, to, estimate, t...</td>\n",
              "      <td>[O, O, B, I, I, I, I, I, I, I, I, I, I, I, I, ...</td>\n",
              "      <td>[adv, punct, pron, verb, det, noun, adp, verb,...</td>\n",
              "      <td>[advmod, punct, nsubj, root, det, pobj, prep, ...</td>\n",
              "      <td>[2815, 5513, 507, 2920, 951, 6752, 21, 7310, 9...</td>\n",
              "      <td>[1, 1, 0, 2, 2, 2, 2, 2, 2, 2, 2, 2, 2, 2, 2, ...</td>\n",
              "      <td>[4, 7, 16, 6, 14, 1, 11, 6, 14, 8, 1, 11, 14, ...</td>\n",
              "      <td>[10, 18, 3, 29, 11, 26, 8, 1, 11, 21, 16, 8, 1...</td>\n",
              "    </tr>\n",
              "    <tr>\n",
              "      <th>4</th>\n",
              "      <td>A Rydberg 13</td>\n",
              "      <td>[consequently, ,, we, demonstrate, that, use, ...</td>\n",
              "      <td>[O, O, B, I, I, I, I, I, O, I, I, I, I, I, I, ...</td>\n",
              "      <td>[adv, punct, pron, verb, sconj, verb, det, nou...</td>\n",
              "      <td>[advmod, punct, nsubj, root, nsubjpass, advcl,...</td>\n",
              "      <td>[4608, 5513, 507, 823, 6745, 2920, 6422, 6752,...</td>\n",
              "      <td>[1, 1, 0, 2, 2, 2, 2, 2, 1, 2, 2, 2, 2, 2, 2, ...</td>\n",
              "      <td>[4, 7, 16, 6, 9, 6, 14, 1, 7, 14, 1, 11, 3, 1,...</td>\n",
              "      <td>[10, 18, 3, 29, 17, 1, 11, 16, 18, 11, 26, 8, ...</td>\n",
              "    </tr>\n",
              "  </tbody>\n",
              "</table>\n",
              "</div>\n",
              "    <div class=\"colab-df-buttons\">\n",
              "\n",
              "  <div class=\"colab-df-container\">\n",
              "    <button class=\"colab-df-convert\" onclick=\"convertToInteractive('df-7f520442-5419-49bf-afde-4f95b270cea8')\"\n",
              "            title=\"Convert this dataframe to an interactive table.\"\n",
              "            style=\"display:none;\">\n",
              "\n",
              "  <svg xmlns=\"http://www.w3.org/2000/svg\" height=\"24px\" viewBox=\"0 -960 960 960\">\n",
              "    <path d=\"M120-120v-720h720v720H120Zm60-500h600v-160H180v160Zm220 220h160v-160H400v160Zm0 220h160v-160H400v160ZM180-400h160v-160H180v160Zm440 0h160v-160H620v160ZM180-180h160v-160H180v160Zm440 0h160v-160H620v160Z\"/>\n",
              "  </svg>\n",
              "    </button>\n",
              "\n",
              "  <style>\n",
              "    .colab-df-container {\n",
              "      display:flex;\n",
              "      gap: 12px;\n",
              "    }\n",
              "\n",
              "    .colab-df-convert {\n",
              "      background-color: #E8F0FE;\n",
              "      border: none;\n",
              "      border-radius: 50%;\n",
              "      cursor: pointer;\n",
              "      display: none;\n",
              "      fill: #1967D2;\n",
              "      height: 32px;\n",
              "      padding: 0 0 0 0;\n",
              "      width: 32px;\n",
              "    }\n",
              "\n",
              "    .colab-df-convert:hover {\n",
              "      background-color: #E2EBFA;\n",
              "      box-shadow: 0px 1px 2px rgba(60, 64, 67, 0.3), 0px 1px 3px 1px rgba(60, 64, 67, 0.15);\n",
              "      fill: #174EA6;\n",
              "    }\n",
              "\n",
              "    .colab-df-buttons div {\n",
              "      margin-bottom: 4px;\n",
              "    }\n",
              "\n",
              "    [theme=dark] .colab-df-convert {\n",
              "      background-color: #3B4455;\n",
              "      fill: #D2E3FC;\n",
              "    }\n",
              "\n",
              "    [theme=dark] .colab-df-convert:hover {\n",
              "      background-color: #434B5C;\n",
              "      box-shadow: 0px 1px 3px 1px rgba(0, 0, 0, 0.15);\n",
              "      filter: drop-shadow(0px 1px 2px rgba(0, 0, 0, 0.3));\n",
              "      fill: #FFFFFF;\n",
              "    }\n",
              "  </style>\n",
              "\n",
              "    <script>\n",
              "      const buttonEl =\n",
              "        document.querySelector('#df-7f520442-5419-49bf-afde-4f95b270cea8 button.colab-df-convert');\n",
              "      buttonEl.style.display =\n",
              "        google.colab.kernel.accessAllowed ? 'block' : 'none';\n",
              "\n",
              "      async function convertToInteractive(key) {\n",
              "        const element = document.querySelector('#df-7f520442-5419-49bf-afde-4f95b270cea8');\n",
              "        const dataTable =\n",
              "          await google.colab.kernel.invokeFunction('convertToInteractive',\n",
              "                                                    [key], {});\n",
              "        if (!dataTable) return;\n",
              "\n",
              "        const docLinkHtml = 'Like what you see? Visit the ' +\n",
              "          '<a target=\"_blank\" href=https://colab.research.google.com/notebooks/data_table.ipynb>data table notebook</a>'\n",
              "          + ' to learn more about interactive tables.';\n",
              "        element.innerHTML = '';\n",
              "        dataTable['output_type'] = 'display_data';\n",
              "        await google.colab.output.renderOutput(dataTable, element);\n",
              "        const docLink = document.createElement('div');\n",
              "        docLink.innerHTML = docLinkHtml;\n",
              "        element.appendChild(docLink);\n",
              "      }\n",
              "    </script>\n",
              "  </div>\n",
              "\n",
              "\n",
              "<div id=\"df-4b0d2bbb-89a6-494a-87f1-b0bb873dee3c\">\n",
              "  <button class=\"colab-df-quickchart\" onclick=\"quickchart('df-4b0d2bbb-89a6-494a-87f1-b0bb873dee3c')\"\n",
              "            title=\"Suggest charts\"\n",
              "            style=\"display:none;\">\n",
              "\n",
              "<svg xmlns=\"http://www.w3.org/2000/svg\" height=\"24px\"viewBox=\"0 0 24 24\"\n",
              "     width=\"24px\">\n",
              "    <g>\n",
              "        <path d=\"M19 3H5c-1.1 0-2 .9-2 2v14c0 1.1.9 2 2 2h14c1.1 0 2-.9 2-2V5c0-1.1-.9-2-2-2zM9 17H7v-7h2v7zm4 0h-2V7h2v10zm4 0h-2v-4h2v4z\"/>\n",
              "    </g>\n",
              "</svg>\n",
              "  </button>\n",
              "\n",
              "<style>\n",
              "  .colab-df-quickchart {\n",
              "      --bg-color: #E8F0FE;\n",
              "      --fill-color: #1967D2;\n",
              "      --hover-bg-color: #E2EBFA;\n",
              "      --hover-fill-color: #174EA6;\n",
              "      --disabled-fill-color: #AAA;\n",
              "      --disabled-bg-color: #DDD;\n",
              "  }\n",
              "\n",
              "  [theme=dark] .colab-df-quickchart {\n",
              "      --bg-color: #3B4455;\n",
              "      --fill-color: #D2E3FC;\n",
              "      --hover-bg-color: #434B5C;\n",
              "      --hover-fill-color: #FFFFFF;\n",
              "      --disabled-bg-color: #3B4455;\n",
              "      --disabled-fill-color: #666;\n",
              "  }\n",
              "\n",
              "  .colab-df-quickchart {\n",
              "    background-color: var(--bg-color);\n",
              "    border: none;\n",
              "    border-radius: 50%;\n",
              "    cursor: pointer;\n",
              "    display: none;\n",
              "    fill: var(--fill-color);\n",
              "    height: 32px;\n",
              "    padding: 0;\n",
              "    width: 32px;\n",
              "  }\n",
              "\n",
              "  .colab-df-quickchart:hover {\n",
              "    background-color: var(--hover-bg-color);\n",
              "    box-shadow: 0 1px 2px rgba(60, 64, 67, 0.3), 0 1px 3px 1px rgba(60, 64, 67, 0.15);\n",
              "    fill: var(--button-hover-fill-color);\n",
              "  }\n",
              "\n",
              "  .colab-df-quickchart-complete:disabled,\n",
              "  .colab-df-quickchart-complete:disabled:hover {\n",
              "    background-color: var(--disabled-bg-color);\n",
              "    fill: var(--disabled-fill-color);\n",
              "    box-shadow: none;\n",
              "  }\n",
              "\n",
              "  .colab-df-spinner {\n",
              "    border: 2px solid var(--fill-color);\n",
              "    border-color: transparent;\n",
              "    border-bottom-color: var(--fill-color);\n",
              "    animation:\n",
              "      spin 1s steps(1) infinite;\n",
              "  }\n",
              "\n",
              "  @keyframes spin {\n",
              "    0% {\n",
              "      border-color: transparent;\n",
              "      border-bottom-color: var(--fill-color);\n",
              "      border-left-color: var(--fill-color);\n",
              "    }\n",
              "    20% {\n",
              "      border-color: transparent;\n",
              "      border-left-color: var(--fill-color);\n",
              "      border-top-color: var(--fill-color);\n",
              "    }\n",
              "    30% {\n",
              "      border-color: transparent;\n",
              "      border-left-color: var(--fill-color);\n",
              "      border-top-color: var(--fill-color);\n",
              "      border-right-color: var(--fill-color);\n",
              "    }\n",
              "    40% {\n",
              "      border-color: transparent;\n",
              "      border-right-color: var(--fill-color);\n",
              "      border-top-color: var(--fill-color);\n",
              "    }\n",
              "    60% {\n",
              "      border-color: transparent;\n",
              "      border-right-color: var(--fill-color);\n",
              "    }\n",
              "    80% {\n",
              "      border-color: transparent;\n",
              "      border-right-color: var(--fill-color);\n",
              "      border-bottom-color: var(--fill-color);\n",
              "    }\n",
              "    90% {\n",
              "      border-color: transparent;\n",
              "      border-bottom-color: var(--fill-color);\n",
              "    }\n",
              "  }\n",
              "</style>\n",
              "\n",
              "  <script>\n",
              "    async function quickchart(key) {\n",
              "      const quickchartButtonEl =\n",
              "        document.querySelector('#' + key + ' button');\n",
              "      quickchartButtonEl.disabled = true;  // To prevent multiple clicks.\n",
              "      quickchartButtonEl.classList.add('colab-df-spinner');\n",
              "      try {\n",
              "        const charts = await google.colab.kernel.invokeFunction(\n",
              "            'suggestCharts', [key], {});\n",
              "      } catch (error) {\n",
              "        console.error('Error during call to suggestCharts:', error);\n",
              "      }\n",
              "      quickchartButtonEl.classList.remove('colab-df-spinner');\n",
              "      quickchartButtonEl.classList.add('colab-df-quickchart-complete');\n",
              "    }\n",
              "    (() => {\n",
              "      let quickchartButtonEl =\n",
              "        document.querySelector('#df-4b0d2bbb-89a6-494a-87f1-b0bb873dee3c button');\n",
              "      quickchartButtonEl.style.display =\n",
              "        google.colab.kernel.accessAllowed ? 'block' : 'none';\n",
              "    })();\n",
              "  </script>\n",
              "</div>\n",
              "\n",
              "    </div>\n",
              "  </div>\n"
            ],
            "application/vnd.google.colaboratory.intrinsic+json": {
              "type": "dataframe",
              "variable_name": "df_grouped",
              "summary": "{\n  \"name\": \"df_grouped\",\n  \"rows\": 647,\n  \"fields\": [\n    {\n      \"column\": \"Paragraph_place\",\n      \"properties\": {\n        \"dtype\": \"string\",\n        \"num_unique_values\": 647,\n        \"samples\": [\n          \"global enviornment 12\",\n          \"Human health 84\",\n          \"School grade 21\"\n        ],\n        \"semantic_type\": \"\",\n        \"description\": \"\"\n      }\n    },\n    {\n      \"column\": \"Lemma\",\n      \"properties\": {\n        \"dtype\": \"object\",\n        \"semantic_type\": \"\",\n        \"description\": \"\"\n      }\n    },\n    {\n      \"column\": \"tag\",\n      \"properties\": {\n        \"dtype\": \"object\",\n        \"semantic_type\": \"\",\n        \"description\": \"\"\n      }\n    },\n    {\n      \"column\": \"POS\",\n      \"properties\": {\n        \"dtype\": \"object\",\n        \"semantic_type\": \"\",\n        \"description\": \"\"\n      }\n    },\n    {\n      \"column\": \"Dependency_pars\",\n      \"properties\": {\n        \"dtype\": \"object\",\n        \"semantic_type\": \"\",\n        \"description\": \"\"\n      }\n    },\n    {\n      \"column\": \"Lemma_id\",\n      \"properties\": {\n        \"dtype\": \"object\",\n        \"semantic_type\": \"\",\n        \"description\": \"\"\n      }\n    },\n    {\n      \"column\": \"tag_id\",\n      \"properties\": {\n        \"dtype\": \"object\",\n        \"semantic_type\": \"\",\n        \"description\": \"\"\n      }\n    },\n    {\n      \"column\": \"POS_id\",\n      \"properties\": {\n        \"dtype\": \"object\",\n        \"semantic_type\": \"\",\n        \"description\": \"\"\n      }\n    },\n    {\n      \"column\": \"Dependency_pars_id\",\n      \"properties\": {\n        \"dtype\": \"object\",\n        \"semantic_type\": \"\",\n        \"description\": \"\"\n      }\n    }\n  ]\n}"
            }
          },
          "metadata": {},
          "execution_count": 11
        }
      ]
    },
    {
      "cell_type": "code",
      "source": [
        "from sklearn.model_selection import train_test_split\n",
        "\n",
        "grouped = df_grouped.groupby('Paragraph_place')\n",
        "\n",
        "sizes = grouped.size().cumsum() #cumulative size\n",
        "\n",
        "train_size = 0.7 * sizes.iloc[-1]\n",
        "val_size = 0.2 * train_size\n",
        "test_size = sizes.iloc[-1] - train_size\n",
        "\n",
        "#Train, test index based on 'Paragraph_place' column\n",
        "train_idx = sizes[sizes <= train_size].index\n",
        "test_idx = sizes[sizes > train_size].index\n",
        "\n",
        "\n",
        "train_data_with_val = df_grouped[df_grouped['Paragraph_place'].isin(train_idx)]\n",
        "test_data = df_grouped[df_grouped['Paragraph_place'].isin(test_idx)]\n",
        "\n",
        "#Validation set\n",
        "train_sizes = train_data_with_val.groupby('Paragraph_place').size().cumsum()\n",
        "val_idx = train_sizes[train_sizes <= val_size].index\n",
        "final_train_idx = train_sizes[train_sizes > val_size].index\n",
        "\n",
        "val_data = train_data_with_val[train_data_with_val['Paragraph_place'].isin(val_idx)]\n",
        "train_data = train_data_with_val[train_data_with_val['Paragraph_place'].isin(final_train_idx)]"
      ],
      "metadata": {
        "id": "rlJZXJgLTf-f"
      },
      "execution_count": 12,
      "outputs": []
    },
    {
      "cell_type": "code",
      "source": [
        "#Maximum Paragh length\n",
        "Paragh_list_lemma = train_data['Lemma_id'].to_list()\n",
        "Paragh_list_POS = train_data['POS_id'].to_list()\n",
        "Paragh_list_Dep_Pars = train_data['Dependency_pars_id'].to_list()\n",
        "\n",
        "max_lenght = max([len(paragh) for paragh in Paragh_list_lemma])\n",
        "print(\"max length is %i\" %max_lenght)\n",
        "\n",
        "#Maximum Tag length\n",
        "Tag_list = train_data['tag_id'].to_list()\n",
        "max_lenght_tag = max([len(tag) for tag in Tag_list])"
      ],
      "metadata": {
        "colab": {
          "base_uri": "https://localhost:8080/"
        },
        "id": "H-MMhCGWTntJ",
        "outputId": "5b058bc3-384b-4f6a-b6ea-7949716916a9"
      },
      "execution_count": 14,
      "outputs": [
        {
          "output_type": "stream",
          "name": "stdout",
          "text": [
            "max length is 978\n"
          ]
        }
      ]
    },
    {
      "cell_type": "code",
      "source": [
        "#Padding\n",
        "from tensorflow.keras.preprocessing.sequence import pad_sequences\n",
        "from tensorflow.keras.utils import to_categorical\n",
        "\n",
        "pad_paraghs_lemma = pad_sequences(Paragh_list_lemma, maxlen= max_lenght, padding='post', value= token_TO_id['Lemma']['the'])\n",
        "pad_paraghs_POS = pad_sequences(Paragh_list_POS, maxlen= max_lenght, padding='post', value= token_TO_id['POS']['det'])\n",
        "pad_paraghs_Dep_Pars = pad_sequences(Paragh_list_Dep_Pars, maxlen= max_lenght, padding='post', value= token_TO_id['Dependency_pars']['det'])\n",
        "\n",
        "pad_tags = pad_sequences(Tag_list, maxlen=max_lenght_tag, padding='post', value=token_TO_id['tag']['O'])\n",
        "\n",
        "\n",
        "# Determine number of classes\n",
        "num_classes = len(token_TO_id['tag'])\n",
        "pad_tags = to_categorical(pad_tags, num_classes=num_classes)"
      ],
      "metadata": {
        "id": "g7p9IaP8TyEQ"
      },
      "execution_count": 15,
      "outputs": []
    },
    {
      "cell_type": "code",
      "source": [
        "import numpy as np\n",
        "\n",
        "#Combine all features to a 3D tensor\n",
        "combined_inputs = np.stack((pad_paraghs_lemma, pad_paraghs_POS, pad_paraghs_Dep_Pars), axis=1)"
      ],
      "metadata": {
        "id": "Xtf0VhzlxjHd"
      },
      "execution_count": 17,
      "outputs": []
    },
    {
      "cell_type": "code",
      "source": [
        "combined_inputs"
      ],
      "metadata": {
        "colab": {
          "base_uri": "https://localhost:8080/"
        },
        "id": "2Se-Un3XxoKb",
        "outputId": "76eb34ed-cbba-4691-ba84-82b2e09b0f12"
      },
      "execution_count": 18,
      "outputs": [
        {
          "output_type": "execute_result",
          "data": {
            "text/plain": [
              "array([[[7030,  507,  479, ...,  951,  951,  951],\n",
              "        [   4,   16,    6, ...,   14,   14,   14],\n",
              "        [  10,    3,   29, ...,   11,   11,   11]],\n",
              "\n",
              "       [[4882, 4830, 3305, ...,  951,  951,  951],\n",
              "        [  16,    1,    6, ...,   14,   14,   14],\n",
              "        [  24,    3,   29, ...,   11,   11,   11]],\n",
              "\n",
              "       [[4052, 1948, 1629, ...,  951,  951,  951],\n",
              "        [   8,    1,   11, ...,   14,   14,   14],\n",
              "        [  21,   17,    8, ...,   11,   11,   11]],\n",
              "\n",
              "       ...,\n",
              "\n",
              "       [[2869, 2446, 4940, ...,  951,  951,  951],\n",
              "        [  14,    1,   11, ...,   14,   14,   14],\n",
              "        [  11,   17,    8, ...,   11,   11,   11]],\n",
              "\n",
              "       [[4684,    6, 3199, ...,  951,  951,  951],\n",
              "        [  14,    8,    8, ...,   14,   14,   14],\n",
              "        [  11,   21,   21, ...,   11,   11,   11]],\n",
              "\n",
              "       [[4182,  409, 5812, ...,  951,  951,  951],\n",
              "        [   3,    0,    0, ...,   14,   14,   14],\n",
              "        [   3,   14,   29, ...,   11,   11,   11]]], dtype=int32)"
            ]
          },
          "metadata": {},
          "execution_count": 18
        }
      ]
    },
    {
      "cell_type": "code",
      "source": [
        "#Transpose to make the shape same as labels\n",
        "combined_inputs = combined_inputs.transpose(0, 2, 1)\n"
      ],
      "metadata": {
        "id": "uY-pumMc3IhS"
      },
      "execution_count": 19,
      "outputs": []
    },
    {
      "cell_type": "code",
      "source": [
        "train_paraghs = combined_inputs\n",
        "print ('Train shape:',train_paraghs.shape)\n",
        "\n",
        "train_tags = pad_tags\n",
        "print ('tag shape:',train_tags.shape)"
      ],
      "metadata": {
        "colab": {
          "base_uri": "https://localhost:8080/"
        },
        "id": "kftwL9y2WP2M",
        "outputId": "e3b0ce0b-7fc9-448a-a01b-1c6d230c69f5"
      },
      "execution_count": 20,
      "outputs": [
        {
          "output_type": "stream",
          "name": "stdout",
          "text": [
            "Train shape: (362, 978, 3)\n",
            "tag shape: (362, 978, 3)\n"
          ]
        }
      ]
    },
    {
      "cell_type": "code",
      "source": [
        "import numpy as np\n",
        "from tensorflow.keras import Sequential, Model, Input\n",
        "from tensorflow.keras.layers import LSTM, TimeDistributed, Dense\n",
        "from tensorflow.keras.utils import plot_model\n",
        "import tensorflow\n",
        "import gc"
      ],
      "metadata": {
        "id": "2gfItexO5BOp"
      },
      "execution_count": 21,
      "outputs": []
    },
    {
      "cell_type": "code",
      "source": [
        "input_shape = (978, 3)\n",
        "output_nodes = 3 #As we have 3 classes I, O and B\n",
        "output_dim = 32\n"
      ],
      "metadata": {
        "id": "FoK2UXTX5CV1"
      },
      "execution_count": null,
      "outputs": []
    },
    {
      "cell_type": "code",
      "source": [
        "# Clear Keras session\n",
        "tensorflow.keras.backend.clear_session()\n",
        "gc.collect()\n",
        "\n",
        "# Model definition\n",
        "input_layer = Input(shape=input_shape)\n",
        "Lstm_1 = LSTM(units=output_dim, return_sequences=True)(input_layer)\n",
        "Lstm_2 = LSTM(units=output_dim, return_sequences=True)(Lstm_1)\n",
        "output = TimeDistributed(Dense(units=output_nodes, activation='softmax'))(Lstm_2)\n",
        "\n",
        "model = Model(inputs=input_layer, outputs=output)\n",
        "model.compile(optimizer=tensorflow.keras.optimizers.RMSprop(1e-3),\n",
        "              loss=tensorflow.keras.losses.CategoricalCrossentropy(),\n",
        "              metrics=['acc'])\n",
        "\n"
      ],
      "metadata": {
        "id": "QN4ZRIwL5PDM"
      },
      "execution_count": null,
      "outputs": []
    },
    {
      "cell_type": "code",
      "source": [
        "# Summary of the model\n",
        "model.summary()"
      ],
      "metadata": {
        "colab": {
          "base_uri": "https://localhost:8080/",
          "height": 278
        },
        "id": "-L22XUrX5dWe",
        "outputId": "843a0383-7dd0-4ae7-95b0-f4728d2a36f7"
      },
      "execution_count": null,
      "outputs": [
        {
          "output_type": "display_data",
          "data": {
            "text/plain": [
              "\u001b[1mModel: \"functional\"\u001b[0m\n"
            ],
            "text/html": [
              "<pre style=\"white-space:pre;overflow-x:auto;line-height:normal;font-family:Menlo,'DejaVu Sans Mono',consolas,'Courier New',monospace\"><span style=\"font-weight: bold\">Model: \"functional\"</span>\n",
              "</pre>\n"
            ]
          },
          "metadata": {}
        },
        {
          "output_type": "display_data",
          "data": {
            "text/plain": [
              "┏━━━━━━━━━━━━━━━━━━━━━━━━━━━━━━━━━━━━━━┳━━━━━━━━━━━━━━━━━━━━━━━━━━━━━┳━━━━━━━━━━━━━━━━━┓\n",
              "┃\u001b[1m \u001b[0m\u001b[1mLayer (type)                        \u001b[0m\u001b[1m \u001b[0m┃\u001b[1m \u001b[0m\u001b[1mOutput Shape               \u001b[0m\u001b[1m \u001b[0m┃\u001b[1m \u001b[0m\u001b[1m        Param #\u001b[0m\u001b[1m \u001b[0m┃\n",
              "┡━━━━━━━━━━━━━━━━━━━━━━━━━━━━━━━━━━━━━━╇━━━━━━━━━━━━━━━━━━━━━━━━━━━━━╇━━━━━━━━━━━━━━━━━┩\n",
              "│ input_layer (\u001b[38;5;33mInputLayer\u001b[0m)             │ (\u001b[38;5;45mNone\u001b[0m, \u001b[38;5;34m978\u001b[0m, \u001b[38;5;34m3\u001b[0m)              │               \u001b[38;5;34m0\u001b[0m │\n",
              "├──────────────────────────────────────┼─────────────────────────────┼─────────────────┤\n",
              "│ lstm (\u001b[38;5;33mLSTM\u001b[0m)                          │ (\u001b[38;5;45mNone\u001b[0m, \u001b[38;5;34m978\u001b[0m, \u001b[38;5;34m32\u001b[0m)             │           \u001b[38;5;34m4,608\u001b[0m │\n",
              "├──────────────────────────────────────┼─────────────────────────────┼─────────────────┤\n",
              "│ lstm_1 (\u001b[38;5;33mLSTM\u001b[0m)                        │ (\u001b[38;5;45mNone\u001b[0m, \u001b[38;5;34m978\u001b[0m, \u001b[38;5;34m32\u001b[0m)             │           \u001b[38;5;34m8,320\u001b[0m │\n",
              "├──────────────────────────────────────┼─────────────────────────────┼─────────────────┤\n",
              "│ time_distributed (\u001b[38;5;33mTimeDistributed\u001b[0m)   │ (\u001b[38;5;45mNone\u001b[0m, \u001b[38;5;34m978\u001b[0m, \u001b[38;5;34m3\u001b[0m)              │              \u001b[38;5;34m99\u001b[0m │\n",
              "└──────────────────────────────────────┴─────────────────────────────┴─────────────────┘\n"
            ],
            "text/html": [
              "<pre style=\"white-space:pre;overflow-x:auto;line-height:normal;font-family:Menlo,'DejaVu Sans Mono',consolas,'Courier New',monospace\">┏━━━━━━━━━━━━━━━━━━━━━━━━━━━━━━━━━━━━━━┳━━━━━━━━━━━━━━━━━━━━━━━━━━━━━┳━━━━━━━━━━━━━━━━━┓\n",
              "┃<span style=\"font-weight: bold\"> Layer (type)                         </span>┃<span style=\"font-weight: bold\"> Output Shape                </span>┃<span style=\"font-weight: bold\">         Param # </span>┃\n",
              "┡━━━━━━━━━━━━━━━━━━━━━━━━━━━━━━━━━━━━━━╇━━━━━━━━━━━━━━━━━━━━━━━━━━━━━╇━━━━━━━━━━━━━━━━━┩\n",
              "│ input_layer (<span style=\"color: #0087ff; text-decoration-color: #0087ff\">InputLayer</span>)             │ (<span style=\"color: #00d7ff; text-decoration-color: #00d7ff\">None</span>, <span style=\"color: #00af00; text-decoration-color: #00af00\">978</span>, <span style=\"color: #00af00; text-decoration-color: #00af00\">3</span>)              │               <span style=\"color: #00af00; text-decoration-color: #00af00\">0</span> │\n",
              "├──────────────────────────────────────┼─────────────────────────────┼─────────────────┤\n",
              "│ lstm (<span style=\"color: #0087ff; text-decoration-color: #0087ff\">LSTM</span>)                          │ (<span style=\"color: #00d7ff; text-decoration-color: #00d7ff\">None</span>, <span style=\"color: #00af00; text-decoration-color: #00af00\">978</span>, <span style=\"color: #00af00; text-decoration-color: #00af00\">32</span>)             │           <span style=\"color: #00af00; text-decoration-color: #00af00\">4,608</span> │\n",
              "├──────────────────────────────────────┼─────────────────────────────┼─────────────────┤\n",
              "│ lstm_1 (<span style=\"color: #0087ff; text-decoration-color: #0087ff\">LSTM</span>)                        │ (<span style=\"color: #00d7ff; text-decoration-color: #00d7ff\">None</span>, <span style=\"color: #00af00; text-decoration-color: #00af00\">978</span>, <span style=\"color: #00af00; text-decoration-color: #00af00\">32</span>)             │           <span style=\"color: #00af00; text-decoration-color: #00af00\">8,320</span> │\n",
              "├──────────────────────────────────────┼─────────────────────────────┼─────────────────┤\n",
              "│ time_distributed (<span style=\"color: #0087ff; text-decoration-color: #0087ff\">TimeDistributed</span>)   │ (<span style=\"color: #00d7ff; text-decoration-color: #00d7ff\">None</span>, <span style=\"color: #00af00; text-decoration-color: #00af00\">978</span>, <span style=\"color: #00af00; text-decoration-color: #00af00\">3</span>)              │              <span style=\"color: #00af00; text-decoration-color: #00af00\">99</span> │\n",
              "└──────────────────────────────────────┴─────────────────────────────┴─────────────────┘\n",
              "</pre>\n"
            ]
          },
          "metadata": {}
        },
        {
          "output_type": "display_data",
          "data": {
            "text/plain": [
              "\u001b[1m Total params: \u001b[0m\u001b[38;5;34m13,027\u001b[0m (50.89 KB)\n"
            ],
            "text/html": [
              "<pre style=\"white-space:pre;overflow-x:auto;line-height:normal;font-family:Menlo,'DejaVu Sans Mono',consolas,'Courier New',monospace\"><span style=\"font-weight: bold\"> Total params: </span><span style=\"color: #00af00; text-decoration-color: #00af00\">13,027</span> (50.89 KB)\n",
              "</pre>\n"
            ]
          },
          "metadata": {}
        },
        {
          "output_type": "display_data",
          "data": {
            "text/plain": [
              "\u001b[1m Trainable params: \u001b[0m\u001b[38;5;34m13,027\u001b[0m (50.89 KB)\n"
            ],
            "text/html": [
              "<pre style=\"white-space:pre;overflow-x:auto;line-height:normal;font-family:Menlo,'DejaVu Sans Mono',consolas,'Courier New',monospace\"><span style=\"font-weight: bold\"> Trainable params: </span><span style=\"color: #00af00; text-decoration-color: #00af00\">13,027</span> (50.89 KB)\n",
              "</pre>\n"
            ]
          },
          "metadata": {}
        },
        {
          "output_type": "display_data",
          "data": {
            "text/plain": [
              "\u001b[1m Non-trainable params: \u001b[0m\u001b[38;5;34m0\u001b[0m (0.00 B)\n"
            ],
            "text/html": [
              "<pre style=\"white-space:pre;overflow-x:auto;line-height:normal;font-family:Menlo,'DejaVu Sans Mono',consolas,'Courier New',monospace\"><span style=\"font-weight: bold\"> Non-trainable params: </span><span style=\"color: #00af00; text-decoration-color: #00af00\">0</span> (0.00 B)\n",
              "</pre>\n"
            ]
          },
          "metadata": {}
        }
      ]
    },
    {
      "cell_type": "code",
      "source": [
        "# Validation set\n",
        "\n",
        "validation_lemma = val_data['Lemma_id'].to_list()\n",
        "validation_POS = val_data['POS_id'].to_list()\n",
        "validation_Dep_Pars = val_data['Dependency_pars_id'].to_list()\n",
        "\n",
        "validation_Tag_list = val_data['tag_id'].to_list()\n",
        "\n",
        "\n",
        "val_pad_paraghs_lemma = pad_sequences(validation_lemma, maxlen= max_lenght, padding='post', value= token_TO_id['Lemma']['the'])\n",
        "val_pad_paraghs_POS = pad_sequences(validation_POS, maxlen= max_lenght, padding='post', value= token_TO_id['POS']['det'])\n",
        "val_pad_paraghs_Dep_Pars = pad_sequences(validation_Dep_Pars, maxlen= max_lenght, padding='post', value= token_TO_id['Dependency_pars']['det'])\n",
        "\n",
        "val_pad_tags = pad_sequences(validation_Tag_list, maxlen=max_lenght, padding='post', value=token_TO_id['tag']['O'])\n",
        "\n",
        "\n",
        "# Determine number of classes\n",
        "num_classes = len(token_TO_id['tag'])\n",
        "val_pad_tags = to_categorical(val_pad_tags, num_classes=num_classes)"
      ],
      "metadata": {
        "id": "CqzbdhXG5fCx"
      },
      "execution_count": 22,
      "outputs": []
    },
    {
      "cell_type": "code",
      "source": [
        "val_combined_inputs = np.stack((val_pad_paraghs_lemma, val_pad_paraghs_POS, val_pad_paraghs_Dep_Pars), axis=1)\n",
        "\n",
        "val_combined_inputs = val_combined_inputs.transpose(0, 2, 1)"
      ],
      "metadata": {
        "id": "Xi3UkLnh7Bok"
      },
      "execution_count": 23,
      "outputs": []
    },
    {
      "cell_type": "code",
      "source": [
        "val_paraghs = combined_inputs\n",
        "print ('validation shape:',val_paraghs.shape)\n",
        "\n",
        "val_tags = pad_tags\n",
        "print ('validation tag shape:',val_tags.shape)"
      ],
      "metadata": {
        "colab": {
          "base_uri": "https://localhost:8080/"
        },
        "id": "Uw-527fT7Pu7",
        "outputId": "a2eadb71-2cb0-4159-e488-bf830c3d9223"
      },
      "execution_count": 24,
      "outputs": [
        {
          "output_type": "stream",
          "name": "stdout",
          "text": [
            "validation shape: (362, 978, 3)\n",
            "validation tag shape: (362, 978, 3)\n"
          ]
        }
      ]
    },
    {
      "cell_type": "code",
      "source": [
        "import numpy as np\n",
        "import tensorflow as tf\n",
        "from tensorflow.keras import Sequential, Model, Input\n",
        "from tensorflow.keras.layers import LSTM, TimeDistributed, Dense\n",
        "import matplotlib.pyplot as plt\n",
        "import gc\n",
        "\n",
        "# Model function based on accuracy to check further for diffrent batch sizes\n",
        "def train_model_with_batch_size(batch_size):\n",
        "    tensorflow.keras.backend.clear_session()\n",
        "    gc.collect()\n",
        "\n",
        "    input_shape = (978, 3)\n",
        "    output_nodes = 3\n",
        "    output_dim = 32\n",
        "\n",
        "    # Model architecture\n",
        "    input_layer = Input(shape=input_shape)\n",
        "    Lstm_1 = LSTM(units=output_dim, return_sequences=True)(input_layer)\n",
        "    Lstm_2 = LSTM(units=output_dim, return_sequences=True)(Lstm_1)\n",
        "    output = TimeDistributed(Dense(units=output_nodes, activation='softmax'))(Lstm_2)\n",
        "\n",
        "    model = Model(inputs=input_layer, outputs=output)\n",
        "    model.compile(optimizer=tf.keras.optimizers.RMSprop(1e-3),\n",
        "                  loss=tf.keras.losses.CategoricalCrossentropy(),\n",
        "                  metrics=['acc'])\n",
        "\n",
        "    # Training\n",
        "    history = model.fit(train_paraghs, train_tags, epochs=10,\n",
        "                        validation_data=(val_paraghs, val_tags),\n",
        "                        batch_size=batch_size, verbose=1)\n",
        "\n",
        "    return history\n"
      ],
      "metadata": {
        "id": "QNNLy-6c7Y3s"
      },
      "execution_count": null,
      "outputs": []
    },
    {
      "cell_type": "code",
      "source": [
        "#Training model with different batch sizes\n",
        "history_8 = train_model_with_batch_size(8)\n",
        "history_16 = train_model_with_batch_size(16)\n",
        "history_32 = train_model_with_batch_size(32)\n",
        "\n",
        "# Plotting\n",
        "epochs = range(1, 11)\n",
        "\n",
        "plt.plot(epochs, history_8.history['acc'], label=\"Training Accuracy (Batch Size 8)\", color='blue')\n",
        "plt.plot(epochs, history_8.history['val_acc'], label=\"Validation Accuracy (Batch Size 8)\", color='lightblue')\n",
        "\n",
        "plt.plot(epochs, history_16.history['acc'], label=\"Training Accuracy (Batch Size 16)\", color='green')\n",
        "plt.plot(epochs, history_16.history['val_acc'], label=\"Validation Accuracy (Batch Size 16)\", color='lightgreen')\n",
        "\n",
        "plt.plot(epochs, history_32.history['acc'], label=\"Training Accuracy (Batch Size 32)\", color='red')\n",
        "plt.plot(epochs, history_32.history['val_acc'], label=\"Validation Accuracy (Batch Size 32)\", color='orange')\n",
        "\n",
        "plt.title(\"Training and Validation Accuracy for Different Batch Sizes\")\n",
        "plt.xlabel(\"Epochs\")\n",
        "plt.ylabel(\"Accuracy\")\n",
        "plt.legend()\n",
        "plt.show()\n"
      ],
      "metadata": {
        "colab": {
          "base_uri": "https://localhost:8080/",
          "height": 1000
        },
        "id": "eR-9Gdv6-HyQ",
        "outputId": "70417895-a278-4122-9d71-ac32d88b2c40"
      },
      "execution_count": null,
      "outputs": [
        {
          "output_type": "stream",
          "name": "stdout",
          "text": [
            "Epoch 1/10\n",
            "\u001b[1m46/46\u001b[0m \u001b[32m━━━━━━━━━━━━━━━━━━━━\u001b[0m\u001b[37m\u001b[0m \u001b[1m157s\u001b[0m 2s/step - acc: 0.9432 - loss: 0.3815 - val_acc: 0.9403 - val_loss: 0.1495\n",
            "Epoch 2/10\n",
            "\u001b[1m46/46\u001b[0m \u001b[32m━━━━━━━━━━━━━━━━━━━━\u001b[0m\u001b[37m\u001b[0m \u001b[1m65s\u001b[0m 1s/step - acc: 0.9432 - loss: 0.1430 - val_acc: 0.9448 - val_loss: 0.1281\n",
            "Epoch 3/10\n",
            "\u001b[1m46/46\u001b[0m \u001b[32m━━━━━━━━━━━━━━━━━━━━\u001b[0m\u001b[37m\u001b[0m \u001b[1m78s\u001b[0m 1s/step - acc: 0.9416 - loss: 0.1346 - val_acc: 0.9448 - val_loss: 0.1404\n",
            "Epoch 4/10\n",
            "\u001b[1m46/46\u001b[0m \u001b[32m━━━━━━━━━━━━━━━━━━━━\u001b[0m\u001b[37m\u001b[0m \u001b[1m82s\u001b[0m 1s/step - acc: 0.9462 - loss: 0.1228 - val_acc: 0.9266 - val_loss: 0.1343\n",
            "Epoch 5/10\n",
            "\u001b[1m46/46\u001b[0m \u001b[32m━━━━━━━━━━━━━━━━━━━━\u001b[0m\u001b[37m\u001b[0m \u001b[1m85s\u001b[0m 1s/step - acc: 0.9420 - loss: 0.1276 - val_acc: 0.9447 - val_loss: 0.1261\n",
            "Epoch 6/10\n",
            "\u001b[1m46/46\u001b[0m \u001b[32m━━━━━━━━━━━━━━━━━━━━\u001b[0m\u001b[37m\u001b[0m \u001b[1m80s\u001b[0m 1s/step - acc: 0.9432 - loss: 0.1409 - val_acc: 0.9448 - val_loss: 0.1241\n",
            "Epoch 7/10\n",
            "\u001b[1m46/46\u001b[0m \u001b[32m━━━━━━━━━━━━━━━━━━━━\u001b[0m\u001b[37m\u001b[0m \u001b[1m81s\u001b[0m 1s/step - acc: 0.9444 - loss: 0.1275 - val_acc: 0.9448 - val_loss: 0.1226\n",
            "Epoch 8/10\n",
            "\u001b[1m46/46\u001b[0m \u001b[32m━━━━━━━━━━━━━━━━━━━━\u001b[0m\u001b[37m\u001b[0m \u001b[1m86s\u001b[0m 1s/step - acc: 0.9421 - loss: 0.1307 - val_acc: 0.9448 - val_loss: 0.1225\n",
            "Epoch 9/10\n",
            "\u001b[1m46/46\u001b[0m \u001b[32m━━━━━━━━━━━━━━━━━━━━\u001b[0m\u001b[37m\u001b[0m \u001b[1m62s\u001b[0m 1s/step - acc: 0.9422 - loss: 0.1273 - val_acc: 0.9448 - val_loss: 0.1264\n",
            "Epoch 10/10\n",
            "\u001b[1m46/46\u001b[0m \u001b[32m━━━━━━━━━━━━━━━━━━━━\u001b[0m\u001b[37m\u001b[0m \u001b[1m61s\u001b[0m 1s/step - acc: 0.9435 - loss: 0.1301 - val_acc: 0.9448 - val_loss: 0.1226\n",
            "Epoch 1/10\n",
            "\u001b[1m23/23\u001b[0m \u001b[32m━━━━━━━━━━━━━━━━━━━━\u001b[0m\u001b[37m\u001b[0m \u001b[1m132s\u001b[0m 2s/step - acc: 0.8076 - loss: 0.4783 - val_acc: 0.9448 - val_loss: 0.2239\n",
            "Epoch 2/10\n",
            "\u001b[1m23/23\u001b[0m \u001b[32m━━━━━━━━━━━━━━━━━━━━\u001b[0m\u001b[37m\u001b[0m \u001b[1m68s\u001b[0m 2s/step - acc: 0.9456 - loss: 0.2200 - val_acc: 0.9448 - val_loss: 0.2183\n",
            "Epoch 3/10\n",
            "\u001b[1m23/23\u001b[0m \u001b[32m━━━━━━━━━━━━━━━━━━━━\u001b[0m\u001b[37m\u001b[0m \u001b[1m40s\u001b[0m 2s/step - acc: 0.9494 - loss: 0.1990 - val_acc: 0.9447 - val_loss: 0.1775\n",
            "Epoch 4/10\n",
            "\u001b[1m23/23\u001b[0m \u001b[32m━━━━━━━━━━━━━━━━━━━━\u001b[0m\u001b[37m\u001b[0m \u001b[1m40s\u001b[0m 2s/step - acc: 0.9442 - loss: 0.2036 - val_acc: 0.9447 - val_loss: 0.1776\n",
            "Epoch 5/10\n",
            "\u001b[1m23/23\u001b[0m \u001b[32m━━━━━━━━━━━━━━━━━━━━\u001b[0m\u001b[37m\u001b[0m \u001b[1m43s\u001b[0m 2s/step - acc: 0.9423 - loss: 0.1853 - val_acc: 0.9447 - val_loss: 0.1587\n",
            "Epoch 6/10\n",
            "\u001b[1m23/23\u001b[0m \u001b[32m━━━━━━━━━━━━━━━━━━━━\u001b[0m\u001b[37m\u001b[0m \u001b[1m79s\u001b[0m 2s/step - acc: 0.9479 - loss: 0.1656 - val_acc: 0.9446 - val_loss: 0.1562\n",
            "Epoch 7/10\n",
            "\u001b[1m23/23\u001b[0m \u001b[32m━━━━━━━━━━━━━━━━━━━━\u001b[0m\u001b[37m\u001b[0m \u001b[1m44s\u001b[0m 2s/step - acc: 0.9450 - loss: 0.1621 - val_acc: 0.9398 - val_loss: 0.2020\n",
            "Epoch 8/10\n",
            "\u001b[1m23/23\u001b[0m \u001b[32m━━━━━━━━━━━━━━━━━━━━\u001b[0m\u001b[37m\u001b[0m \u001b[1m81s\u001b[0m 2s/step - acc: 0.9405 - loss: 0.1738 - val_acc: 0.9428 - val_loss: 0.2525\n",
            "Epoch 9/10\n",
            "\u001b[1m23/23\u001b[0m \u001b[32m━━━━━━━━━━━━━━━━━━━━\u001b[0m\u001b[37m\u001b[0m \u001b[1m83s\u001b[0m 2s/step - acc: 0.9434 - loss: 0.1890 - val_acc: 0.9443 - val_loss: 0.1496\n",
            "Epoch 10/10\n",
            "\u001b[1m23/23\u001b[0m \u001b[32m━━━━━━━━━━━━━━━━━━━━\u001b[0m\u001b[37m\u001b[0m \u001b[1m79s\u001b[0m 2s/step - acc: 0.9456 - loss: 0.1462 - val_acc: 0.9447 - val_loss: 0.2153\n",
            "Epoch 1/10\n",
            "\u001b[1m12/12\u001b[0m \u001b[32m━━━━━━━━━━━━━━━━━━━━\u001b[0m\u001b[37m\u001b[0m \u001b[1m125s\u001b[0m 4s/step - acc: 0.7262 - loss: 0.6655 - val_acc: 0.9448 - val_loss: 0.2449\n",
            "Epoch 2/10\n",
            "\u001b[1m12/12\u001b[0m \u001b[32m━━━━━━━━━━━━━━━━━━━━\u001b[0m\u001b[37m\u001b[0m \u001b[1m72s\u001b[0m 3s/step - acc: 0.9416 - loss: 0.2431 - val_acc: 0.9448 - val_loss: 0.1981\n",
            "Epoch 3/10\n",
            "\u001b[1m12/12\u001b[0m \u001b[32m━━━━━━━━━━━━━━━━━━━━\u001b[0m\u001b[37m\u001b[0m \u001b[1m36s\u001b[0m 3s/step - acc: 0.9441 - loss: 0.2138 - val_acc: 0.9445 - val_loss: 0.1553\n",
            "Epoch 4/10\n",
            "\u001b[1m12/12\u001b[0m \u001b[32m━━━━━━━━━━━━━━━━━━━━\u001b[0m\u001b[37m\u001b[0m \u001b[1m33s\u001b[0m 3s/step - acc: 0.9453 - loss: 0.1494 - val_acc: 0.9445 - val_loss: 0.1360\n",
            "Epoch 5/10\n",
            "\u001b[1m12/12\u001b[0m \u001b[32m━━━━━━━━━━━━━━━━━━━━\u001b[0m\u001b[37m\u001b[0m \u001b[1m31s\u001b[0m 3s/step - acc: 0.9491 - loss: 0.1271 - val_acc: 0.9444 - val_loss: 0.1305\n",
            "Epoch 6/10\n",
            "\u001b[1m12/12\u001b[0m \u001b[32m━━━━━━━━━━━━━━━━━━━━\u001b[0m\u001b[37m\u001b[0m \u001b[1m42s\u001b[0m 3s/step - acc: 0.9427 - loss: 0.1343 - val_acc: 0.9444 - val_loss: 0.1277\n",
            "Epoch 7/10\n",
            "\u001b[1m12/12\u001b[0m \u001b[32m━━━━━━━━━━━━━━━━━━━━\u001b[0m\u001b[37m\u001b[0m \u001b[1m44s\u001b[0m 3s/step - acc: 0.9442 - loss: 0.1279 - val_acc: 0.9444 - val_loss: 0.1297\n",
            "Epoch 8/10\n",
            "\u001b[1m12/12\u001b[0m \u001b[32m━━━━━━━━━━━━━━━━━━━━\u001b[0m\u001b[37m\u001b[0m \u001b[1m34s\u001b[0m 2s/step - acc: 0.9465 - loss: 0.1233 - val_acc: 0.9439 - val_loss: 0.1290\n",
            "Epoch 9/10\n",
            "\u001b[1m12/12\u001b[0m \u001b[32m━━━━━━━━━━━━━━━━━━━━\u001b[0m\u001b[37m\u001b[0m \u001b[1m27s\u001b[0m 2s/step - acc: 0.9428 - loss: 0.1285 - val_acc: 0.9442 - val_loss: 0.1243\n",
            "Epoch 10/10\n",
            "\u001b[1m12/12\u001b[0m \u001b[32m━━━━━━━━━━━━━━━━━━━━\u001b[0m\u001b[37m\u001b[0m \u001b[1m46s\u001b[0m 3s/step - acc: 0.9415 - loss: 0.1283 - val_acc: 0.9448 - val_loss: 0.1247\n"
          ]
        },
        {
          "output_type": "display_data",
          "data": {
            "text/plain": [
              "<Figure size 640x480 with 1 Axes>"
            ],
            "image/png": "[encoded data removed]"
          },
          "metadata": {}
        }
      ]
    },
    {
      "cell_type": "markdown",
      "source": [
        "## Random serach on all features"
      ],
      "metadata": {
        "id": "of3HzTOJcR5e"
      }
    },
    {
      "cell_type": "code",
      "source": [
        "pip install keras-tuner"
      ],
      "metadata": {
        "colab": {
          "base_uri": "https://localhost:8080/"
        },
        "id": "X0Pi4B8NHEka",
        "outputId": "f98f09d0-bae0-4fbb-fb11-31182757c8c0"
      },
      "execution_count": 25,
      "outputs": [
        {
          "output_type": "stream",
          "name": "stdout",
          "text": [
            "Collecting keras-tuner\n",
            "  Downloading keras_tuner-1.4.7-py3-none-any.whl.metadata (5.4 kB)\n",
            "Requirement already satisfied: keras in /usr/local/lib/python3.10/dist-packages (from keras-tuner) (3.4.1)\n",
            "Requirement already satisfied: packaging in /usr/local/lib/python3.10/dist-packages (from keras-tuner) (24.1)\n",
            "Requirement already satisfied: requests in /usr/local/lib/python3.10/dist-packages (from keras-tuner) (2.32.3)\n",
            "Collecting kt-legacy (from keras-tuner)\n",
            "  Downloading kt_legacy-1.0.5-py3-none-any.whl.metadata (221 bytes)\n",
            "Requirement already satisfied: absl-py in /usr/local/lib/python3.10/dist-packages (from keras->keras-tuner) (1.4.0)\n",
            "Requirement already satisfied: numpy in /usr/local/lib/python3.10/dist-packages (from keras->keras-tuner) (1.26.4)\n",
            "Requirement already satisfied: rich in /usr/local/lib/python3.10/dist-packages (from keras->keras-tuner) (13.7.1)\n",
            "Requirement already satisfied: namex in /usr/local/lib/python3.10/dist-packages (from keras->keras-tuner) (0.0.8)\n",
            "Requirement already satisfied: h5py in /usr/local/lib/python3.10/dist-packages (from keras->keras-tuner) (3.11.0)\n",
            "Requirement already satisfied: optree in /usr/local/lib/python3.10/dist-packages (from keras->keras-tuner) (0.12.1)\n",
            "Requirement already satisfied: ml-dtypes in /usr/local/lib/python3.10/dist-packages (from keras->keras-tuner) (0.4.0)\n",
            "Requirement already satisfied: charset-normalizer<4,>=2 in /usr/local/lib/python3.10/dist-packages (from requests->keras-tuner) (3.3.2)\n",
            "Requirement already satisfied: idna<4,>=2.5 in /usr/local/lib/python3.10/dist-packages (from requests->keras-tuner) (3.7)\n",
            "Requirement already satisfied: urllib3<3,>=1.21.1 in /usr/local/lib/python3.10/dist-packages (from requests->keras-tuner) (2.0.7)\n",
            "Requirement already satisfied: certifi>=2017.4.17 in /usr/local/lib/python3.10/dist-packages (from requests->keras-tuner) (2024.7.4)\n",
            "Requirement already satisfied: typing-extensions>=4.5.0 in /usr/local/lib/python3.10/dist-packages (from optree->keras->keras-tuner) (4.12.2)\n",
            "Requirement already satisfied: markdown-it-py>=2.2.0 in /usr/local/lib/python3.10/dist-packages (from rich->keras->keras-tuner) (3.0.0)\n",
            "Requirement already satisfied: pygments<3.0.0,>=2.13.0 in /usr/local/lib/python3.10/dist-packages (from rich->keras->keras-tuner) (2.16.1)\n",
            "Requirement already satisfied: mdurl~=0.1 in /usr/local/lib/python3.10/dist-packages (from markdown-it-py>=2.2.0->rich->keras->keras-tuner) (0.1.2)\n",
            "Downloading keras_tuner-1.4.7-py3-none-any.whl (129 kB)\n",
            "\u001b[2K   \u001b[90m━━━━━━━━━━━━━━━━━━━━━━━━━━━━━━━━━━━━━━━━\u001b[0m \u001b[32m129.1/129.1 kB\u001b[0m \u001b[31m4.1 MB/s\u001b[0m eta \u001b[36m0:00:00\u001b[0m\n",
            "\u001b[?25hDownloading kt_legacy-1.0.5-py3-none-any.whl (9.6 kB)\n",
            "Installing collected packages: kt-legacy, keras-tuner\n",
            "Successfully installed keras-tuner-1.4.7 kt-legacy-1.0.5\n"
          ]
        }
      ]
    },
    {
      "cell_type": "code",
      "source": [
        "import tensorflow as tf\n",
        "from tensorflow.keras.models import Model\n",
        "from tensorflow.keras.layers import Input, Embedding, LSTM, Dense, TimeDistributed\n",
        "from tensorflow.keras.optimizers import RMSprop, Adam, Nadam, Adagrad, Adadelta\n",
        "from tensorflow.keras.losses import CategoricalCrossentropy\n",
        "from keras_tuner import RandomSearch\n",
        "from keras_tuner.engine.hyperparameters import HyperParameters\n",
        "from tensorflow.keras import backend as K\n",
        "import keras_tuner as kt"
      ],
      "metadata": {
        "id": "9sot_YfPHLeP"
      },
      "execution_count": 26,
      "outputs": []
    },
    {
      "cell_type": "code",
      "source": [
        "# Define custom F1 score metric\n",
        "def recall_m(y_true, y_pred):\n",
        "    true_positives = K.sum(K.round(K.clip(y_true * y_pred, 0, 1)))\n",
        "    possible_positives = K.sum(K.round(K.clip(y_true, 0, 1)))\n",
        "    recall = true_positives / (possible_positives + K.epsilon())\n",
        "    return recall\n",
        "\n",
        "def precision_m(y_true, y_pred):\n",
        "    true_positives = K.sum(K.round(K.clip(y_true * y_pred, 0, 1)))\n",
        "    predicted_positives = K.sum(K.round(K.clip(y_pred, 0, 1)))\n",
        "    precision = true_positives / (predicted_positives + K.epsilon())\n",
        "    return precision\n",
        "\n",
        "def f1_m(y_true, y_pred):\n",
        "    precision = precision_m(y_true, y_pred)\n",
        "    recall = recall_m(y_true, y_pred)\n",
        "    return 2 * ((precision * recall) / (precision + recall + K.epsilon()))"
      ],
      "metadata": {
        "id": "nNV5UOJOHFsL"
      },
      "execution_count": 27,
      "outputs": []
    },
    {
      "cell_type": "markdown",
      "source": [
        "In the next cell, we also added L2 regularization to avoid the overfitting problems that happened in the previous attempt on the lemmatized version of the word."
      ],
      "metadata": {
        "id": "6JSON81ccpz3"
      }
    },
    {
      "cell_type": "code",
      "source": [
        "import keras_tuner as kt\n",
        "from tensorflow.keras import Model, Input\n",
        "from tensorflow.keras.layers import LSTM, TimeDistributed, Dense\n",
        "from tensorflow.keras.optimizers import Adam, RMSprop, Nadam, Adagrad, Adadelta\n",
        "from tensorflow.keras.losses import CategoricalCrossentropy\n",
        "from tensorflow.keras.regularizers import l2\n",
        "\n",
        "def build_model(hp):\n",
        "\n",
        "    input_layer = Input(shape=(978, 3))\n",
        "\n",
        "    # L2 regularization\n",
        "    l2_reg = hp.Float('l2_regularization', min_value=1e-5, max_value=1e-1, sampling='log')\n",
        "\n",
        "    # LSTM layers + L2\n",
        "    lstm_units = hp.Int('lstm_units', min_value=8, max_value=64, step=16)\n",
        "\n",
        "    Lstm_1 = LSTM(units=lstm_units, return_sequences=True,\n",
        "                  kernel_regularizer=l2(l2_reg))(input_layer)\n",
        "    Lstm_2 = LSTM(units=lstm_units, return_sequences=True,\n",
        "                  kernel_regularizer=l2(l2_reg))(Lstm_1)\n",
        "\n",
        "    # Output layer\n",
        "    output = TimeDistributed(Dense(units=3, activation='softmax'))(Lstm_2)\n",
        "\n",
        "    model = Model(inputs=input_layer, outputs=output)\n",
        "\n",
        "    #optimizers and learning rates\n",
        "    optimizer_choice = hp.Choice('optimizer', ['Adam', 'RMSprop', 'Nadam', 'Adagrad', 'Adadelta'])\n",
        "    learning_rate = hp.Float('learning_rate', 1e-4, 1e-2, sampling='log')\n",
        "\n",
        "    if optimizer_choice == 'Adam':\n",
        "        optimizer = Adam(learning_rate=learning_rate)\n",
        "    elif optimizer_choice == 'RMSprop':\n",
        "        optimizer = RMSprop(learning_rate=learning_rate)\n",
        "    elif optimizer_choice == 'Nadam':\n",
        "        optimizer = Nadam(learning_rate=learning_rate)\n",
        "    elif optimizer_choice == 'Adagrad':\n",
        "        optimizer = Adagrad(learning_rate=learning_rate)\n",
        "    else:\n",
        "        optimizer = Adadelta(learning_rate=learning_rate)\n",
        "\n",
        "    model.compile(optimizer=optimizer, loss=CategoricalCrossentropy(), metrics=[f1_m])\n",
        "\n",
        "    return model"
      ],
      "metadata": {
        "id": "PlfkZvgrHKG_"
      },
      "execution_count": 28,
      "outputs": []
    },
    {
      "cell_type": "code",
      "source": [
        "# Define the objective\n",
        "objective = kt.Objective(\"val_f1_m\", direction=\"max\")\n",
        "\n",
        "random_search_tuner = kt.RandomSearch(\n",
        "    build_model, objective=objective, max_trials=20,\n",
        "    directory=(r\"/content/drive/MyDrive/Final Project/Field Project/NER - IOB\"),\n",
        "    project_name=\"LSTM_Allfeature_random_sequence\", seed=42)\n"
      ],
      "metadata": {
        "id": "JWn0_yQTIVyW"
      },
      "execution_count": 29,
      "outputs": []
    },
    {
      "cell_type": "code",
      "source": [
        "validation_data = (val_paraghs, val_tags) #Validation set"
      ],
      "metadata": {
        "id": "UTLpWRCgJL5w"
      },
      "execution_count": 30,
      "outputs": []
    },
    {
      "cell_type": "code",
      "source": [
        "random_search_tuner.search(train_paraghs, train_tags, epochs=10,\n",
        "                           validation_data=validation_data, batch_size = 16, verbose=1,\n",
        "                           callbacks=[tf.keras.callbacks.EarlyStopping(monitor='val_f1_m', mode='max', patience=3)])\n",
        "\n"
      ],
      "metadata": {
        "colab": {
          "base_uri": "https://localhost:8080/"
        },
        "id": "exec8SUqJP2d",
        "outputId": "6a6a9af0-438c-4e69-d68e-320f5a2adeb5"
      },
      "execution_count": 31,
      "outputs": [
        {
          "output_type": "stream",
          "name": "stdout",
          "text": [
            "Trial 20 Complete [00h 01m 34s]\n",
            "val_f1_m: 0.9439899325370789\n",
            "\n",
            "Best val_f1_m So Far: 0.9442136287689209\n",
            "Total elapsed time: 00h 31m 18s\n"
          ]
        }
      ]
    },
    {
      "cell_type": "code",
      "source": [
        "import matplotlib.pyplot as plt\n",
        "\n",
        "random_search_result = random_search_tuner.get_best_models(num_models=1)[0]\n",
        "\n",
        "# Train the best model\n",
        "history = random_search_result.fit(train_paraghs, train_tags, epochs=30,\n",
        "                validation_data=validation_data, batch_size = 16, verbose=1,\n",
        "                callbacks=[tf.keras.callbacks.EarlyStopping(monitor='val_f1_m', mode='max', patience=10)])\n",
        "\n",
        "f1 = history.history[\"f1_m\"]\n",
        "val_f1 = history.history[\"val_f1_m\"]\n",
        "\n",
        "# Plotting\n",
        "epochs = range(1, len(f1) + 1)\n",
        "\n",
        "plt.plot(epochs, f1, label=\"Training F1\")\n",
        "plt.plot(epochs, val_f1, label=\"Validation F1\")\n",
        "plt.title(\"Training and Validation F1 Score\")\n",
        "plt.xlabel(\"Epochs\")\n",
        "plt.ylabel(\"F1 Score\")\n",
        "plt.legend()\n",
        "plt.show()"
      ],
      "metadata": {
        "colab": {
          "base_uri": "https://localhost:8080/",
          "height": 921
        },
        "id": "xFJSeQf-QonF",
        "outputId": "740452a8-b83e-46d3-c70d-72936b932b1d"
      },
      "execution_count": 32,
      "outputs": [
        {
          "output_type": "stream",
          "name": "stdout",
          "text": [
            "Epoch 1/30\n"
          ]
        },
        {
          "output_type": "stream",
          "name": "stderr",
          "text": [
            "/usr/local/lib/python3.10/dist-packages/keras/src/saving/saving_lib.py:576: UserWarning: Skipping variable loading for optimizer 'rmsprop', because it has 2 variables whereas the saved optimizer has 10 variables. \n",
            "  saveable.load_own_variables(weights_store.get(inner_path))\n"
          ]
        },
        {
          "output_type": "stream",
          "name": "stdout",
          "text": [
            "\u001b[1m23/23\u001b[0m \u001b[32m━━━━━━━━━━━━━━━━━━━━\u001b[0m\u001b[37m\u001b[0m \u001b[1m62s\u001b[0m 632ms/step - f1_m: 0.9460 - loss: 0.3994 - val_f1_m: 0.9441 - val_loss: 0.3653\n",
            "Epoch 2/30\n",
            "\u001b[1m23/23\u001b[0m \u001b[32m━━━━━━━━━━━━━━━━━━━━\u001b[0m\u001b[37m\u001b[0m \u001b[1m5s\u001b[0m 212ms/step - f1_m: 0.9435 - loss: 0.3598 - val_f1_m: 0.9441 - val_loss: 0.3327\n",
            "Epoch 3/30\n",
            "\u001b[1m23/23\u001b[0m \u001b[32m━━━━━━━━━━━━━━━━━━━━\u001b[0m\u001b[37m\u001b[0m \u001b[1m5s\u001b[0m 209ms/step - f1_m: 0.9476 - loss: 0.3191 - val_f1_m: 0.9438 - val_loss: 0.3057\n",
            "Epoch 4/30\n",
            "\u001b[1m23/23\u001b[0m \u001b[32m━━━━━━━━━━━━━━━━━━━━\u001b[0m\u001b[37m\u001b[0m \u001b[1m5s\u001b[0m 208ms/step - f1_m: 0.9446 - loss: 0.2958 - val_f1_m: 0.9436 - val_loss: 0.2753\n",
            "Epoch 5/30\n",
            "\u001b[1m23/23\u001b[0m \u001b[32m━━━━━━━━━━━━━━━━━━━━\u001b[0m\u001b[37m\u001b[0m \u001b[1m5s\u001b[0m 210ms/step - f1_m: 0.9418 - loss: 0.2831 - val_f1_m: 0.9420 - val_loss: 0.2602\n",
            "Epoch 6/30\n",
            "\u001b[1m23/23\u001b[0m \u001b[32m━━━━━━━━━━━━━━━━━━━━\u001b[0m\u001b[37m\u001b[0m \u001b[1m5s\u001b[0m 206ms/step - f1_m: 0.9457 - loss: 0.2473 - val_f1_m: 0.9435 - val_loss: 0.2326\n",
            "Epoch 7/30\n",
            "\u001b[1m23/23\u001b[0m \u001b[32m━━━━━━━━━━━━━━━━━━━━\u001b[0m\u001b[37m\u001b[0m \u001b[1m5s\u001b[0m 207ms/step - f1_m: 0.9442 - loss: 0.2399 - val_f1_m: 0.9426 - val_loss: 0.2214\n",
            "Epoch 8/30\n",
            "\u001b[1m23/23\u001b[0m \u001b[32m━━━━━━━━━━━━━━━━━━━━\u001b[0m\u001b[37m\u001b[0m \u001b[1m5s\u001b[0m 209ms/step - f1_m: 0.9460 - loss: 0.2275 - val_f1_m: 0.9432 - val_loss: 0.2304\n",
            "Epoch 9/30\n",
            "\u001b[1m23/23\u001b[0m \u001b[32m━━━━━━━━━━━━━━━━━━━━\u001b[0m\u001b[37m\u001b[0m \u001b[1m5s\u001b[0m 205ms/step - f1_m: 0.9426 - loss: 0.2294 - val_f1_m: 0.9435 - val_loss: 0.2080\n",
            "Epoch 10/30\n",
            "\u001b[1m23/23\u001b[0m \u001b[32m━━━━━━━━━━━━━━━━━━━━\u001b[0m\u001b[37m\u001b[0m \u001b[1m5s\u001b[0m 207ms/step - f1_m: 0.9424 - loss: 0.2169 - val_f1_m: 0.9439 - val_loss: 0.1900\n",
            "Epoch 11/30\n",
            "\u001b[1m23/23\u001b[0m \u001b[32m━━━━━━━━━━━━━━━━━━━━\u001b[0m\u001b[37m\u001b[0m \u001b[1m5s\u001b[0m 208ms/step - f1_m: 0.9457 - loss: 0.2014 - val_f1_m: 0.9440 - val_loss: 0.2042\n"
          ]
        },
        {
          "output_type": "display_data",
          "data": {
            "text/plain": [
              "<Figure size 640x480 with 1 Axes>"
            ],
            "image/png": "[encoded data removed]"
          },
          "metadata": {}
        }
      ]
    },
    {
      "cell_type": "code",
      "source": [
        "#Save the model\n",
        "random_search_result.save(r\"/content/drive/MyDrive/Final Project/Field Project/NER - IOB/Randoms_search_allfeatures_1.h5\")"
      ],
      "metadata": {
        "id": "JWlX9uGuL3Aa",
        "colab": {
          "base_uri": "https://localhost:8080/"
        },
        "outputId": "f39147e5-3e72-4737-c5e4-0004e8a8ed81"
      },
      "execution_count": 33,
      "outputs": [
        {
          "output_type": "stream",
          "name": "stderr",
          "text": [
            "WARNING:absl:You are saving your model as an HDF5 file via `model.save()` or `keras.saving.save_model(model)`. This file format is considered legacy. We recommend using instead the native Keras format, e.g. `model.save('my_model.keras')` or `keras.saving.save_model(model, 'my_model.keras')`. \n"
          ]
        }
      ]
    },
    {
      "cell_type": "code",
      "source": [
        "# Test set\n",
        "\n",
        "test_lemma = test_data['Lemma_id'].to_list()\n",
        "test_POS = test_data['POS_id'].to_list()\n",
        "test_Dep_Pars = test_data['Dependency_pars_id'].to_list()\n",
        "\n",
        "test_Tag_list = test_data['tag_id'].to_list()\n",
        "\n",
        "\n",
        "test_pad_paraghs_lemma = pad_sequences(test_lemma, maxlen= max_lenght, padding='post', value= token_TO_id['Lemma']['the'])\n",
        "test_pad_paraghs_POS = pad_sequences(test_POS, maxlen= max_lenght, padding='post', value= token_TO_id['POS']['det'])\n",
        "test_pad_paraghs_Dep_Pars = pad_sequences(test_Dep_Pars, maxlen= max_lenght, padding='post', value= token_TO_id['Dependency_pars']['det'])\n",
        "\n",
        "test_pad_tags = pad_sequences(test_Tag_list, maxlen=max_lenght, padding='post', value=token_TO_id['tag']['O'])\n",
        "\n",
        "\n",
        "# Determine number of classes\n",
        "num_classes = len(token_TO_id['tag'])\n",
        "test_pad_tags = to_categorical(test_pad_tags, num_classes=num_classes)\n",
        "\n",
        "test_combined_inputs = np.stack((test_pad_paraghs_lemma, test_pad_paraghs_POS, test_pad_paraghs_Dep_Pars), axis=1)\n",
        "\n",
        "test_combined_inputs = test_combined_inputs.transpose(0, 2, 1)"
      ],
      "metadata": {
        "id": "zERHHo5PP8Vv"
      },
      "execution_count": 34,
      "outputs": []
    },
    {
      "cell_type": "code",
      "source": [
        "test_paraghs = test_combined_inputs\n",
        "test_tags = test_pad_tags"
      ],
      "metadata": {
        "id": "dtzmRC0KSajn"
      },
      "execution_count": 35,
      "outputs": []
    },
    {
      "cell_type": "code",
      "source": [
        "# Prediction\n",
        "predicted_tags_test = random_search_result.predict(test_paraghs)\n",
        "\n",
        "predicted_tag_indices = np.argmax(predicted_tags_test, axis=-1)\n",
        "true_tag_indices = np.argmax(test_tags, axis=-1)\n",
        "\n",
        "predicted_tag_indices_flat = predicted_tag_indices.flatten()\n",
        "true_tag_indices_flat = true_tag_indices.flatten()\n",
        "\n",
        "#calculate F1-score & accuracy\n",
        "from sklearn.metrics import f1_score, accuracy_score, classification_report, confusion_matrix\n",
        "\n",
        "f1 = f1_score(true_tag_indices_flat, predicted_tag_indices_flat, average='weighted')\n",
        "accuracy = accuracy_score(true_tag_indices_flat, predicted_tag_indices_flat)\n",
        "\n",
        "print(f\"Test F1 Score: {f1:.4f}\")\n",
        "print(f\"Test Accuracy: {accuracy:.4f}\")\n",
        "\n",
        "#classification report\n",
        "print(\"Classification Report:\")\n",
        "print(classification_report(true_tag_indices_flat, predicted_tag_indices_flat))#, target_names=list(token_TO_id.keys())))\n",
        "\n",
        "# Confusion matrix\n",
        "conf_matrix = confusion_matrix(true_tag_indices_flat, predicted_tag_indices_flat)\n",
        "print (\"Confusion Matrix:\")\n",
        "print(conf_matrix)"
      ],
      "metadata": {
        "colab": {
          "base_uri": "https://localhost:8080/"
        },
        "id": "i-C8G5eQSo7_",
        "outputId": "c696c4cc-a63c-4db5-d5c3-fa94b56e0184"
      },
      "execution_count": 38,
      "outputs": [
        {
          "output_type": "stream",
          "name": "stdout",
          "text": [
            "\u001b[1m7/7\u001b[0m \u001b[32m━━━━━━━━━━━━━━━━━━━━\u001b[0m\u001b[37m\u001b[0m \u001b[1m0s\u001b[0m 57ms/step\n",
            "Test F1 Score: 0.9175\n",
            "Test Accuracy: 0.9445\n",
            "Classification Report:\n",
            "              precision    recall  f1-score   support\n",
            "\n",
            "           0       0.00      0.00      0.00       986\n",
            "           1       0.94      1.00      0.97    180117\n",
            "           2       0.00      0.00      0.00      9607\n",
            "\n",
            "    accuracy                           0.94    190710\n",
            "   macro avg       0.31      0.33      0.32    190710\n",
            "weighted avg       0.89      0.94      0.92    190710\n",
            "\n",
            "Confusion Matrix:\n",
            "[[     0    986      0]\n",
            " [     0 180117      0]\n",
            " [     0   9607      0]]\n"
          ]
        },
        {
          "output_type": "stream",
          "name": "stderr",
          "text": [
            "/usr/local/lib/python3.10/dist-packages/sklearn/metrics/_classification.py:1471: UndefinedMetricWarning: Precision and F-score are ill-defined and being set to 0.0 in labels with no predicted samples. Use `zero_division` parameter to control this behavior.\n",
            "  _warn_prf(average, modifier, msg_start, len(result))\n",
            "/usr/local/lib/python3.10/dist-packages/sklearn/metrics/_classification.py:1471: UndefinedMetricWarning: Precision and F-score are ill-defined and being set to 0.0 in labels with no predicted samples. Use `zero_division` parameter to control this behavior.\n",
            "  _warn_prf(average, modifier, msg_start, len(result))\n",
            "/usr/local/lib/python3.10/dist-packages/sklearn/metrics/_classification.py:1471: UndefinedMetricWarning: Precision and F-score are ill-defined and being set to 0.0 in labels with no predicted samples. Use `zero_division` parameter to control this behavior.\n",
            "  _warn_prf(average, modifier, msg_start, len(result))\n"
          ]
        }
      ]
    },
    {
      "cell_type": "markdown",
      "source": [
        "Same as before, the model did not learn and labelled every instance with the bigger class."
      ],
      "metadata": {
        "id": "UgtTfW-edAjk"
      }
    },
    {
      "cell_type": "code",
      "source": [
        "!pip freeze > requirements.txt"
      ],
      "metadata": {
        "id": "N-7pgJVJY6q1"
      },
      "execution_count": 39,
      "outputs": []
    }
  ]
}